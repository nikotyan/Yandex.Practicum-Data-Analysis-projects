{
 "cells": [
  {
   "cell_type": "markdown",
   "metadata": {
    "collapsed": true
   },
   "source": [
    "# Исследование рынка общественного питания в Москве"
   ]
  },
  {
   "cell_type": "markdown",
   "metadata": {},
   "source": [
    "Требуется провести исследование о заведениях общественного питания в Москве для инвесторов, которые хотят вложить деньги в новое кафе"
   ]
  },
  {
   "cell_type": "markdown",
   "metadata": {},
   "source": [
    "### Описание данных"
   ]
  },
  {
   "cell_type": "markdown",
   "metadata": {},
   "source": [
    "Информация о точках общественного питания:\n",
    "- название объекта общественного питания;  \n",
    "- является ли объект частью сети (да/нет);  \n",
    "- тип объекта общественного питания;  \n",
    "- адрес;  \n",
    "- количество посадочных мест."
   ]
  },
  {
   "cell_type": "markdown",
   "metadata": {},
   "source": [
    "### План проекта:  \n",
    "[Шаг 1. Загрузка данных и подготовка к анализу](#step1)\n",
    "\n",
    "[Шаг 2. Анализ данных](#step2)  \n",
    "- [Исследуйте соотношение видов объектов общественного питания по количеству. Постройте график.](#step2.1)\n",
    "- [Исследуйте соотношение сетевых и несетевых заведений по количеству. Постройте график.](#step2.2)\n",
    "- [Для какого вида объекта общественного питания характерно сетевое распространение?](#step2.3)\n",
    "- [Что характерно для сетевых заведений: много заведений с небольшим числом посадочных мест в каждом или мало заведений с большим количеством посадочных мест?](#step2.4)\n",
    "- [Для каждого вида объекта общественного питания опишите среднее количество посадочных мест. Какой вид предоставляет в среднем самое большое количество посадочных мест? Постройте графики](#step2.5)\n",
    "- [Выделите в отдельный столбец информацию об улице из столбца address .](#step2.6)\n",
    "- [Постройте график топ-10 улиц по количеству объектов общественного питания. Воспользуйтесь внешней информацией и ответьте на вопрос — в каких районах Москвы находятся эти улицы?](#step2.7)\n",
    "- [Найдите число улиц с одним объектом общественного питания. Воспользуйтесь внешней информацией и ответьте на вопрос — в каких районах Москвы находятся эти улицы?](#step2.8)\n",
    "- [Посмотрите на распределение количества посадочных мест для улиц с большим количеством объектов общественного питания. Какие закономерности можно выявить?](#step2.9)\n",
    "- [Сделайте общий вывод и дайте рекомендации о виде заведения, количестве посадочных мест, а также месте расположения. Прокомментируйте возможность развития сети.](#step2.10)  \n",
    "\n",
    "[Шаг 3. Подготовка презентации](#step3)"
   ]
  },
  {
   "cell_type": "markdown",
   "metadata": {},
   "source": [
    "### <a id=\"step1\"> Шаг 1. Загрузка данных и подготовка к анализу</a>"
   ]
  },
  {
   "cell_type": "markdown",
   "metadata": {},
   "source": [
    "Напишем функцию для пути файла, чтобы файл открывался и на локальном компьютере, и в практикуме"
   ]
  },
  {
   "cell_type": "code",
   "execution_count": 2,
   "metadata": {},
   "outputs": [],
   "source": [
    "import os\n",
    "def try_path(path):\n",
    "    if os.path.exists(path):\n",
    "        return path\n",
    "    else:\n",
    "        return \".\" + path"
   ]
  },
  {
   "cell_type": "markdown",
   "metadata": {},
   "source": [
    "Подключим библиотеки, которые нам потребуются в дальнейшем"
   ]
  },
  {
   "cell_type": "code",
   "execution_count": 3,
   "metadata": {},
   "outputs": [],
   "source": [
    "import pandas as pd\n",
    "import numpy as np\n",
    "import seaborn as sns\n",
    "from matplotlib import pyplot as plt\n",
    "from io import BytesIO\n",
    "\n",
    "import requests\n",
    "\n",
    "from IPython.display import display"
   ]
  },
  {
   "cell_type": "markdown",
   "metadata": {},
   "source": [
    "Поставим параметр максимальное количество выводимых строк - 300 и максимальное количество символов в выводе - 500"
   ]
  },
  {
   "cell_type": "code",
   "execution_count": 4,
   "metadata": {},
   "outputs": [],
   "source": [
    "pd.set_option('display.max_rows', 300)\n",
    "pd.options.display.max_colwidth = 500"
   ]
  },
  {
   "cell_type": "markdown",
   "metadata": {},
   "source": [
    "Зададим цветовую палитру для графиков"
   ]
  },
  {
   "cell_type": "code",
   "execution_count": 5,
   "metadata": {},
   "outputs": [],
   "source": [
    "sns.set_palette('pastel')"
   ]
  },
  {
   "cell_type": "markdown",
   "metadata": {},
   "source": [
    "Создадим dataframe c информаций об объектах питания. Посмотрим 5 случайных записей из него"
   ]
  },
  {
   "cell_type": "code",
   "execution_count": 6,
   "metadata": {},
   "outputs": [
    {
     "data": {
      "text/html": [
       "<div>\n",
       "<style scoped>\n",
       "    .dataframe tbody tr th:only-of-type {\n",
       "        vertical-align: middle;\n",
       "    }\n",
       "\n",
       "    .dataframe tbody tr th {\n",
       "        vertical-align: top;\n",
       "    }\n",
       "\n",
       "    .dataframe thead th {\n",
       "        text-align: right;\n",
       "    }\n",
       "</style>\n",
       "<table border=\"1\" class=\"dataframe\">\n",
       "  <thead>\n",
       "    <tr style=\"text-align: right;\">\n",
       "      <th></th>\n",
       "      <th>id</th>\n",
       "      <th>object_name</th>\n",
       "      <th>chain</th>\n",
       "      <th>object_type</th>\n",
       "      <th>address</th>\n",
       "      <th>number</th>\n",
       "    </tr>\n",
       "  </thead>\n",
       "  <tbody>\n",
       "    <tr>\n",
       "      <td>2959</td>\n",
       "      <td>21523</td>\n",
       "      <td>Столовая при школе</td>\n",
       "      <td>нет</td>\n",
       "      <td>столовая</td>\n",
       "      <td>город Москва, Клинская улица, дом 24</td>\n",
       "      <td>80</td>\n",
       "    </tr>\n",
       "    <tr>\n",
       "      <td>8727</td>\n",
       "      <td>128312</td>\n",
       "      <td>Бургер Кинг</td>\n",
       "      <td>да</td>\n",
       "      <td>предприятие быстрого обслуживания</td>\n",
       "      <td>город Москва, Головинское шоссе, дом 5, корпус 1</td>\n",
       "      <td>45</td>\n",
       "    </tr>\n",
       "    <tr>\n",
       "      <td>10188</td>\n",
       "      <td>170093</td>\n",
       "      <td>GRAND УРЮК</td>\n",
       "      <td>да</td>\n",
       "      <td>ресторан</td>\n",
       "      <td>город Москва, Ленинградский проспект, дом 37Б</td>\n",
       "      <td>96</td>\n",
       "    </tr>\n",
       "    <tr>\n",
       "      <td>15104</td>\n",
       "      <td>209238</td>\n",
       "      <td>Бургер Кинг</td>\n",
       "      <td>да</td>\n",
       "      <td>кафе</td>\n",
       "      <td>город Москва, улица Земляной Вал, дом 33</td>\n",
       "      <td>20</td>\n",
       "    </tr>\n",
       "    <tr>\n",
       "      <td>12240</td>\n",
       "      <td>192548</td>\n",
       "      <td>Маковка</td>\n",
       "      <td>нет</td>\n",
       "      <td>кафетерий</td>\n",
       "      <td>город Москва, Сокольническая площадь, дом 4А</td>\n",
       "      <td>2</td>\n",
       "    </tr>\n",
       "  </tbody>\n",
       "</table>\n",
       "</div>"
      ],
      "text/plain": [
       "           id         object_name chain                        object_type  \\\n",
       "2959    21523  Столовая при школе   нет                           столовая   \n",
       "8727   128312         Бургер Кинг    да  предприятие быстрого обслуживания   \n",
       "10188  170093          GRAND УРЮК    да                           ресторан   \n",
       "15104  209238         Бургер Кинг    да                               кафе   \n",
       "12240  192548             Маковка   нет                          кафетерий   \n",
       "\n",
       "                                                address  number  \n",
       "2959               город Москва, Клинская улица, дом 24      80  \n",
       "8727   город Москва, Головинское шоссе, дом 5, корпус 1      45  \n",
       "10188     город Москва, Ленинградский проспект, дом 37Б      96  \n",
       "15104          город Москва, улица Земляной Вал, дом 33      20  \n",
       "12240      город Москва, Сокольническая площадь, дом 4А       2  "
      ]
     },
     "execution_count": 6,
     "metadata": {},
     "output_type": "execute_result"
    }
   ],
   "source": [
    "df = pd.read_csv(try_path('/datasets/rest_data.csv'))\n",
    "df.sample(5)"
   ]
  },
  {
   "cell_type": "markdown",
   "metadata": {},
   "source": [
    "Посмотрим информацию о таблице. "
   ]
  },
  {
   "cell_type": "code",
   "execution_count": 7,
   "metadata": {},
   "outputs": [
    {
     "name": "stdout",
     "output_type": "stream",
     "text": [
      "<class 'pandas.core.frame.DataFrame'>\n",
      "RangeIndex: 15366 entries, 0 to 15365\n",
      "Data columns (total 6 columns):\n",
      "id             15366 non-null int64\n",
      "object_name    15366 non-null object\n",
      "chain          15366 non-null object\n",
      "object_type    15366 non-null object\n",
      "address        15366 non-null object\n",
      "number         15366 non-null int64\n",
      "dtypes: int64(2), object(4)\n",
      "memory usage: 720.4+ KB\n"
     ]
    }
   ],
   "source": [
    "df.info()"
   ]
  },
  {
   "cell_type": "markdown",
   "metadata": {},
   "source": [
    "Объем данных - 13566 записей. Пропущенных значений нет. Все типы данных корректны кроме значения chain. В chain хранятся значения \"нет\" или \"да\" в зависимости от того является ли ресторан сетевым. Заменим значения на True/False для более удобной работы в дальнейшем, к тому же хранение булевых значений займет меньше места"
   ]
  },
  {
   "cell_type": "markdown",
   "metadata": {},
   "source": [
    "Проверим не хранится ли в колонке chain что-то кроме значений нет/да"
   ]
  },
  {
   "cell_type": "code",
   "execution_count": 8,
   "metadata": {},
   "outputs": [
    {
     "data": {
      "text/plain": [
       "array(['нет', 'да'], dtype=object)"
      ]
     },
     "execution_count": 8,
     "metadata": {},
     "output_type": "execute_result"
    }
   ],
   "source": [
    "df['chain'].unique()"
   ]
  },
  {
   "cell_type": "markdown",
   "metadata": {},
   "source": [
    "Никаких значений кроме \"нет\" и \"да\" в колонке chain нет. Заменим значения в этой колонке на True/False и приведем к булевому типу"
   ]
  },
  {
   "cell_type": "code",
   "execution_count": 9,
   "metadata": {},
   "outputs": [
    {
     "data": {
      "text/html": [
       "<div>\n",
       "<style scoped>\n",
       "    .dataframe tbody tr th:only-of-type {\n",
       "        vertical-align: middle;\n",
       "    }\n",
       "\n",
       "    .dataframe tbody tr th {\n",
       "        vertical-align: top;\n",
       "    }\n",
       "\n",
       "    .dataframe thead th {\n",
       "        text-align: right;\n",
       "    }\n",
       "</style>\n",
       "<table border=\"1\" class=\"dataframe\">\n",
       "  <thead>\n",
       "    <tr style=\"text-align: right;\">\n",
       "      <th></th>\n",
       "      <th>id</th>\n",
       "      <th>object_name</th>\n",
       "      <th>chain</th>\n",
       "      <th>object_type</th>\n",
       "      <th>address</th>\n",
       "      <th>number</th>\n",
       "    </tr>\n",
       "  </thead>\n",
       "  <tbody>\n",
       "    <tr>\n",
       "      <td>0</td>\n",
       "      <td>151635</td>\n",
       "      <td>СМЕТАНА</td>\n",
       "      <td>False</td>\n",
       "      <td>кафе</td>\n",
       "      <td>город Москва, улица Егора Абакумова, дом 9</td>\n",
       "      <td>48</td>\n",
       "    </tr>\n",
       "    <tr>\n",
       "      <td>1</td>\n",
       "      <td>77874</td>\n",
       "      <td>Родник</td>\n",
       "      <td>False</td>\n",
       "      <td>кафе</td>\n",
       "      <td>город Москва, улица Талалихина, дом 2/1, корпус 1</td>\n",
       "      <td>35</td>\n",
       "    </tr>\n",
       "    <tr>\n",
       "      <td>2</td>\n",
       "      <td>24309</td>\n",
       "      <td>Кафе «Академия»</td>\n",
       "      <td>False</td>\n",
       "      <td>кафе</td>\n",
       "      <td>город Москва, Абельмановская улица, дом 6</td>\n",
       "      <td>95</td>\n",
       "    </tr>\n",
       "    <tr>\n",
       "      <td>3</td>\n",
       "      <td>21894</td>\n",
       "      <td>ПИЦЦЕТОРИЯ</td>\n",
       "      <td>True</td>\n",
       "      <td>кафе</td>\n",
       "      <td>город Москва, Абрамцевская улица, дом 1</td>\n",
       "      <td>40</td>\n",
       "    </tr>\n",
       "    <tr>\n",
       "      <td>4</td>\n",
       "      <td>119365</td>\n",
       "      <td>Кафе «Вишневая метель»</td>\n",
       "      <td>False</td>\n",
       "      <td>кафе</td>\n",
       "      <td>город Москва, Абрамцевская улица, дом 9, корпус 1</td>\n",
       "      <td>50</td>\n",
       "    </tr>\n",
       "  </tbody>\n",
       "</table>\n",
       "</div>"
      ],
      "text/plain": [
       "       id             object_name  chain object_type  \\\n",
       "0  151635                 СМЕТАНА  False        кафе   \n",
       "1   77874                  Родник  False        кафе   \n",
       "2   24309         Кафе «Академия»  False        кафе   \n",
       "3   21894              ПИЦЦЕТОРИЯ   True        кафе   \n",
       "4  119365  Кафе «Вишневая метель»  False        кафе   \n",
       "\n",
       "                                             address  number  \n",
       "0         город Москва, улица Егора Абакумова, дом 9      48  \n",
       "1  город Москва, улица Талалихина, дом 2/1, корпус 1      35  \n",
       "2          город Москва, Абельмановская улица, дом 6      95  \n",
       "3            город Москва, Абрамцевская улица, дом 1      40  \n",
       "4  город Москва, Абрамцевская улица, дом 9, корпус 1      50  "
      ]
     },
     "metadata": {},
     "output_type": "display_data"
    },
    {
     "data": {
      "text/plain": [
       "dtype('bool')"
      ]
     },
     "metadata": {},
     "output_type": "display_data"
    }
   ],
   "source": [
    "df['chain'] = df['chain'].map({'нет': False, 'да': True})\n",
    "df['chain'] = df['chain'].astype('bool')\n",
    "display(df.head())\n",
    "display(df['chain'].dtype)"
   ]
  },
  {
   "cell_type": "markdown",
   "metadata": {},
   "source": [
    "Посмотрим какие типы общественного питания есть. Нет ли там каких-то ошибок"
   ]
  },
  {
   "cell_type": "code",
   "execution_count": 10,
   "metadata": {},
   "outputs": [
    {
     "data": {
      "text/plain": [
       "array(['кафе', 'столовая', 'закусочная',\n",
       "       'предприятие быстрого обслуживания', 'ресторан', 'кафетерий',\n",
       "       'буфет', 'бар', 'магазин (отдел кулинарии)'], dtype=object)"
      ]
     },
     "execution_count": 10,
     "metadata": {},
     "output_type": "execute_result"
    }
   ],
   "source": [
    "df['object_type'].unique()"
   ]
  },
  {
   "cell_type": "markdown",
   "metadata": {},
   "source": [
    "Все названия выглядят корректно"
   ]
  },
  {
   "cell_type": "markdown",
   "metadata": {},
   "source": [
    "Все типы данных корректны"
   ]
  },
  {
   "cell_type": "markdown",
   "metadata": {},
   "source": [
    "Посмотрим на значения в поле number. Нет ли там некорректных данных"
   ]
  },
  {
   "cell_type": "code",
   "execution_count": 11,
   "metadata": {},
   "outputs": [
    {
     "data": {
      "text/plain": [
       "count    15366.000000\n",
       "mean        59.547182\n",
       "std         74.736833\n",
       "min          0.000000\n",
       "25%         12.000000\n",
       "50%         40.000000\n",
       "75%         80.000000\n",
       "max       1700.000000\n",
       "Name: number, dtype: float64"
      ]
     },
     "execution_count": 11,
     "metadata": {},
     "output_type": "execute_result"
    }
   ],
   "source": [
    "df['number'].describe()"
   ]
  },
  {
   "cell_type": "markdown",
   "metadata": {},
   "source": [
    "Есть подозрительные значения.  Нулевая вместимость и вместимость в 1700 человек. Посмотрим на эти записи"
   ]
  },
  {
   "cell_type": "code",
   "execution_count": 12,
   "metadata": {},
   "outputs": [
    {
     "data": {
      "text/html": [
       "<div>\n",
       "<style scoped>\n",
       "    .dataframe tbody tr th:only-of-type {\n",
       "        vertical-align: middle;\n",
       "    }\n",
       "\n",
       "    .dataframe tbody tr th {\n",
       "        vertical-align: top;\n",
       "    }\n",
       "\n",
       "    .dataframe thead th {\n",
       "        text-align: right;\n",
       "    }\n",
       "</style>\n",
       "<table border=\"1\" class=\"dataframe\">\n",
       "  <thead>\n",
       "    <tr style=\"text-align: right;\">\n",
       "      <th></th>\n",
       "      <th>id</th>\n",
       "      <th>object_name</th>\n",
       "      <th>chain</th>\n",
       "      <th>object_type</th>\n",
       "      <th>address</th>\n",
       "      <th>number</th>\n",
       "    </tr>\n",
       "  </thead>\n",
       "  <tbody>\n",
       "    <tr>\n",
       "      <td>12723</td>\n",
       "      <td>199696</td>\n",
       "      <td>Arena by Soho Family</td>\n",
       "      <td>False</td>\n",
       "      <td>бар</td>\n",
       "      <td>город Москва, Кутузовский проспект, дом 36, строение 11</td>\n",
       "      <td>1700</td>\n",
       "    </tr>\n",
       "  </tbody>\n",
       "</table>\n",
       "</div>"
      ],
      "text/plain": [
       "           id           object_name  chain object_type  \\\n",
       "12723  199696  Arena by Soho Family  False         бар   \n",
       "\n",
       "                                                       address  number  \n",
       "12723  город Москва, Кутузовский проспект, дом 36, строение 11    1700  "
      ]
     },
     "metadata": {},
     "output_type": "display_data"
    },
    {
     "data": {
      "text/html": [
       "<div>\n",
       "<style scoped>\n",
       "    .dataframe tbody tr th:only-of-type {\n",
       "        vertical-align: middle;\n",
       "    }\n",
       "\n",
       "    .dataframe tbody tr th {\n",
       "        vertical-align: top;\n",
       "    }\n",
       "\n",
       "    .dataframe thead th {\n",
       "        text-align: right;\n",
       "    }\n",
       "</style>\n",
       "<table border=\"1\" class=\"dataframe\">\n",
       "  <thead>\n",
       "    <tr style=\"text-align: right;\">\n",
       "      <th></th>\n",
       "      <th>id</th>\n",
       "      <th>object_name</th>\n",
       "      <th>chain</th>\n",
       "      <th>object_type</th>\n",
       "      <th>address</th>\n",
       "      <th>number</th>\n",
       "    </tr>\n",
       "  </thead>\n",
       "  <tbody>\n",
       "    <tr>\n",
       "      <td>137</td>\n",
       "      <td>115498</td>\n",
       "      <td>Пекарня &amp; Донер</td>\n",
       "      <td>False</td>\n",
       "      <td>закусочная</td>\n",
       "      <td>город Москва, Бутырская улица, дом 9, корпус 2</td>\n",
       "      <td>0</td>\n",
       "    </tr>\n",
       "    <tr>\n",
       "      <td>154</td>\n",
       "      <td>152556</td>\n",
       "      <td>Шаурма в пите</td>\n",
       "      <td>False</td>\n",
       "      <td>предприятие быстрого обслуживания</td>\n",
       "      <td>город Москва, Варшавское шоссе, дом 72, корпус 2</td>\n",
       "      <td>0</td>\n",
       "    </tr>\n",
       "    <tr>\n",
       "      <td>157</td>\n",
       "      <td>149568</td>\n",
       "      <td>Суши</td>\n",
       "      <td>False</td>\n",
       "      <td>предприятие быстрого обслуживания</td>\n",
       "      <td>город Москва, улица Маршала Василевского, дом 3, корпус 1</td>\n",
       "      <td>0</td>\n",
       "    </tr>\n",
       "    <tr>\n",
       "      <td>190</td>\n",
       "      <td>126956</td>\n",
       "      <td>Шаурма, куры-гриль</td>\n",
       "      <td>False</td>\n",
       "      <td>предприятие быстрого обслуживания</td>\n",
       "      <td>город Москва, 1-я Владимирская улица, дом 21</td>\n",
       "      <td>0</td>\n",
       "    </tr>\n",
       "    <tr>\n",
       "      <td>195</td>\n",
       "      <td>149531</td>\n",
       "      <td>Шаурма, куры-гриль</td>\n",
       "      <td>False</td>\n",
       "      <td>предприятие быстрого обслуживания</td>\n",
       "      <td>город Москва, 2-я Владимирская улица, дом 44/10</td>\n",
       "      <td>0</td>\n",
       "    </tr>\n",
       "  </tbody>\n",
       "</table>\n",
       "</div>"
      ],
      "text/plain": [
       "         id         object_name  chain                        object_type  \\\n",
       "137  115498     Пекарня & Донер  False                         закусочная   \n",
       "154  152556       Шаурма в пите  False  предприятие быстрого обслуживания   \n",
       "157  149568                Суши  False  предприятие быстрого обслуживания   \n",
       "190  126956  Шаурма, куры-гриль  False  предприятие быстрого обслуживания   \n",
       "195  149531  Шаурма, куры-гриль  False  предприятие быстрого обслуживания   \n",
       "\n",
       "                                                       address  number  \n",
       "137             город Москва, Бутырская улица, дом 9, корпус 2       0  \n",
       "154           город Москва, Варшавское шоссе, дом 72, корпус 2       0  \n",
       "157  город Москва, улица Маршала Василевского, дом 3, корпус 1       0  \n",
       "190               город Москва, 1-я Владимирская улица, дом 21       0  \n",
       "195            город Москва, 2-я Владимирская улица, дом 44/10       0  "
      ]
     },
     "metadata": {},
     "output_type": "display_data"
    }
   ],
   "source": [
    "display(df.query('number == 1700').head())\n",
    "display(df.query('number == 0').head())"
   ]
  },
  {
   "cell_type": "markdown",
   "metadata": {},
   "source": [
    "Место с 1700 мест - концертная площадка с баром и это объясняют такую большую вместимость. Посмотрим в каких типах заведений нет посадочных мест"
   ]
  },
  {
   "cell_type": "code",
   "execution_count": 13,
   "metadata": {},
   "outputs": [
    {
     "data": {
      "text/plain": [
       "предприятие быстрого обслуживания    704\n",
       "кафе                                 310\n",
       "закусочная                           189\n",
       "магазин (отдел кулинарии)            145\n",
       "кафетерий                            113\n",
       "буфет                                 68\n",
       "ресторан                              45\n",
       "бар                                   28\n",
       "столовая                              19\n",
       "Name: object_type, dtype: int64"
      ]
     },
     "execution_count": 13,
     "metadata": {},
     "output_type": "execute_result"
    }
   ],
   "source": [
    "df.query('number == 0')['object_type'].value_counts()"
   ]
  },
  {
   "cell_type": "markdown",
   "metadata": {},
   "source": [
    "Для предприятий быстрого обслуживания, закусочных, кулинарий, буфетов - это ожидаемо. Посмотрим на другие типы"
   ]
  },
  {
   "cell_type": "code",
   "execution_count": 14,
   "metadata": {},
   "outputs": [
    {
     "data": {
      "text/html": [
       "<div>\n",
       "<style scoped>\n",
       "    .dataframe tbody tr th:only-of-type {\n",
       "        vertical-align: middle;\n",
       "    }\n",
       "\n",
       "    .dataframe tbody tr th {\n",
       "        vertical-align: top;\n",
       "    }\n",
       "\n",
       "    .dataframe thead th {\n",
       "        text-align: right;\n",
       "    }\n",
       "</style>\n",
       "<table border=\"1\" class=\"dataframe\">\n",
       "  <thead>\n",
       "    <tr style=\"text-align: right;\">\n",
       "      <th></th>\n",
       "      <th>id</th>\n",
       "      <th>object_name</th>\n",
       "      <th>chain</th>\n",
       "      <th>object_type</th>\n",
       "      <th>address</th>\n",
       "      <th>number</th>\n",
       "    </tr>\n",
       "  </thead>\n",
       "  <tbody>\n",
       "    <tr>\n",
       "      <td>577</td>\n",
       "      <td>149220</td>\n",
       "      <td>Кофейня «Кофе Хаус»</td>\n",
       "      <td>True</td>\n",
       "      <td>кафе</td>\n",
       "      <td>город Москва, Павелецкая площадь, дом 1А, строение 1</td>\n",
       "      <td>0</td>\n",
       "    </tr>\n",
       "    <tr>\n",
       "      <td>802</td>\n",
       "      <td>142581</td>\n",
       "      <td>Кофе Энигма</td>\n",
       "      <td>False</td>\n",
       "      <td>кафе</td>\n",
       "      <td>город Москва, Овчинниковская набережная, дом 22/24, строение 1</td>\n",
       "      <td>0</td>\n",
       "    </tr>\n",
       "    <tr>\n",
       "      <td>1148</td>\n",
       "      <td>155495</td>\n",
       "      <td>Суши Wok</td>\n",
       "      <td>True</td>\n",
       "      <td>кафе</td>\n",
       "      <td>город Москва, Таганская улица, дом 31/22</td>\n",
       "      <td>0</td>\n",
       "    </tr>\n",
       "    <tr>\n",
       "      <td>2750</td>\n",
       "      <td>152207</td>\n",
       "      <td>Правда кофе</td>\n",
       "      <td>False</td>\n",
       "      <td>кафе</td>\n",
       "      <td>город Москва, Нижняя Красносельская улица, дом 5, строение 1</td>\n",
       "      <td>0</td>\n",
       "    </tr>\n",
       "    <tr>\n",
       "      <td>2995</td>\n",
       "      <td>156171</td>\n",
       "      <td>ДонерОК</td>\n",
       "      <td>False</td>\n",
       "      <td>кафе</td>\n",
       "      <td>город Москва, Кронштадтский бульвар, дом 3, строение 3</td>\n",
       "      <td>0</td>\n",
       "    </tr>\n",
       "  </tbody>\n",
       "</table>\n",
       "</div>"
      ],
      "text/plain": [
       "          id          object_name  chain object_type  \\\n",
       "577   149220  Кофейня «Кофе Хаус»   True        кафе   \n",
       "802   142581          Кофе Энигма  False        кафе   \n",
       "1148  155495             Суши Wok   True        кафе   \n",
       "2750  152207          Правда кофе  False        кафе   \n",
       "2995  156171              ДонерОК  False        кафе   \n",
       "\n",
       "                                                             address  number  \n",
       "577             город Москва, Павелецкая площадь, дом 1А, строение 1       0  \n",
       "802   город Москва, Овчинниковская набережная, дом 22/24, строение 1       0  \n",
       "1148                        город Москва, Таганская улица, дом 31/22       0  \n",
       "2750    город Москва, Нижняя Красносельская улица, дом 5, строение 1       0  \n",
       "2995          город Москва, Кронштадтский бульвар, дом 3, строение 3       0  "
      ]
     },
     "metadata": {},
     "output_type": "display_data"
    },
    {
     "data": {
      "text/html": [
       "<div>\n",
       "<style scoped>\n",
       "    .dataframe tbody tr th:only-of-type {\n",
       "        vertical-align: middle;\n",
       "    }\n",
       "\n",
       "    .dataframe tbody tr th {\n",
       "        vertical-align: top;\n",
       "    }\n",
       "\n",
       "    .dataframe thead th {\n",
       "        text-align: right;\n",
       "    }\n",
       "</style>\n",
       "<table border=\"1\" class=\"dataframe\">\n",
       "  <thead>\n",
       "    <tr style=\"text-align: right;\">\n",
       "      <th></th>\n",
       "      <th>id</th>\n",
       "      <th>object_name</th>\n",
       "      <th>chain</th>\n",
       "      <th>object_type</th>\n",
       "      <th>address</th>\n",
       "      <th>number</th>\n",
       "    </tr>\n",
       "  </thead>\n",
       "  <tbody>\n",
       "    <tr>\n",
       "      <td>1873</td>\n",
       "      <td>79718</td>\n",
       "      <td>Макдоналдс</td>\n",
       "      <td>True</td>\n",
       "      <td>ресторан</td>\n",
       "      <td>город Москва, поселение Московский, деревня Говорово, дом 1Б/Н</td>\n",
       "      <td>0</td>\n",
       "    </tr>\n",
       "    <tr>\n",
       "      <td>4490</td>\n",
       "      <td>152298</td>\n",
       "      <td>Фудмаркет. Яшечкина</td>\n",
       "      <td>False</td>\n",
       "      <td>ресторан</td>\n",
       "      <td>город Москва, улица Новый Арбат, дом 21</td>\n",
       "      <td>0</td>\n",
       "    </tr>\n",
       "    <tr>\n",
       "      <td>4491</td>\n",
       "      <td>152299</td>\n",
       "      <td>Фудмаркет. Грачева</td>\n",
       "      <td>False</td>\n",
       "      <td>ресторан</td>\n",
       "      <td>город Москва, улица Новый Арбат, дом 21</td>\n",
       "      <td>0</td>\n",
       "    </tr>\n",
       "    <tr>\n",
       "      <td>4492</td>\n",
       "      <td>152305</td>\n",
       "      <td>Фудмаркет. Шапиро</td>\n",
       "      <td>False</td>\n",
       "      <td>ресторан</td>\n",
       "      <td>город Москва, улица Новый Арбат, дом 21</td>\n",
       "      <td>0</td>\n",
       "    </tr>\n",
       "    <tr>\n",
       "      <td>4493</td>\n",
       "      <td>152307</td>\n",
       "      <td>Фудмаркет. Салпагарова</td>\n",
       "      <td>False</td>\n",
       "      <td>ресторан</td>\n",
       "      <td>город Москва, улица Новый Арбат, дом 21</td>\n",
       "      <td>0</td>\n",
       "    </tr>\n",
       "  </tbody>\n",
       "</table>\n",
       "</div>"
      ],
      "text/plain": [
       "          id             object_name  chain object_type  \\\n",
       "1873   79718              Макдоналдс   True    ресторан   \n",
       "4490  152298     Фудмаркет. Яшечкина  False    ресторан   \n",
       "4491  152299      Фудмаркет. Грачева  False    ресторан   \n",
       "4492  152305       Фудмаркет. Шапиро  False    ресторан   \n",
       "4493  152307  Фудмаркет. Салпагарова  False    ресторан   \n",
       "\n",
       "                                                             address  number  \n",
       "1873  город Москва, поселение Московский, деревня Говорово, дом 1Б/Н       0  \n",
       "4490                         город Москва, улица Новый Арбат, дом 21       0  \n",
       "4491                         город Москва, улица Новый Арбат, дом 21       0  \n",
       "4492                         город Москва, улица Новый Арбат, дом 21       0  \n",
       "4493                         город Москва, улица Новый Арбат, дом 21       0  "
      ]
     },
     "metadata": {},
     "output_type": "display_data"
    },
    {
     "data": {
      "text/html": [
       "<div>\n",
       "<style scoped>\n",
       "    .dataframe tbody tr th:only-of-type {\n",
       "        vertical-align: middle;\n",
       "    }\n",
       "\n",
       "    .dataframe tbody tr th {\n",
       "        vertical-align: top;\n",
       "    }\n",
       "\n",
       "    .dataframe thead th {\n",
       "        text-align: right;\n",
       "    }\n",
       "</style>\n",
       "<table border=\"1\" class=\"dataframe\">\n",
       "  <thead>\n",
       "    <tr style=\"text-align: right;\">\n",
       "      <th></th>\n",
       "      <th>id</th>\n",
       "      <th>object_name</th>\n",
       "      <th>chain</th>\n",
       "      <th>object_type</th>\n",
       "      <th>address</th>\n",
       "      <th>number</th>\n",
       "    </tr>\n",
       "  </thead>\n",
       "  <tbody>\n",
       "    <tr>\n",
       "      <td>1802</td>\n",
       "      <td>106196</td>\n",
       "      <td>Бар «ПОПКОРН»</td>\n",
       "      <td>False</td>\n",
       "      <td>бар</td>\n",
       "      <td>город Москва, микрорайон Северное Чертаново, дом 1А</td>\n",
       "      <td>0</td>\n",
       "    </tr>\n",
       "    <tr>\n",
       "      <td>2510</td>\n",
       "      <td>155560</td>\n",
       "      <td>Японский пес</td>\n",
       "      <td>False</td>\n",
       "      <td>бар</td>\n",
       "      <td>город Москва, улица Академика Янгеля, дом 6, корпус 1</td>\n",
       "      <td>0</td>\n",
       "    </tr>\n",
       "    <tr>\n",
       "      <td>6116</td>\n",
       "      <td>20410</td>\n",
       "      <td>СЕРДОЛИК-Ю</td>\n",
       "      <td>False</td>\n",
       "      <td>бар</td>\n",
       "      <td>город Москва, Профсоюзная улица, дом 61А</td>\n",
       "      <td>0</td>\n",
       "    </tr>\n",
       "    <tr>\n",
       "      <td>7569</td>\n",
       "      <td>107408</td>\n",
       "      <td>Бар «КОНСЕШН БАР»</td>\n",
       "      <td>False</td>\n",
       "      <td>бар</td>\n",
       "      <td>город Москва, Днепропетровская улица, дом 2</td>\n",
       "      <td>0</td>\n",
       "    </tr>\n",
       "    <tr>\n",
       "      <td>7859</td>\n",
       "      <td>77595</td>\n",
       "      <td>Бильярдная Сова</td>\n",
       "      <td>False</td>\n",
       "      <td>бар</td>\n",
       "      <td>город Москва, Марксистская улица, дом 34, корпус 8</td>\n",
       "      <td>0</td>\n",
       "    </tr>\n",
       "  </tbody>\n",
       "</table>\n",
       "</div>"
      ],
      "text/plain": [
       "          id        object_name  chain object_type  \\\n",
       "1802  106196      Бар «ПОПКОРН»  False         бар   \n",
       "2510  155560       Японский пес  False         бар   \n",
       "6116   20410         СЕРДОЛИК-Ю  False         бар   \n",
       "7569  107408  Бар «КОНСЕШН БАР»  False         бар   \n",
       "7859   77595    Бильярдная Сова  False         бар   \n",
       "\n",
       "                                                    address  number  \n",
       "1802    город Москва, микрорайон Северное Чертаново, дом 1А       0  \n",
       "2510  город Москва, улица Академика Янгеля, дом 6, корпус 1       0  \n",
       "6116               город Москва, Профсоюзная улица, дом 61А       0  \n",
       "7569            город Москва, Днепропетровская улица, дом 2       0  \n",
       "7859     город Москва, Марксистская улица, дом 34, корпус 8       0  "
      ]
     },
     "metadata": {},
     "output_type": "display_data"
    },
    {
     "data": {
      "text/html": [
       "<div>\n",
       "<style scoped>\n",
       "    .dataframe tbody tr th:only-of-type {\n",
       "        vertical-align: middle;\n",
       "    }\n",
       "\n",
       "    .dataframe tbody tr th {\n",
       "        vertical-align: top;\n",
       "    }\n",
       "\n",
       "    .dataframe thead th {\n",
       "        text-align: right;\n",
       "    }\n",
       "</style>\n",
       "<table border=\"1\" class=\"dataframe\">\n",
       "  <thead>\n",
       "    <tr style=\"text-align: right;\">\n",
       "      <th></th>\n",
       "      <th>id</th>\n",
       "      <th>object_name</th>\n",
       "      <th>chain</th>\n",
       "      <th>object_type</th>\n",
       "      <th>address</th>\n",
       "      <th>number</th>\n",
       "    </tr>\n",
       "  </thead>\n",
       "  <tbody>\n",
       "    <tr>\n",
       "      <td>206</td>\n",
       "      <td>150836</td>\n",
       "      <td>ГБОУ Школа №1468</td>\n",
       "      <td>False</td>\n",
       "      <td>столовая</td>\n",
       "      <td>город Москва, Волгоградский проспект, дом 17, строение 1</td>\n",
       "      <td>0</td>\n",
       "    </tr>\n",
       "    <tr>\n",
       "      <td>2101</td>\n",
       "      <td>29844</td>\n",
       "      <td>Вкусный выбор</td>\n",
       "      <td>False</td>\n",
       "      <td>столовая</td>\n",
       "      <td>город Москва, аллея Жемчуговой, дом 1А</td>\n",
       "      <td>0</td>\n",
       "    </tr>\n",
       "    <tr>\n",
       "      <td>2130</td>\n",
       "      <td>152335</td>\n",
       "      <td>Пищеблок ( закрытое)</td>\n",
       "      <td>False</td>\n",
       "      <td>столовая</td>\n",
       "      <td>город Москва, Ленинский проспект, дом 8, корпус 23</td>\n",
       "      <td>0</td>\n",
       "    </tr>\n",
       "    <tr>\n",
       "      <td>2675</td>\n",
       "      <td>23137</td>\n",
       "      <td>Самса Хаус</td>\n",
       "      <td>False</td>\n",
       "      <td>столовая</td>\n",
       "      <td>город Москва, Широкая улица, дом 12</td>\n",
       "      <td>0</td>\n",
       "    </tr>\n",
       "    <tr>\n",
       "      <td>4176</td>\n",
       "      <td>150827</td>\n",
       "      <td>ГБОУ Школа №498</td>\n",
       "      <td>False</td>\n",
       "      <td>столовая</td>\n",
       "      <td>город Москва, улица Малые Каменщики, дом 18</td>\n",
       "      <td>0</td>\n",
       "    </tr>\n",
       "  </tbody>\n",
       "</table>\n",
       "</div>"
      ],
      "text/plain": [
       "          id           object_name  chain object_type  \\\n",
       "206   150836      ГБОУ Школа №1468  False    столовая   \n",
       "2101   29844         Вкусный выбор  False    столовая   \n",
       "2130  152335  Пищеблок ( закрытое)  False    столовая   \n",
       "2675   23137            Самса Хаус  False    столовая   \n",
       "4176  150827       ГБОУ Школа №498  False    столовая   \n",
       "\n",
       "                                                       address  number  \n",
       "206   город Москва, Волгоградский проспект, дом 17, строение 1       0  \n",
       "2101                    город Москва, аллея Жемчуговой, дом 1А       0  \n",
       "2130        город Москва, Ленинский проспект, дом 8, корпус 23       0  \n",
       "2675                       город Москва, Широкая улица, дом 12       0  \n",
       "4176               город Москва, улица Малые Каменщики, дом 18       0  "
      ]
     },
     "metadata": {},
     "output_type": "display_data"
    }
   ],
   "source": [
    "display(df.query('number == 0 and object_type == \"кафе\"').head())\n",
    "display(df.query('number == 0 and object_type == \"ресторан\"').head())\n",
    "display(df.query('number == 0 and object_type == \"бар\"').head())\n",
    "display(df.query('number == 0 and object_type == \"столовая\"').head())"
   ]
  },
  {
   "cell_type": "markdown",
   "metadata": {},
   "source": [
    "В этих заведениях и правда нет посадочных мест: что-то работает только на вынос, что-то является \"островком\" в ТЦ и т.д."
   ]
  },
  {
   "cell_type": "markdown",
   "metadata": {},
   "source": [
    "Приведем названия объектов к нижнему регистру, чтобы исключить дубли, связанные с написанием имени в разных регистрах"
   ]
  },
  {
   "cell_type": "code",
   "execution_count": 15,
   "metadata": {},
   "outputs": [
    {
     "data": {
      "text/html": [
       "<div>\n",
       "<style scoped>\n",
       "    .dataframe tbody tr th:only-of-type {\n",
       "        vertical-align: middle;\n",
       "    }\n",
       "\n",
       "    .dataframe tbody tr th {\n",
       "        vertical-align: top;\n",
       "    }\n",
       "\n",
       "    .dataframe thead th {\n",
       "        text-align: right;\n",
       "    }\n",
       "</style>\n",
       "<table border=\"1\" class=\"dataframe\">\n",
       "  <thead>\n",
       "    <tr style=\"text-align: right;\">\n",
       "      <th></th>\n",
       "      <th>id</th>\n",
       "      <th>object_name</th>\n",
       "      <th>chain</th>\n",
       "      <th>object_type</th>\n",
       "      <th>address</th>\n",
       "      <th>number</th>\n",
       "    </tr>\n",
       "  </thead>\n",
       "  <tbody>\n",
       "    <tr>\n",
       "      <td>0</td>\n",
       "      <td>151635</td>\n",
       "      <td>сметана</td>\n",
       "      <td>False</td>\n",
       "      <td>кафе</td>\n",
       "      <td>город Москва, улица Егора Абакумова, дом 9</td>\n",
       "      <td>48</td>\n",
       "    </tr>\n",
       "    <tr>\n",
       "      <td>1</td>\n",
       "      <td>77874</td>\n",
       "      <td>родник</td>\n",
       "      <td>False</td>\n",
       "      <td>кафе</td>\n",
       "      <td>город Москва, улица Талалихина, дом 2/1, корпус 1</td>\n",
       "      <td>35</td>\n",
       "    </tr>\n",
       "    <tr>\n",
       "      <td>2</td>\n",
       "      <td>24309</td>\n",
       "      <td>кафе «академия»</td>\n",
       "      <td>False</td>\n",
       "      <td>кафе</td>\n",
       "      <td>город Москва, Абельмановская улица, дом 6</td>\n",
       "      <td>95</td>\n",
       "    </tr>\n",
       "    <tr>\n",
       "      <td>3</td>\n",
       "      <td>21894</td>\n",
       "      <td>пиццетория</td>\n",
       "      <td>True</td>\n",
       "      <td>кафе</td>\n",
       "      <td>город Москва, Абрамцевская улица, дом 1</td>\n",
       "      <td>40</td>\n",
       "    </tr>\n",
       "    <tr>\n",
       "      <td>4</td>\n",
       "      <td>119365</td>\n",
       "      <td>кафе «вишневая метель»</td>\n",
       "      <td>False</td>\n",
       "      <td>кафе</td>\n",
       "      <td>город Москва, Абрамцевская улица, дом 9, корпус 1</td>\n",
       "      <td>50</td>\n",
       "    </tr>\n",
       "  </tbody>\n",
       "</table>\n",
       "</div>"
      ],
      "text/plain": [
       "       id             object_name  chain object_type  \\\n",
       "0  151635                 сметана  False        кафе   \n",
       "1   77874                  родник  False        кафе   \n",
       "2   24309         кафе «академия»  False        кафе   \n",
       "3   21894              пиццетория   True        кафе   \n",
       "4  119365  кафе «вишневая метель»  False        кафе   \n",
       "\n",
       "                                             address  number  \n",
       "0         город Москва, улица Егора Абакумова, дом 9      48  \n",
       "1  город Москва, улица Талалихина, дом 2/1, корпус 1      35  \n",
       "2          город Москва, Абельмановская улица, дом 6      95  \n",
       "3            город Москва, Абрамцевская улица, дом 1      40  \n",
       "4  город Москва, Абрамцевская улица, дом 9, корпус 1      50  "
      ]
     },
     "execution_count": 15,
     "metadata": {},
     "output_type": "execute_result"
    }
   ],
   "source": [
    "df['object_name'] = df['object_name'].str.lower()\n",
    "df.head()"
   ]
  },
  {
   "cell_type": "markdown",
   "metadata": {},
   "source": [
    "Посмотрим нет ли полных дублей"
   ]
  },
  {
   "cell_type": "code",
   "execution_count": 16,
   "metadata": {},
   "outputs": [
    {
     "data": {
      "text/plain": [
       "0"
      ]
     },
     "execution_count": 16,
     "metadata": {},
     "output_type": "execute_result"
    }
   ],
   "source": [
    "df.duplicated().sum()"
   ]
  },
  {
   "cell_type": "markdown",
   "metadata": {},
   "source": [
    "Полных дублей нет. Проверим нет ли дублей - ресторанов с одинаковым именем, типом и адресом"
   ]
  },
  {
   "cell_type": "code",
   "execution_count": 17,
   "metadata": {},
   "outputs": [
    {
     "data": {
      "text/plain": [
       "184"
      ]
     },
     "execution_count": 17,
     "metadata": {},
     "output_type": "execute_result"
    }
   ],
   "source": [
    "df.duplicated(subset = ['address','object_name','object_type']).sum()"
   ]
  },
  {
   "cell_type": "markdown",
   "metadata": {},
   "source": [
    "Такие записи есть. Посмотрим на них"
   ]
  },
  {
   "cell_type": "code",
   "execution_count": 18,
   "metadata": {},
   "outputs": [
    {
     "data": {
      "text/html": [
       "<div>\n",
       "<style scoped>\n",
       "    .dataframe tbody tr th:only-of-type {\n",
       "        vertical-align: middle;\n",
       "    }\n",
       "\n",
       "    .dataframe tbody tr th {\n",
       "        vertical-align: top;\n",
       "    }\n",
       "\n",
       "    .dataframe thead th {\n",
       "        text-align: right;\n",
       "    }\n",
       "</style>\n",
       "<table border=\"1\" class=\"dataframe\">\n",
       "  <thead>\n",
       "    <tr style=\"text-align: right;\">\n",
       "      <th></th>\n",
       "      <th>id</th>\n",
       "      <th>object_name</th>\n",
       "      <th>chain</th>\n",
       "      <th>object_type</th>\n",
       "      <th>address</th>\n",
       "      <th>number</th>\n",
       "    </tr>\n",
       "  </thead>\n",
       "  <tbody>\n",
       "    <tr>\n",
       "      <td>8004</td>\n",
       "      <td>153873</td>\n",
       "      <td>eat and talk</td>\n",
       "      <td>False</td>\n",
       "      <td>ресторан</td>\n",
       "      <td>город Москва, улица Воздвиженка, дом 4/7, строение 2</td>\n",
       "      <td>80</td>\n",
       "    </tr>\n",
       "    <tr>\n",
       "      <td>8005</td>\n",
       "      <td>154087</td>\n",
       "      <td>eat and talk</td>\n",
       "      <td>False</td>\n",
       "      <td>ресторан</td>\n",
       "      <td>город Москва, улица Воздвиженка, дом 4/7, строение 2</td>\n",
       "      <td>10</td>\n",
       "    </tr>\n",
       "    <tr>\n",
       "      <td>6371</td>\n",
       "      <td>135225</td>\n",
       "      <td>il patio</td>\n",
       "      <td>False</td>\n",
       "      <td>ресторан</td>\n",
       "      <td>город Москва, Манежная площадь, дом 1, строение 2</td>\n",
       "      <td>89</td>\n",
       "    </tr>\n",
       "    <tr>\n",
       "      <td>6372</td>\n",
       "      <td>135231</td>\n",
       "      <td>il patio</td>\n",
       "      <td>False</td>\n",
       "      <td>ресторан</td>\n",
       "      <td>город Москва, Манежная площадь, дом 1, строение 2</td>\n",
       "      <td>45</td>\n",
       "    </tr>\n",
       "    <tr>\n",
       "      <td>2869</td>\n",
       "      <td>25031</td>\n",
       "      <td>laltro bosco</td>\n",
       "      <td>False</td>\n",
       "      <td>ресторан</td>\n",
       "      <td>город Москва, улица Петровка, дом 10</td>\n",
       "      <td>145</td>\n",
       "    </tr>\n",
       "    <tr>\n",
       "      <td>...</td>\n",
       "      <td>...</td>\n",
       "      <td>...</td>\n",
       "      <td>...</td>\n",
       "      <td>...</td>\n",
       "      <td>...</td>\n",
       "      <td>...</td>\n",
       "    </tr>\n",
       "    <tr>\n",
       "      <td>15363</td>\n",
       "      <td>209186</td>\n",
       "      <td>шоколадница</td>\n",
       "      <td>True</td>\n",
       "      <td>кафе</td>\n",
       "      <td>город Москва, улица Земляной Вал, дом 33</td>\n",
       "      <td>20</td>\n",
       "    </tr>\n",
       "    <tr>\n",
       "      <td>14376</td>\n",
       "      <td>217108</td>\n",
       "      <td>шурма</td>\n",
       "      <td>False</td>\n",
       "      <td>предприятие быстрого обслуживания</td>\n",
       "      <td>город Москва, Ярцевская улица, дом 25А</td>\n",
       "      <td>0</td>\n",
       "    </tr>\n",
       "    <tr>\n",
       "      <td>14379</td>\n",
       "      <td>217555</td>\n",
       "      <td>шурма</td>\n",
       "      <td>False</td>\n",
       "      <td>предприятие быстрого обслуживания</td>\n",
       "      <td>город Москва, Ярцевская улица, дом 25А</td>\n",
       "      <td>0</td>\n",
       "    </tr>\n",
       "    <tr>\n",
       "      <td>5131</td>\n",
       "      <td>71779</td>\n",
       "      <td>щербакова людмила анатольевна</td>\n",
       "      <td>False</td>\n",
       "      <td>кафе</td>\n",
       "      <td>город Москва, улица Сущёвский Вал, дом 5, строение 1А</td>\n",
       "      <td>20</td>\n",
       "    </tr>\n",
       "    <tr>\n",
       "      <td>5132</td>\n",
       "      <td>23025</td>\n",
       "      <td>щербакова людмила анатольевна</td>\n",
       "      <td>False</td>\n",
       "      <td>кафе</td>\n",
       "      <td>город Москва, улица Сущёвский Вал, дом 5, строение 1А</td>\n",
       "      <td>25</td>\n",
       "    </tr>\n",
       "  </tbody>\n",
       "</table>\n",
       "<p>310 rows × 6 columns</p>\n",
       "</div>"
      ],
      "text/plain": [
       "           id                    object_name  chain  \\\n",
       "8004   153873                   eat and talk  False   \n",
       "8005   154087                   eat and talk  False   \n",
       "6371   135225                       il patio  False   \n",
       "6372   135231                       il patio  False   \n",
       "2869    25031                   laltro bosco  False   \n",
       "...       ...                            ...    ...   \n",
       "15363  209186                    шоколадница   True   \n",
       "14376  217108                          шурма  False   \n",
       "14379  217555                          шурма  False   \n",
       "5131    71779  щербакова людмила анатольевна  False   \n",
       "5132    23025  щербакова людмила анатольевна  False   \n",
       "\n",
       "                             object_type  \\\n",
       "8004                            ресторан   \n",
       "8005                            ресторан   \n",
       "6371                            ресторан   \n",
       "6372                            ресторан   \n",
       "2869                            ресторан   \n",
       "...                                  ...   \n",
       "15363                               кафе   \n",
       "14376  предприятие быстрого обслуживания   \n",
       "14379  предприятие быстрого обслуживания   \n",
       "5131                                кафе   \n",
       "5132                                кафе   \n",
       "\n",
       "                                                     address  number  \n",
       "8004    город Москва, улица Воздвиженка, дом 4/7, строение 2      80  \n",
       "8005    город Москва, улица Воздвиженка, дом 4/7, строение 2      10  \n",
       "6371       город Москва, Манежная площадь, дом 1, строение 2      89  \n",
       "6372       город Москва, Манежная площадь, дом 1, строение 2      45  \n",
       "2869                    город Москва, улица Петровка, дом 10     145  \n",
       "...                                                      ...     ...  \n",
       "15363               город Москва, улица Земляной Вал, дом 33      20  \n",
       "14376                 город Москва, Ярцевская улица, дом 25А       0  \n",
       "14379                 город Москва, Ярцевская улица, дом 25А       0  \n",
       "5131   город Москва, улица Сущёвский Вал, дом 5, строение 1А      20  \n",
       "5132   город Москва, улица Сущёвский Вал, дом 5, строение 1А      25  \n",
       "\n",
       "[310 rows x 6 columns]"
      ]
     },
     "execution_count": 18,
     "metadata": {},
     "output_type": "execute_result"
    }
   ],
   "source": [
    "df[df.duplicated(subset = ['address','object_name','object_type'], keep = False)].sort_values(by = ['object_name','address'])"
   ]
  },
  {
   "cell_type": "markdown",
   "metadata": {},
   "source": [
    "В этих записях совпадают имя, адрес, тип, а вместимость разная. Так как в таких дублях мы не знаем корректную вместимость, то дубли удалим, но в качестве вместимости укажем null\n",
    "\n",
    "Возможная причина появления таких дублей - загрузка данных из нескольких источников ( в разных источниках могла быть указана разная вместимость ресторанов), загрузка новых данных поверх неудаленных старых записей.\n"
   ]
  },
  {
   "cell_type": "code",
   "execution_count": 19,
   "metadata": {},
   "outputs": [
    {
     "data": {
      "text/html": [
       "<div>\n",
       "<style scoped>\n",
       "    .dataframe tbody tr th:only-of-type {\n",
       "        vertical-align: middle;\n",
       "    }\n",
       "\n",
       "    .dataframe tbody tr th {\n",
       "        vertical-align: top;\n",
       "    }\n",
       "\n",
       "    .dataframe thead th {\n",
       "        text-align: right;\n",
       "    }\n",
       "</style>\n",
       "<table border=\"1\" class=\"dataframe\">\n",
       "  <thead>\n",
       "    <tr style=\"text-align: right;\">\n",
       "      <th></th>\n",
       "      <th>id</th>\n",
       "      <th>object_name</th>\n",
       "      <th>chain</th>\n",
       "      <th>object_type</th>\n",
       "      <th>address</th>\n",
       "      <th>number</th>\n",
       "    </tr>\n",
       "  </thead>\n",
       "  <tbody>\n",
       "    <tr>\n",
       "      <td>113</td>\n",
       "      <td>28608</td>\n",
       "      <td>комбинат питания мгту им.н.э.баумана</td>\n",
       "      <td>False</td>\n",
       "      <td>буфет</td>\n",
       "      <td>город Москва, Бригадирский переулок, дом 3-5</td>\n",
       "      <td>NaN</td>\n",
       "    </tr>\n",
       "    <tr>\n",
       "      <td>115</td>\n",
       "      <td>28614</td>\n",
       "      <td>комбинат питания мгту им.н.э.баумана</td>\n",
       "      <td>False</td>\n",
       "      <td>буфет</td>\n",
       "      <td>город Москва, Бригадирский переулок, дом 3-5</td>\n",
       "      <td>NaN</td>\n",
       "    </tr>\n",
       "    <tr>\n",
       "      <td>576</td>\n",
       "      <td>149218</td>\n",
       "      <td>общественное питание</td>\n",
       "      <td>False</td>\n",
       "      <td>кафе</td>\n",
       "      <td>город Москва, Павелецкая площадь, дом 1</td>\n",
       "      <td>NaN</td>\n",
       "    </tr>\n",
       "    <tr>\n",
       "      <td>580</td>\n",
       "      <td>149205</td>\n",
       "      <td>общественное питание</td>\n",
       "      <td>False</td>\n",
       "      <td>кафе</td>\n",
       "      <td>город Москва, Павелецкая площадь, дом 1</td>\n",
       "      <td>NaN</td>\n",
       "    </tr>\n",
       "    <tr>\n",
       "      <td>581</td>\n",
       "      <td>149131</td>\n",
       "      <td>общественное питание</td>\n",
       "      <td>False</td>\n",
       "      <td>кафе</td>\n",
       "      <td>город Москва, Павелецкая площадь, дом 1</td>\n",
       "      <td>NaN</td>\n",
       "    </tr>\n",
       "  </tbody>\n",
       "</table>\n",
       "</div>"
      ],
      "text/plain": [
       "         id                           object_name  chain object_type  \\\n",
       "113   28608  комбинат питания мгту им.н.э.баумана  False       буфет   \n",
       "115   28614  комбинат питания мгту им.н.э.баумана  False       буфет   \n",
       "576  149218                  общественное питание  False        кафе   \n",
       "580  149205                  общественное питание  False        кафе   \n",
       "581  149131                  общественное питание  False        кафе   \n",
       "\n",
       "                                          address  number  \n",
       "113  город Москва, Бригадирский переулок, дом 3-5     NaN  \n",
       "115  город Москва, Бригадирский переулок, дом 3-5     NaN  \n",
       "576       город Москва, Павелецкая площадь, дом 1     NaN  \n",
       "580       город Москва, Павелецкая площадь, дом 1     NaN  \n",
       "581       город Москва, Павелецкая площадь, дом 1     NaN  "
      ]
     },
     "execution_count": 19,
     "metadata": {},
     "output_type": "execute_result"
    }
   ],
   "source": [
    "ids = df[df.duplicated(subset = ['address','object_name','object_type'], keep = False)]['id'] # находим id дублей\n",
    "df.loc[df['id'].isin(ids),'number'] = np.NaN # записываем в качетсве вместимости null\n",
    "df.loc[df['id'].isin(ids)].head()"
   ]
  },
  {
   "cell_type": "markdown",
   "metadata": {},
   "source": [
    "Удаляем дубли"
   ]
  },
  {
   "cell_type": "code",
   "execution_count": 20,
   "metadata": {},
   "outputs": [
    {
     "data": {
      "text/plain": [
       "0"
      ]
     },
     "execution_count": 20,
     "metadata": {},
     "output_type": "execute_result"
    }
   ],
   "source": [
    "df.drop_duplicates(subset = ['address','object_name','object_type'],inplace = True)\n",
    "df.duplicated(subset = ['address','object_name','object_type']).sum()"
   ]
  },
  {
   "cell_type": "markdown",
   "metadata": {},
   "source": [
    "Заменим названия столбцов на более удобные"
   ]
  },
  {
   "cell_type": "code",
   "execution_count": 21,
   "metadata": {},
   "outputs": [
    {
     "data": {
      "text/html": [
       "<div>\n",
       "<style scoped>\n",
       "    .dataframe tbody tr th:only-of-type {\n",
       "        vertical-align: middle;\n",
       "    }\n",
       "\n",
       "    .dataframe tbody tr th {\n",
       "        vertical-align: top;\n",
       "    }\n",
       "\n",
       "    .dataframe thead th {\n",
       "        text-align: right;\n",
       "    }\n",
       "</style>\n",
       "<table border=\"1\" class=\"dataframe\">\n",
       "  <thead>\n",
       "    <tr style=\"text-align: right;\">\n",
       "      <th></th>\n",
       "      <th>id</th>\n",
       "      <th>name</th>\n",
       "      <th>chain</th>\n",
       "      <th>type</th>\n",
       "      <th>address</th>\n",
       "      <th>number</th>\n",
       "    </tr>\n",
       "  </thead>\n",
       "  <tbody>\n",
       "    <tr>\n",
       "      <td>0</td>\n",
       "      <td>151635</td>\n",
       "      <td>сметана</td>\n",
       "      <td>False</td>\n",
       "      <td>кафе</td>\n",
       "      <td>город Москва, улица Егора Абакумова, дом 9</td>\n",
       "      <td>48.0</td>\n",
       "    </tr>\n",
       "    <tr>\n",
       "      <td>1</td>\n",
       "      <td>77874</td>\n",
       "      <td>родник</td>\n",
       "      <td>False</td>\n",
       "      <td>кафе</td>\n",
       "      <td>город Москва, улица Талалихина, дом 2/1, корпус 1</td>\n",
       "      <td>35.0</td>\n",
       "    </tr>\n",
       "    <tr>\n",
       "      <td>2</td>\n",
       "      <td>24309</td>\n",
       "      <td>кафе «академия»</td>\n",
       "      <td>False</td>\n",
       "      <td>кафе</td>\n",
       "      <td>город Москва, Абельмановская улица, дом 6</td>\n",
       "      <td>95.0</td>\n",
       "    </tr>\n",
       "    <tr>\n",
       "      <td>3</td>\n",
       "      <td>21894</td>\n",
       "      <td>пиццетория</td>\n",
       "      <td>True</td>\n",
       "      <td>кафе</td>\n",
       "      <td>город Москва, Абрамцевская улица, дом 1</td>\n",
       "      <td>40.0</td>\n",
       "    </tr>\n",
       "    <tr>\n",
       "      <td>4</td>\n",
       "      <td>119365</td>\n",
       "      <td>кафе «вишневая метель»</td>\n",
       "      <td>False</td>\n",
       "      <td>кафе</td>\n",
       "      <td>город Москва, Абрамцевская улица, дом 9, корпус 1</td>\n",
       "      <td>50.0</td>\n",
       "    </tr>\n",
       "  </tbody>\n",
       "</table>\n",
       "</div>"
      ],
      "text/plain": [
       "       id                    name  chain  type  \\\n",
       "0  151635                 сметана  False  кафе   \n",
       "1   77874                  родник  False  кафе   \n",
       "2   24309         кафе «академия»  False  кафе   \n",
       "3   21894              пиццетория   True  кафе   \n",
       "4  119365  кафе «вишневая метель»  False  кафе   \n",
       "\n",
       "                                             address  number  \n",
       "0         город Москва, улица Егора Абакумова, дом 9    48.0  \n",
       "1  город Москва, улица Талалихина, дом 2/1, корпус 1    35.0  \n",
       "2          город Москва, Абельмановская улица, дом 6    95.0  \n",
       "3            город Москва, Абрамцевская улица, дом 1    40.0  \n",
       "4  город Москва, Абрамцевская улица, дом 9, корпус 1    50.0  "
      ]
     },
     "execution_count": 21,
     "metadata": {},
     "output_type": "execute_result"
    }
   ],
   "source": [
    "df.columns = ['id','name','chain','type','address', 'number']\n",
    "df.head()"
   ]
  },
  {
   "cell_type": "markdown",
   "metadata": {},
   "source": [
    "### Вывод"
   ]
  },
  {
   "cell_type": "markdown",
   "metadata": {},
   "source": [
    "Изучили данные и подготовили их к дальнейшему анализу:\n",
    "- пропущенных значений нет\n",
    "- Изменили значение chain с да/нет на True/False, поменяли тип данных на bool\n",
    "- Привели названия заведений к нижнему регистру, чтобы исключить дубли, связанные с разным написанием одного и того же имени\n",
    "- Нашли дубли по имени, типу и адресу. Заменили у этих дублей значение вместимости на null. Дубли удалили. Возможная причина появления таких дублей - загрузка данных из нескольких источников ( в разных источниках могла быть указана разная вместимость ресторанов), загрузка новых данных поверх неудаленных старых записей.\n",
    "- Заменили названия столбцов на более удобные"
   ]
  },
  {
   "cell_type": "markdown",
   "metadata": {},
   "source": [
    "### <a id=\"step2\">Шаг 2. Анализ данных</a>"
   ]
  },
  {
   "cell_type": "markdown",
   "metadata": {},
   "source": [
    "- ### <a id=\"step2.1\"> Исследуйте соотношение видов объектов общественного питания по количеству. Постройте график</a>"
   ]
  },
  {
   "cell_type": "markdown",
   "metadata": {},
   "source": [
    "Посмотрим сколько точек есть в каждом из видов общественного питания"
   ]
  },
  {
   "cell_type": "code",
   "execution_count": 22,
   "metadata": {},
   "outputs": [
    {
     "data": {
      "text/plain": [
       "кафе                                 6008\n",
       "столовая                             2575\n",
       "ресторан                             2274\n",
       "предприятие быстрого обслуживания    1890\n",
       "бар                                   853\n",
       "буфет                                 570\n",
       "кафетерий                             393\n",
       "закусочная                            347\n",
       "магазин (отдел кулинарии)             272\n",
       "Name: type, dtype: int64"
      ]
     },
     "execution_count": 22,
     "metadata": {},
     "output_type": "execute_result"
    }
   ],
   "source": [
    "\n",
    "df['type'].value_counts()"
   ]
  },
  {
   "cell_type": "markdown",
   "metadata": {},
   "source": [
    "Больше всего кафе - около 6000, столовых и ресторанов около 2500. Кафетериев, закусочных и кулинарий совсем немного, меньше 500 заведений каждого из типов"
   ]
  },
  {
   "cell_type": "markdown",
   "metadata": {},
   "source": [
    "Построим круговую диаграмму для видов точек питания"
   ]
  },
  {
   "cell_type": "code",
   "execution_count": 23,
   "metadata": {},
   "outputs": [
    {
     "data": {
      "image/png": "[encoded data removed]",
      "text/plain": [
       "<Figure size 1440x720 with 1 Axes>"
      ]
     },
     "metadata": {},
     "output_type": "display_data"
    }
   ],
   "source": [
    "ax = df['type'].value_counts().plot(kind = 'pie', figsize=(20, 10),autopct='%1.0f%%', \\\n",
    "                                    title = 'Соотношение видов объектов общественного питания по количеству');\n",
    "ax.set_ylabel('');"
   ]
  },
  {
   "cell_type": "markdown",
   "metadata": {},
   "source": [
    "### Вывод"
   ]
  },
  {
   "cell_type": "markdown",
   "metadata": {},
   "source": [
    "Объекты общественного питания распределены следующим образом:\n",
    "- 40% кафе (около 6000 объектов)\n",
    "- 17% столовые (около 2500 объектов)\n",
    "- 15% рестораны (около 2200 объектов)\n",
    "- 12% предприятия быстрого обслуживания (около 1900 объектов)\n",
    "- 6% бары(около 850 объектов)\n",
    "- от 2% до 4% буфеты, кафетерии, закусочные, кулинарии"
   ]
  },
  {
   "cell_type": "markdown",
   "metadata": {},
   "source": [
    "- ### <a id=\"step2.2\">Исследуйте соотношение сетевых и несетевых заведений по количеству. Постройте график.</a>`"
   ]
  },
  {
   "cell_type": "markdown",
   "metadata": {},
   "source": [
    "Посмотрим сколько заведений сетевых и несетевых "
   ]
  },
  {
   "cell_type": "code",
   "execution_count": 24,
   "metadata": {},
   "outputs": [
    {
     "data": {
      "text/plain": [
       "False    12234\n",
       "True      2948\n",
       "Name: chain, dtype: int64"
      ]
     },
     "execution_count": 24,
     "metadata": {},
     "output_type": "execute_result"
    }
   ],
   "source": [
    "df['chain'].value_counts()"
   ]
  },
  {
   "cell_type": "markdown",
   "metadata": {},
   "source": [
    "Несетевых заведений в разы больше чем сетевых"
   ]
  },
  {
   "cell_type": "markdown",
   "metadata": {},
   "source": [
    "Посмотрим круговую дианрамму для соотношения количества сетевых и несетевых заведений"
   ]
  },
  {
   "cell_type": "code",
   "execution_count": 25,
   "metadata": {},
   "outputs": [
    {
     "data": {
      "image/png": "[encoded data removed]",
      "text/plain": [
       "<Figure size 1440x720 with 1 Axes>"
      ]
     },
     "metadata": {},
     "output_type": "display_data"
    }
   ],
   "source": [
    "ax = df['chain'].value_counts().plot(kind = 'pie', figsize=(20, 10),autopct='%1.0f%%', \\\n",
    "                                    title = 'Соотношение сетевых и несетевых заведений по количеству',\\\n",
    "                                    labels = ['несетевые','сетевые']);\n",
    "ax.set_ylabel('');"
   ]
  },
  {
   "cell_type": "markdown",
   "metadata": {},
   "source": [
    "### Вывод"
   ]
  },
  {
   "cell_type": "markdown",
   "metadata": {},
   "source": [
    "Соотношение несетевых к сетевым объектам почти выполняет принцип Парето 80 к 20. Несетевых заведений 81%, сетевых - 19%"
   ]
  },
  {
   "cell_type": "markdown",
   "metadata": {},
   "source": [
    "- ### <a id=\"step2.3\"> Для какого вида объекта общественного питания характерно сетевое распространение?</a>"
   ]
  },
  {
   "cell_type": "markdown",
   "metadata": {},
   "source": [
    "Для каждого типа объектов общественного питания посчитаем какую долю он сотавляет от всего количества в сетевых заведениях и несетевых"
   ]
  },
  {
   "cell_type": "code",
   "execution_count": 26,
   "metadata": {},
   "outputs": [
    {
     "data": {
      "text/html": [
       "<div>\n",
       "<style scoped>\n",
       "    .dataframe tbody tr th:only-of-type {\n",
       "        vertical-align: middle;\n",
       "    }\n",
       "\n",
       "    .dataframe tbody tr th {\n",
       "        vertical-align: top;\n",
       "    }\n",
       "\n",
       "    .dataframe thead th {\n",
       "        text-align: right;\n",
       "    }\n",
       "</style>\n",
       "<table border=\"1\" class=\"dataframe\">\n",
       "  <thead>\n",
       "    <tr style=\"text-align: right;\">\n",
       "      <th></th>\n",
       "      <th>type</th>\n",
       "      <th>chain</th>\n",
       "      <th>qty</th>\n",
       "      <th>ratio</th>\n",
       "    </tr>\n",
       "  </thead>\n",
       "  <tbody>\n",
       "    <tr>\n",
       "      <td>0</td>\n",
       "      <td>бар</td>\n",
       "      <td>False</td>\n",
       "      <td>816</td>\n",
       "      <td>6.669936</td>\n",
       "    </tr>\n",
       "    <tr>\n",
       "      <td>1</td>\n",
       "      <td>бар</td>\n",
       "      <td>True</td>\n",
       "      <td>37</td>\n",
       "      <td>1.255088</td>\n",
       "    </tr>\n",
       "    <tr>\n",
       "      <td>2</td>\n",
       "      <td>буфет</td>\n",
       "      <td>False</td>\n",
       "      <td>559</td>\n",
       "      <td>4.569233</td>\n",
       "    </tr>\n",
       "    <tr>\n",
       "      <td>3</td>\n",
       "      <td>буфет</td>\n",
       "      <td>True</td>\n",
       "      <td>11</td>\n",
       "      <td>0.373134</td>\n",
       "    </tr>\n",
       "    <tr>\n",
       "      <td>4</td>\n",
       "      <td>закусочная</td>\n",
       "      <td>False</td>\n",
       "      <td>291</td>\n",
       "      <td>2.378617</td>\n",
       "    </tr>\n",
       "    <tr>\n",
       "      <td>5</td>\n",
       "      <td>закусочная</td>\n",
       "      <td>True</td>\n",
       "      <td>56</td>\n",
       "      <td>1.899593</td>\n",
       "    </tr>\n",
       "    <tr>\n",
       "      <td>6</td>\n",
       "      <td>кафе</td>\n",
       "      <td>False</td>\n",
       "      <td>4621</td>\n",
       "      <td>37.771784</td>\n",
       "    </tr>\n",
       "    <tr>\n",
       "      <td>7</td>\n",
       "      <td>кафе</td>\n",
       "      <td>True</td>\n",
       "      <td>1387</td>\n",
       "      <td>47.048847</td>\n",
       "    </tr>\n",
       "    <tr>\n",
       "      <td>8</td>\n",
       "      <td>кафетерий</td>\n",
       "      <td>False</td>\n",
       "      <td>342</td>\n",
       "      <td>2.795488</td>\n",
       "    </tr>\n",
       "    <tr>\n",
       "      <td>9</td>\n",
       "      <td>кафетерий</td>\n",
       "      <td>True</td>\n",
       "      <td>51</td>\n",
       "      <td>1.729986</td>\n",
       "    </tr>\n",
       "    <tr>\n",
       "      <td>10</td>\n",
       "      <td>магазин (отдел кулинарии)</td>\n",
       "      <td>False</td>\n",
       "      <td>194</td>\n",
       "      <td>1.585745</td>\n",
       "    </tr>\n",
       "    <tr>\n",
       "      <td>11</td>\n",
       "      <td>магазин (отдел кулинарии)</td>\n",
       "      <td>True</td>\n",
       "      <td>78</td>\n",
       "      <td>2.645862</td>\n",
       "    </tr>\n",
       "    <tr>\n",
       "      <td>12</td>\n",
       "      <td>предприятие быстрого обслуживания</td>\n",
       "      <td>False</td>\n",
       "      <td>1106</td>\n",
       "      <td>9.040379</td>\n",
       "    </tr>\n",
       "    <tr>\n",
       "      <td>13</td>\n",
       "      <td>предприятие быстрого обслуживания</td>\n",
       "      <td>True</td>\n",
       "      <td>784</td>\n",
       "      <td>26.594301</td>\n",
       "    </tr>\n",
       "    <tr>\n",
       "      <td>14</td>\n",
       "      <td>ресторан</td>\n",
       "      <td>False</td>\n",
       "      <td>1733</td>\n",
       "      <td>14.165441</td>\n",
       "    </tr>\n",
       "    <tr>\n",
       "      <td>15</td>\n",
       "      <td>ресторан</td>\n",
       "      <td>True</td>\n",
       "      <td>541</td>\n",
       "      <td>18.351425</td>\n",
       "    </tr>\n",
       "    <tr>\n",
       "      <td>16</td>\n",
       "      <td>столовая</td>\n",
       "      <td>False</td>\n",
       "      <td>2572</td>\n",
       "      <td>21.023377</td>\n",
       "    </tr>\n",
       "    <tr>\n",
       "      <td>17</td>\n",
       "      <td>столовая</td>\n",
       "      <td>True</td>\n",
       "      <td>3</td>\n",
       "      <td>0.101764</td>\n",
       "    </tr>\n",
       "  </tbody>\n",
       "</table>\n",
       "</div>"
      ],
      "text/plain": [
       "                                 type  chain   qty      ratio\n",
       "0                                 бар  False   816   6.669936\n",
       "1                                 бар   True    37   1.255088\n",
       "2                               буфет  False   559   4.569233\n",
       "3                               буфет   True    11   0.373134\n",
       "4                          закусочная  False   291   2.378617\n",
       "5                          закусочная   True    56   1.899593\n",
       "6                                кафе  False  4621  37.771784\n",
       "7                                кафе   True  1387  47.048847\n",
       "8                           кафетерий  False   342   2.795488\n",
       "9                           кафетерий   True    51   1.729986\n",
       "10          магазин (отдел кулинарии)  False   194   1.585745\n",
       "11          магазин (отдел кулинарии)   True    78   2.645862\n",
       "12  предприятие быстрого обслуживания  False  1106   9.040379\n",
       "13  предприятие быстрого обслуживания   True   784  26.594301\n",
       "14                           ресторан  False  1733  14.165441\n",
       "15                           ресторан   True   541  18.351425\n",
       "16                           столовая  False  2572  21.023377\n",
       "17                           столовая   True     3   0.101764"
      ]
     },
     "execution_count": 26,
     "metadata": {},
     "output_type": "execute_result"
    }
   ],
   "source": [
    "chain_type_ratio = df.groupby(['type','chain']).agg({'id':'count'}).reset_index()\n",
    "chain_type_ratio.columns = ['type','chain','qty']\n",
    "chain_qty = chain_type_ratio[chain_type_ratio['chain']].qty.sum()\n",
    "not_chain_qty = chain_type_ratio[~chain_type_ratio['chain']].qty.sum()\n",
    "chain_type_ratio.loc[chain_type_ratio['chain'],'ratio'] = chain_type_ratio['qty'] / chain_qty * 100\n",
    "chain_type_ratio.loc[~chain_type_ratio['chain'],'ratio'] = chain_type_ratio['qty'] / not_chain_qty * 100\n",
    "chain_type_ratio"
   ]
  },
  {
   "cell_type": "markdown",
   "metadata": {},
   "source": [
    "Построим график, отображающий доли типов объекта общественного питания в сетевых и несетевых заведениях"
   ]
  },
  {
   "cell_type": "code",
   "execution_count": 27,
   "metadata": {},
   "outputs": [
    {
     "data": {
      "image/png": "[encoded data removed]",
      "text/plain": [
       "<Figure size 1080x576 with 1 Axes>"
      ]
     },
     "metadata": {
      "needs_background": "light"
     },
     "output_type": "display_data"
    }
   ],
   "source": [
    "plt.figure(figsize=(15,8));\n",
    "ax = sns.barplot(x='ratio',y='type',hue = 'chain',  data=chain_type_ratio);\n",
    "ax.set_title('Доля типа объекта общественного питания в сетевых и несетевых заведениях');\n",
    "ax.set_xlabel('доля в %');\n",
    "ax.set_ylabel('тип');\n",
    "\n",
    "handles, labels = ax.get_legend_handles_labels()\n",
    "ax.legend(handles, ['нет','да'],title='Сеть')\n",
    "\n",
    "sns.despine();\n"
   ]
  },
  {
   "cell_type": "markdown",
   "metadata": {},
   "source": [
    "### Вывод"
   ]
  },
  {
   "cell_type": "markdown",
   "metadata": {},
   "source": [
    "Сетевое распространение характерно предприятий быстрого обслуживания, ресторанов, кафе и кулинарий"
   ]
  },
  {
   "cell_type": "markdown",
   "metadata": {},
   "source": [
    "- ### <a id=\"step2.4\"> Что характерно для сетевых заведений: много заведений с небольшим числом посадочных мест в каждом или мало заведений с большим количеством посадочных мест?</a>"
   ]
  },
  {
   "cell_type": "markdown",
   "metadata": {},
   "source": [
    "Построим распределение количества посадочных мест для сетевых заведений"
   ]
  },
  {
   "cell_type": "code",
   "execution_count": 28,
   "metadata": {},
   "outputs": [
    {
     "data": {
      "image/png": "[encoded data removed]",
      "text/plain": [
       "<Figure size 1080x576 with 1 Axes>"
      ]
     },
     "metadata": {
      "needs_background": "light"
     },
     "output_type": "display_data"
    }
   ],
   "source": [
    "plt.figure(figsize=(15,8));\n",
    "ax = sns.distplot(df[df['chain']]['number'].dropna())\n",
    "ax.set_title('Распределение количества посадочных мест для сетевых заведений');\n",
    "ax.set_xlabel('количество посадочных мест');\n",
    "ax.set_ylabel('плотность распределения');\n",
    "sns.despine();"
   ]
  },
  {
   "cell_type": "markdown",
   "metadata": {},
   "source": [
    "### Вывод"
   ]
  },
  {
   "cell_type": "markdown",
   "metadata": {},
   "source": [
    "Если считать небольшим количеством мсет количество мест до 20, а большим - свыше 100, то можно сказать, что для сетевых заведений характерно большое количество заведений с небольшим количеством мест"
   ]
  },
  {
   "cell_type": "markdown",
   "metadata": {},
   "source": [
    "- ### <a id=\"step2.5\">Для каждого вида объекта общественного питания опишите среднее количество посадочных мест. Какой вид предоставляет в среднем самое большое количество посадочных мест? Постройте графики"
   ]
  },
  {
   "cell_type": "markdown",
   "metadata": {},
   "source": [
    "Построим ящик с усами для количества посадочных мест для каждого из типов точек общественного питания"
   ]
  },
  {
   "cell_type": "code",
   "execution_count": 29,
   "metadata": {},
   "outputs": [
    {
     "data": {
      "image/png": "[encoded data removed]",
      "text/plain": [
       "<Figure size 432x288 with 1 Axes>"
      ]
     },
     "metadata": {
      "needs_background": "light"
     },
     "output_type": "display_data"
    }
   ],
   "source": [
    "ax = sns.barplot(y='type',x='number',data = df);"
   ]
  },
  {
   "cell_type": "code",
   "execution_count": 28,
   "metadata": {},
   "outputs": [
    {
     "data": {
      "image/png": "[encoded data removed]",
      "text/plain": [
       "<Figure size 1080x576 with 1 Axes>"
      ]
     },
     "metadata": {
      "needs_background": "light"
     },
     "output_type": "display_data"
    }
   ],
   "source": [
    "plt.figure(figsize=(15,8));\n",
    "ax = sns.boxplot(y='type',x='number',data = df);\n",
    "ax.set_title('\"Ящики с усами\" для количества посадочных мест по типам');\n",
    "ax.set_xlabel('количество посадочных мест');\n",
    "ax.set_ylabel('тип заведения');"
   ]
  },
  {
   "cell_type": "markdown",
   "metadata": {},
   "source": [
    "Для многих заведений есть очень много выбросов сверху, было бы некорректно в качестве меры центральной тенденции брать среднее. Посмотрим медианы для количества посадочных мест по типам"
   ]
  },
  {
   "cell_type": "code",
   "execution_count": 29,
   "metadata": {},
   "outputs": [
    {
     "data": {
      "image/png": "[encoded data removed]",
      "text/plain": [
       "<Figure size 1080x576 with 1 Axes>"
      ]
     },
     "metadata": {
      "needs_background": "light"
     },
     "output_type": "display_data"
    }
   ],
   "source": [
    "order = df.groupby('type').agg({'number':'median'}).sort_values(by='number', ascending = False).index\n",
    "plt.figure(figsize=(15,8));\n",
    "ax = sns.barplot(y='type',x='number',data = df, estimator = np.median,order=order);\n",
    "ax.set_title('Среднее количество посадочных мест по типам');\n",
    "ax.set_xlabel('количество посадочных мест(медиана)');\n",
    "ax.set_ylabel('тип заведения');\n",
    "sns.despine()"
   ]
  },
  {
   "cell_type": "markdown",
   "metadata": {},
   "source": [
    "### Вывод"
   ]
  },
  {
   "cell_type": "markdown",
   "metadata": {},
   "source": [
    "- Больше всего посадочных мест в столовых, более 100\n",
    "- В ресторанах мест около 90\n",
    "- В барах, буфетах  и кафе чуть больше 30\n",
    "- В кафетериях и предприятиях быстрого обслуживания меньше 10\n",
    "- В закусочных и кулинариях обычно нет посадочных мест"
   ]
  },
  {
   "cell_type": "markdown",
   "metadata": {},
   "source": [
    "- ### <a id=\"step2.6\">Выделите в отдельный столбец информацию об улице из столбца address ."
   ]
  },
  {
   "cell_type": "markdown",
   "metadata": {},
   "source": [
    "Напишем функцию, которая будет по адресу возвращать город и улицу. В поиске города и улицы будем использовать следующий факт: практически во всех адресах название улицы  идет перед номером дома/владения, название населенного пункта идет перед названием улицы. Но есть исключения:\n",
    "- В Зеленограде используется в основном квартально-корпусная нумерация домов и названия улиц встречаются редко. Корпус представляет собой номер микрорайона+номер дома. Получается, что термин улица не применим к домам в Зеленограде, где в адресе есть корпус.\n",
    "- Для микрорайона Северное Чертаново не указано название улицы в адресе\n",
    "- Для Волжского бульвара нет запятой между названием улицы и номером дома"
   ]
  },
  {
   "cell_type": "code",
   "execution_count": 30,
   "metadata": {},
   "outputs": [
    {
     "data": {
      "text/html": [
       "<div>\n",
       "<style scoped>\n",
       "    .dataframe tbody tr th:only-of-type {\n",
       "        vertical-align: middle;\n",
       "    }\n",
       "\n",
       "    .dataframe tbody tr th {\n",
       "        vertical-align: top;\n",
       "    }\n",
       "\n",
       "    .dataframe thead th {\n",
       "        text-align: right;\n",
       "    }\n",
       "</style>\n",
       "<table border=\"1\" class=\"dataframe\">\n",
       "  <thead>\n",
       "    <tr style=\"text-align: right;\">\n",
       "      <th></th>\n",
       "      <th>id</th>\n",
       "      <th>name</th>\n",
       "      <th>chain</th>\n",
       "      <th>type</th>\n",
       "      <th>address</th>\n",
       "      <th>number</th>\n",
       "      <th>town</th>\n",
       "      <th>street</th>\n",
       "    </tr>\n",
       "  </thead>\n",
       "  <tbody>\n",
       "    <tr>\n",
       "      <td>0</td>\n",
       "      <td>151635</td>\n",
       "      <td>сметана</td>\n",
       "      <td>False</td>\n",
       "      <td>кафе</td>\n",
       "      <td>город Москва, улица Егора Абакумова, дом 9</td>\n",
       "      <td>48.0</td>\n",
       "      <td>город Москва</td>\n",
       "      <td>улица Егора Абакумова</td>\n",
       "    </tr>\n",
       "    <tr>\n",
       "      <td>1</td>\n",
       "      <td>77874</td>\n",
       "      <td>родник</td>\n",
       "      <td>False</td>\n",
       "      <td>кафе</td>\n",
       "      <td>город Москва, улица Талалихина, дом 2/1, корпус 1</td>\n",
       "      <td>35.0</td>\n",
       "      <td>город Москва</td>\n",
       "      <td>улица Талалихина</td>\n",
       "    </tr>\n",
       "    <tr>\n",
       "      <td>2</td>\n",
       "      <td>24309</td>\n",
       "      <td>кафе «академия»</td>\n",
       "      <td>False</td>\n",
       "      <td>кафе</td>\n",
       "      <td>город Москва, Абельмановская улица, дом 6</td>\n",
       "      <td>95.0</td>\n",
       "      <td>город Москва</td>\n",
       "      <td>Абельмановская улица</td>\n",
       "    </tr>\n",
       "    <tr>\n",
       "      <td>3</td>\n",
       "      <td>21894</td>\n",
       "      <td>пиццетория</td>\n",
       "      <td>True</td>\n",
       "      <td>кафе</td>\n",
       "      <td>город Москва, Абрамцевская улица, дом 1</td>\n",
       "      <td>40.0</td>\n",
       "      <td>город Москва</td>\n",
       "      <td>Абрамцевская улица</td>\n",
       "    </tr>\n",
       "    <tr>\n",
       "      <td>4</td>\n",
       "      <td>119365</td>\n",
       "      <td>кафе «вишневая метель»</td>\n",
       "      <td>False</td>\n",
       "      <td>кафе</td>\n",
       "      <td>город Москва, Абрамцевская улица, дом 9, корпус 1</td>\n",
       "      <td>50.0</td>\n",
       "      <td>город Москва</td>\n",
       "      <td>Абрамцевская улица</td>\n",
       "    </tr>\n",
       "  </tbody>\n",
       "</table>\n",
       "</div>"
      ],
      "text/plain": [
       "       id                    name  chain  type  \\\n",
       "0  151635                 сметана  False  кафе   \n",
       "1   77874                  родник  False  кафе   \n",
       "2   24309         кафе «академия»  False  кафе   \n",
       "3   21894              пиццетория   True  кафе   \n",
       "4  119365  кафе «вишневая метель»  False  кафе   \n",
       "\n",
       "                                             address  number          town  \\\n",
       "0         город Москва, улица Егора Абакумова, дом 9    48.0  город Москва   \n",
       "1  город Москва, улица Талалихина, дом 2/1, корпус 1    35.0  город Москва   \n",
       "2          город Москва, Абельмановская улица, дом 6    95.0  город Москва   \n",
       "3            город Москва, Абрамцевская улица, дом 1    40.0  город Москва   \n",
       "4  город Москва, Абрамцевская улица, дом 9, корпус 1    50.0  город Москва   \n",
       "\n",
       "                  street  \n",
       "0  улица Егора Абакумова  \n",
       "1       улица Талалихина  \n",
       "2   Абельмановская улица  \n",
       "3     Абрамцевская улица  \n",
       "4     Абрамцевская улица  "
      ]
     },
     "execution_count": 30,
     "metadata": {},
     "output_type": "execute_result"
    }
   ],
   "source": [
    "def set_street_town(row):\n",
    "    splitted = row.split(',') # делим адрес на части по запятым\n",
    "    i = len(splitted)-1 # находим индекс последнего элемента в массиве частей адреса\n",
    "    street = ''\n",
    "    town = ''\n",
    "    while i >= 0:  # пройдем по массиву составляющих адреса из конца в начало  \n",
    "        if i>0  and (splitted[i].strip().startswith('дом') or splitted[i].strip().startswith('владение')): # данный элемент это номер дома        \n",
    "            if i-1 >=0:\n",
    "                street = splitted[i-1].strip() # в предыдущем элементе перед домом прописано название улицы\n",
    "            if i-2 >= 0:\n",
    "                town = splitted[i-2].strip()# перед домом на два элемента назад прописано название населенного пункта\n",
    "            return town, street\n",
    "        i -= 1 # уменьшаем счетчик, чтобы перейти к следующему элементц массива\n",
    "    # обработка исключений    \n",
    "    if('город Москва, город Зеленоград, корпус' in row):\n",
    "        town = 'город Зеленоград'\n",
    "        street = np.NaN\n",
    "    else:\n",
    "        if('микрорайон Северное Чертаново' in row):\n",
    "            town = 'город Москва'\n",
    "            street = np.NaN\n",
    "        else:\n",
    "            if('квартал Волжский Бульвар' in row):\n",
    "                town = 'город Москва'\n",
    "                street = 'Волжский Бульвар'\n",
    "    return town, street\n",
    "    \n",
    "\n",
    "    \n",
    "\n",
    "df['town'],df['street'] = zip(*df['address'].apply(set_street_town))\n",
    "df.head()"
   ]
  },
  {
   "cell_type": "markdown",
   "metadata": {},
   "source": [
    "Посмотрим есть ли адреса, где не удалось проставить название улицы"
   ]
  },
  {
   "cell_type": "code",
   "execution_count": 31,
   "metadata": {},
   "outputs": [
    {
     "data": {
      "text/html": [
       "<div>\n",
       "<style scoped>\n",
       "    .dataframe tbody tr th:only-of-type {\n",
       "        vertical-align: middle;\n",
       "    }\n",
       "\n",
       "    .dataframe tbody tr th {\n",
       "        vertical-align: top;\n",
       "    }\n",
       "\n",
       "    .dataframe thead th {\n",
       "        text-align: right;\n",
       "    }\n",
       "</style>\n",
       "<table border=\"1\" class=\"dataframe\">\n",
       "  <thead>\n",
       "    <tr style=\"text-align: right;\">\n",
       "      <th></th>\n",
       "      <th>id</th>\n",
       "      <th>name</th>\n",
       "      <th>chain</th>\n",
       "      <th>type</th>\n",
       "      <th>address</th>\n",
       "      <th>number</th>\n",
       "      <th>town</th>\n",
       "      <th>street</th>\n",
       "    </tr>\n",
       "  </thead>\n",
       "  <tbody>\n",
       "    <tr>\n",
       "      <td>11434</td>\n",
       "      <td>184164</td>\n",
       "      <td>кофе</td>\n",
       "      <td>False</td>\n",
       "      <td>кафетерий</td>\n",
       "      <td>город Москва, город Зеленоград, Крюковская площадь, строение 7</td>\n",
       "      <td>4.0</td>\n",
       "      <td></td>\n",
       "      <td></td>\n",
       "    </tr>\n",
       "  </tbody>\n",
       "</table>\n",
       "</div>"
      ],
      "text/plain": [
       "           id  name  chain       type  \\\n",
       "11434  184164  кофе  False  кафетерий   \n",
       "\n",
       "                                                              address  number  \\\n",
       "11434  город Москва, город Зеленоград, Крюковская площадь, строение 7     4.0   \n",
       "\n",
       "      town street  \n",
       "11434              "
      ]
     },
     "execution_count": 31,
     "metadata": {},
     "output_type": "execute_result"
    }
   ],
   "source": [
    "df.query('street == \"\"')"
   ]
  },
  {
   "cell_type": "markdown",
   "metadata": {},
   "source": [
    "Алгоритм не смог обработать данный адрес, т.к. в качестве номера дома используется строение. Проставим город и улицу вручную"
   ]
  },
  {
   "cell_type": "code",
   "execution_count": 32,
   "metadata": {},
   "outputs": [
    {
     "data": {
      "text/plain": [
       "0"
      ]
     },
     "execution_count": 32,
     "metadata": {},
     "output_type": "execute_result"
    }
   ],
   "source": [
    "df.loc[df['street'] == \"\",'town'] = 'город Зеленоград'\n",
    "df.loc[df['street'] == \"\",'street'] = np.NaN\n",
    "df.query('street == \"\"').shape[0]"
   ]
  },
  {
   "cell_type": "markdown",
   "metadata": {},
   "source": [
    "Посмотрим есть ли адреса, где не удалось проставить название города"
   ]
  },
  {
   "cell_type": "code",
   "execution_count": 33,
   "metadata": {},
   "outputs": [
    {
     "data": {
      "text/html": [
       "<div>\n",
       "<style scoped>\n",
       "    .dataframe tbody tr th:only-of-type {\n",
       "        vertical-align: middle;\n",
       "    }\n",
       "\n",
       "    .dataframe tbody tr th {\n",
       "        vertical-align: top;\n",
       "    }\n",
       "\n",
       "    .dataframe thead th {\n",
       "        text-align: right;\n",
       "    }\n",
       "</style>\n",
       "<table border=\"1\" class=\"dataframe\">\n",
       "  <thead>\n",
       "    <tr style=\"text-align: right;\">\n",
       "      <th></th>\n",
       "      <th>id</th>\n",
       "      <th>name</th>\n",
       "      <th>chain</th>\n",
       "      <th>type</th>\n",
       "      <th>address</th>\n",
       "      <th>number</th>\n",
       "      <th>town</th>\n",
       "      <th>street</th>\n",
       "    </tr>\n",
       "  </thead>\n",
       "  <tbody>\n",
       "    <tr>\n",
       "      <td>859</td>\n",
       "      <td>23601</td>\n",
       "      <td>буфет - гбоу сош № 64</td>\n",
       "      <td>False</td>\n",
       "      <td>буфет</td>\n",
       "      <td>Партизанская улица, дом 30</td>\n",
       "      <td>100.0</td>\n",
       "      <td></td>\n",
       "      <td>Партизанская улица</td>\n",
       "    </tr>\n",
       "    <tr>\n",
       "      <td>860</td>\n",
       "      <td>23604</td>\n",
       "      <td>буфет - гбоу 60</td>\n",
       "      <td>False</td>\n",
       "      <td>буфет</td>\n",
       "      <td>Партизанская улица, дом 30</td>\n",
       "      <td>100.0</td>\n",
       "      <td></td>\n",
       "      <td>Партизанская улица</td>\n",
       "    </tr>\n",
       "    <tr>\n",
       "      <td>1491</td>\n",
       "      <td>25349</td>\n",
       "      <td>ресторан «гранатовый сад»</td>\n",
       "      <td>False</td>\n",
       "      <td>ресторан</td>\n",
       "      <td>Поречная улица, дом 5/14, строение 1</td>\n",
       "      <td>40.0</td>\n",
       "      <td></td>\n",
       "      <td>Поречная улица</td>\n",
       "    </tr>\n",
       "    <tr>\n",
       "      <td>7691</td>\n",
       "      <td>132359</td>\n",
       "      <td>кафе «la carotte»</td>\n",
       "      <td>False</td>\n",
       "      <td>кафе</td>\n",
       "      <td>1-й Нагатинский проезд, дом 10</td>\n",
       "      <td>198.0</td>\n",
       "      <td></td>\n",
       "      <td>1-й Нагатинский проезд</td>\n",
       "    </tr>\n",
       "    <tr>\n",
       "      <td>7827</td>\n",
       "      <td>28214</td>\n",
       "      <td>роснефть (закрытое)</td>\n",
       "      <td>False</td>\n",
       "      <td>столовая</td>\n",
       "      <td>Софийская набережная, дом 26/1, строение 1</td>\n",
       "      <td>80.0</td>\n",
       "      <td></td>\n",
       "      <td>Софийская набережная</td>\n",
       "    </tr>\n",
       "    <tr>\n",
       "      <td>7938</td>\n",
       "      <td>25019</td>\n",
       "      <td>клуб высоцкого</td>\n",
       "      <td>False</td>\n",
       "      <td>кафе</td>\n",
       "      <td>Нижний Таганский тупик, дом 3, строение 1</td>\n",
       "      <td>94.0</td>\n",
       "      <td></td>\n",
       "      <td>Нижний Таганский тупик</td>\n",
       "    </tr>\n",
       "    <tr>\n",
       "      <td>8759</td>\n",
       "      <td>21845</td>\n",
       "      <td>шоколадница</td>\n",
       "      <td>True</td>\n",
       "      <td>кафе</td>\n",
       "      <td>Николоямская улица, дом 28/60, строение 1</td>\n",
       "      <td>56.0</td>\n",
       "      <td></td>\n",
       "      <td>Николоямская улица</td>\n",
       "    </tr>\n",
       "    <tr>\n",
       "      <td>8760</td>\n",
       "      <td>25859</td>\n",
       "      <td>джонджоли</td>\n",
       "      <td>False</td>\n",
       "      <td>ресторан</td>\n",
       "      <td>Николоямская улица, дом 28/60, строение 1</td>\n",
       "      <td>90.0</td>\n",
       "      <td></td>\n",
       "      <td>Николоямская улица</td>\n",
       "    </tr>\n",
       "    <tr>\n",
       "      <td>8764</td>\n",
       "      <td>80008</td>\n",
       "      <td>вкусная жизнь</td>\n",
       "      <td>False</td>\n",
       "      <td>ресторан</td>\n",
       "      <td>улица Каманина, домовладение 11, строение 2</td>\n",
       "      <td>35.0</td>\n",
       "      <td></td>\n",
       "      <td>улица Каманина</td>\n",
       "    </tr>\n",
       "    <tr>\n",
       "      <td>8771</td>\n",
       "      <td>144391</td>\n",
       "      <td>винный бар alma valley</td>\n",
       "      <td>False</td>\n",
       "      <td>бар</td>\n",
       "      <td>Погодинская улица, дом 4, строение 1</td>\n",
       "      <td>30.0</td>\n",
       "      <td></td>\n",
       "      <td>Погодинская улица</td>\n",
       "    </tr>\n",
       "    <tr>\n",
       "      <td>8773</td>\n",
       "      <td>101149</td>\n",
       "      <td>кафе «музыкальный клуб форте»</td>\n",
       "      <td>False</td>\n",
       "      <td>кафе</td>\n",
       "      <td>Большая Бронная улица, дом 20/1/27, строение 2</td>\n",
       "      <td>74.0</td>\n",
       "      <td></td>\n",
       "      <td>Большая Бронная улица</td>\n",
       "    </tr>\n",
       "    <tr>\n",
       "      <td>8776</td>\n",
       "      <td>26477</td>\n",
       "      <td>ресторан «2545»</td>\n",
       "      <td>False</td>\n",
       "      <td>ресторан</td>\n",
       "      <td>2-я Брестская улица, дом 1, строение 1</td>\n",
       "      <td>30.0</td>\n",
       "      <td></td>\n",
       "      <td>2-я Брестская улица</td>\n",
       "    </tr>\n",
       "    <tr>\n",
       "      <td>8793</td>\n",
       "      <td>29070</td>\n",
       "      <td>ст шк.2013 «школьник-юз»</td>\n",
       "      <td>False</td>\n",
       "      <td>столовая</td>\n",
       "      <td>Профсоюзная улица, дом 118Б, корпус 1</td>\n",
       "      <td>220.0</td>\n",
       "      <td></td>\n",
       "      <td>Профсоюзная улица</td>\n",
       "    </tr>\n",
       "    <tr>\n",
       "      <td>8798</td>\n",
       "      <td>151546</td>\n",
       "      <td>кафе «skuratov»</td>\n",
       "      <td>False</td>\n",
       "      <td>кафе</td>\n",
       "      <td>Калашный переулок, дом 8А/5, строение 3</td>\n",
       "      <td>20.0</td>\n",
       "      <td></td>\n",
       "      <td>Калашный переулок</td>\n",
       "    </tr>\n",
       "    <tr>\n",
       "      <td>8803</td>\n",
       "      <td>83965</td>\n",
       "      <td>чебуречная</td>\n",
       "      <td>False</td>\n",
       "      <td>кафе</td>\n",
       "      <td>Солянский тупик, дом 1/4, строение 1</td>\n",
       "      <td>0.0</td>\n",
       "      <td></td>\n",
       "      <td>Солянский тупик</td>\n",
       "    </tr>\n",
       "    <tr>\n",
       "      <td>8804</td>\n",
       "      <td>26762</td>\n",
       "      <td>ресторан «бирхоф»</td>\n",
       "      <td>False</td>\n",
       "      <td>кафе</td>\n",
       "      <td>улица Земляной Вал, дом 58/23, строение 1А</td>\n",
       "      <td>54.0</td>\n",
       "      <td></td>\n",
       "      <td>улица Земляной Вал</td>\n",
       "    </tr>\n",
       "    <tr>\n",
       "      <td>8808</td>\n",
       "      <td>24987</td>\n",
       "      <td>шаурма на углях-чайхана баракат</td>\n",
       "      <td>False</td>\n",
       "      <td>кафе</td>\n",
       "      <td>Таганская площадь, дом 88, строение 4</td>\n",
       "      <td>80.0</td>\n",
       "      <td></td>\n",
       "      <td>Таганская площадь</td>\n",
       "    </tr>\n",
       "    <tr>\n",
       "      <td>8813</td>\n",
       "      <td>145235</td>\n",
       "      <td>кафе при азс</td>\n",
       "      <td>False</td>\n",
       "      <td>кафе</td>\n",
       "      <td>проезд Добролюбова, дом 2</td>\n",
       "      <td>0.0</td>\n",
       "      <td></td>\n",
       "      <td>проезд Добролюбова</td>\n",
       "    </tr>\n",
       "    <tr>\n",
       "      <td>8826</td>\n",
       "      <td>114367</td>\n",
       "      <td>столовая при автокомбинате № 12</td>\n",
       "      <td>False</td>\n",
       "      <td>столовая</td>\n",
       "      <td>улица Обручева, дом 23, строение 1</td>\n",
       "      <td>40.0</td>\n",
       "      <td></td>\n",
       "      <td>улица Обручева</td>\n",
       "    </tr>\n",
       "    <tr>\n",
       "      <td>8830</td>\n",
       "      <td>150170</td>\n",
       "      <td>столовая «вкусно поесть»</td>\n",
       "      <td>False</td>\n",
       "      <td>столовая</td>\n",
       "      <td>Вспольный переулок, дом 19/20, строение 1</td>\n",
       "      <td>100.0</td>\n",
       "      <td></td>\n",
       "      <td>Вспольный переулок</td>\n",
       "    </tr>\n",
       "    <tr>\n",
       "      <td>8834</td>\n",
       "      <td>146331</td>\n",
       "      <td>столовая</td>\n",
       "      <td>False</td>\n",
       "      <td>столовая</td>\n",
       "      <td>улица Ленинская Слобода, дом 26, строение 5</td>\n",
       "      <td>160.0</td>\n",
       "      <td></td>\n",
       "      <td>улица Ленинская Слобода</td>\n",
       "    </tr>\n",
       "    <tr>\n",
       "      <td>8835</td>\n",
       "      <td>146332</td>\n",
       "      <td>кафе</td>\n",
       "      <td>False</td>\n",
       "      <td>кафе</td>\n",
       "      <td>улица Ленинская Слобода, дом 26, строение 5</td>\n",
       "      <td>40.0</td>\n",
       "      <td></td>\n",
       "      <td>улица Ленинская Слобода</td>\n",
       "    </tr>\n",
       "    <tr>\n",
       "      <td>8836</td>\n",
       "      <td>151576</td>\n",
       "      <td>loft hall</td>\n",
       "      <td>False</td>\n",
       "      <td>кафе</td>\n",
       "      <td>улица Ленинская Слобода, дом 26, строение 11</td>\n",
       "      <td>95.0</td>\n",
       "      <td></td>\n",
       "      <td>улица Ленинская Слобода</td>\n",
       "    </tr>\n",
       "    <tr>\n",
       "      <td>8837</td>\n",
       "      <td>143533</td>\n",
       "      <td>ресторан «суфле» при гостинице</td>\n",
       "      <td>False</td>\n",
       "      <td>ресторан</td>\n",
       "      <td>Дербеневская улица, дом 11А, строение 17</td>\n",
       "      <td>60.0</td>\n",
       "      <td></td>\n",
       "      <td>Дербеневская улица</td>\n",
       "    </tr>\n",
       "    <tr>\n",
       "      <td>8842</td>\n",
       "      <td>19800</td>\n",
       "      <td>набатчиков а.п.</td>\n",
       "      <td>False</td>\n",
       "      <td>буфет</td>\n",
       "      <td>Проектируемый проезд N 5231, дом 8, строение 3</td>\n",
       "      <td>20.0</td>\n",
       "      <td></td>\n",
       "      <td>Проектируемый проезд N 5231</td>\n",
       "    </tr>\n",
       "    <tr>\n",
       "      <td>8843</td>\n",
       "      <td>19760</td>\n",
       "      <td>буфет при а-с юго-запад</td>\n",
       "      <td>False</td>\n",
       "      <td>буфет</td>\n",
       "      <td>Ленинский проспект, владение 164</td>\n",
       "      <td>16.0</td>\n",
       "      <td></td>\n",
       "      <td>Ленинский проспект</td>\n",
       "    </tr>\n",
       "    <tr>\n",
       "      <td>8854</td>\n",
       "      <td>140002</td>\n",
       "      <td>ресторан «пальмира»</td>\n",
       "      <td>False</td>\n",
       "      <td>ресторан</td>\n",
       "      <td>Новоданиловская набережная, дом 6</td>\n",
       "      <td>80.0</td>\n",
       "      <td></td>\n",
       "      <td>Новоданиловская набережная</td>\n",
       "    </tr>\n",
       "    <tr>\n",
       "      <td>8860</td>\n",
       "      <td>83951</td>\n",
       "      <td>бункер 42 на таганке</td>\n",
       "      <td>False</td>\n",
       "      <td>ресторан</td>\n",
       "      <td>5-й Котельнический переулок, дом 11</td>\n",
       "      <td>271.0</td>\n",
       "      <td></td>\n",
       "      <td>5-й Котельнический переулок</td>\n",
       "    </tr>\n",
       "    <tr>\n",
       "      <td>8867</td>\n",
       "      <td>27866</td>\n",
       "      <td>столовая генштаба</td>\n",
       "      <td>False</td>\n",
       "      <td>столовая</td>\n",
       "      <td>улица Знаменка, дом 14</td>\n",
       "      <td>90.0</td>\n",
       "      <td></td>\n",
       "      <td>улица Знаменка</td>\n",
       "    </tr>\n",
       "    <tr>\n",
       "      <td>8871</td>\n",
       "      <td>25684</td>\n",
       "      <td>экспромт</td>\n",
       "      <td>False</td>\n",
       "      <td>бар</td>\n",
       "      <td>Школьная улица, дом 48, строение 1</td>\n",
       "      <td>85.0</td>\n",
       "      <td></td>\n",
       "      <td>Школьная улица</td>\n",
       "    </tr>\n",
       "    <tr>\n",
       "      <td>8875</td>\n",
       "      <td>149863</td>\n",
       "      <td>школьно-базовая столовая</td>\n",
       "      <td>False</td>\n",
       "      <td>столовая</td>\n",
       "      <td>Полевая улица, дом 20</td>\n",
       "      <td>205.0</td>\n",
       "      <td></td>\n",
       "      <td>Полевая улица</td>\n",
       "    </tr>\n",
       "    <tr>\n",
       "      <td>8884</td>\n",
       "      <td>157826</td>\n",
       "      <td>пекарня beno</td>\n",
       "      <td>False</td>\n",
       "      <td>магазин (отдел кулинарии)</td>\n",
       "      <td>Митинская улица, дом 28, корпус 5, строение 1</td>\n",
       "      <td>0.0</td>\n",
       "      <td></td>\n",
       "      <td>Митинская улица</td>\n",
       "    </tr>\n",
       "    <tr>\n",
       "      <td>8890</td>\n",
       "      <td>125478</td>\n",
       "      <td>хижина</td>\n",
       "      <td>True</td>\n",
       "      <td>ресторан</td>\n",
       "      <td>Чертановская улица, владение 32Б</td>\n",
       "      <td>75.0</td>\n",
       "      <td></td>\n",
       "      <td>Чертановская улица</td>\n",
       "    </tr>\n",
       "    <tr>\n",
       "      <td>8897</td>\n",
       "      <td>74930</td>\n",
       "      <td>предприятие быстрого обслуживания «магбургер»</td>\n",
       "      <td>True</td>\n",
       "      <td>предприятие быстрого обслуживания</td>\n",
       "      <td>Варшавское шоссе, владение 99А</td>\n",
       "      <td>20.0</td>\n",
       "      <td></td>\n",
       "      <td>Варшавское шоссе</td>\n",
       "    </tr>\n",
       "    <tr>\n",
       "      <td>8899</td>\n",
       "      <td>158670</td>\n",
       "      <td>макдоналдс</td>\n",
       "      <td>True</td>\n",
       "      <td>кафе</td>\n",
       "      <td>улица Миклухо-Маклая, дом 18</td>\n",
       "      <td>110.0</td>\n",
       "      <td></td>\n",
       "      <td>улица Миклухо-Маклая</td>\n",
       "    </tr>\n",
       "    <tr>\n",
       "      <td>8903</td>\n",
       "      <td>25036</td>\n",
       "      <td>якитория</td>\n",
       "      <td>True</td>\n",
       "      <td>кафе</td>\n",
       "      <td>1-я Тверская-Ямская улица, дом 29/66, корпус 1</td>\n",
       "      <td>456.0</td>\n",
       "      <td></td>\n",
       "      <td>1-я Тверская-Ямская улица</td>\n",
       "    </tr>\n",
       "    <tr>\n",
       "      <td>8904</td>\n",
       "      <td>136723</td>\n",
       "      <td>шоколадница</td>\n",
       "      <td>True</td>\n",
       "      <td>кафе</td>\n",
       "      <td>улица Ленинская Слобода, дом 26</td>\n",
       "      <td>70.0</td>\n",
       "      <td></td>\n",
       "      <td>улица Ленинская Слобода</td>\n",
       "    </tr>\n",
       "    <tr>\n",
       "      <td>9214</td>\n",
       "      <td>161931</td>\n",
       "      <td>заяц и шляпа</td>\n",
       "      <td>False</td>\n",
       "      <td>кафе</td>\n",
       "      <td>Краснобогатырская улица, дом 90, строение 1</td>\n",
       "      <td>35.0</td>\n",
       "      <td></td>\n",
       "      <td>Краснобогатырская улица</td>\n",
       "    </tr>\n",
       "    <tr>\n",
       "      <td>9445</td>\n",
       "      <td>157322</td>\n",
       "      <td>тцсо чертаново «кдп»</td>\n",
       "      <td>False</td>\n",
       "      <td>столовая</td>\n",
       "      <td>Медынская улица, дом 11А</td>\n",
       "      <td>45.0</td>\n",
       "      <td></td>\n",
       "      <td>Медынская улица</td>\n",
       "    </tr>\n",
       "    <tr>\n",
       "      <td>9763</td>\n",
       "      <td>169542</td>\n",
       "      <td>healthy food</td>\n",
       "      <td>True</td>\n",
       "      <td>кафе</td>\n",
       "      <td>Таганская улица, дом 19, корпус 1</td>\n",
       "      <td>25.0</td>\n",
       "      <td></td>\n",
       "      <td>Таганская улица</td>\n",
       "    </tr>\n",
       "    <tr>\n",
       "      <td>9998</td>\n",
       "      <td>171555</td>\n",
       "      <td>жар птица</td>\n",
       "      <td>False</td>\n",
       "      <td>кафе</td>\n",
       "      <td>Коровинское шоссе, дом 46, корпус 1</td>\n",
       "      <td>50.0</td>\n",
       "      <td></td>\n",
       "      <td>Коровинское шоссе</td>\n",
       "    </tr>\n",
       "    <tr>\n",
       "      <td>10010</td>\n",
       "      <td>171646</td>\n",
       "      <td>столовая - буфет при цатра</td>\n",
       "      <td>False</td>\n",
       "      <td>столовая</td>\n",
       "      <td>Суворовская площадь, дом 2</td>\n",
       "      <td>40.0</td>\n",
       "      <td></td>\n",
       "      <td>Суворовская площадь</td>\n",
       "    </tr>\n",
       "    <tr>\n",
       "      <td>10200</td>\n",
       "      <td>171031</td>\n",
       "      <td>макдоналдс</td>\n",
       "      <td>True</td>\n",
       "      <td>предприятие быстрого обслуживания</td>\n",
       "      <td>Тушинская улица, дом 16, строение 2</td>\n",
       "      <td>133.0</td>\n",
       "      <td></td>\n",
       "      <td>Тушинская улица</td>\n",
       "    </tr>\n",
       "    <tr>\n",
       "      <td>10458</td>\n",
       "      <td>174842</td>\n",
       "      <td>блэк стоун</td>\n",
       "      <td>False</td>\n",
       "      <td>бар</td>\n",
       "      <td>Большая Серпуховская улица, дом 48, строение 2</td>\n",
       "      <td>15.0</td>\n",
       "      <td></td>\n",
       "      <td>Большая Серпуховская улица</td>\n",
       "    </tr>\n",
       "    <tr>\n",
       "      <td>10505</td>\n",
       "      <td>179007</td>\n",
       "      <td>караоке song vape bar steak house</td>\n",
       "      <td>False</td>\n",
       "      <td>ресторан</td>\n",
       "      <td>Николоямская улица, дом 28/60, строение 1</td>\n",
       "      <td>40.0</td>\n",
       "      <td></td>\n",
       "      <td>Николоямская улица</td>\n",
       "    </tr>\n",
       "    <tr>\n",
       "      <td>10712</td>\n",
       "      <td>187726</td>\n",
       "      <td>столовая arcus</td>\n",
       "      <td>False</td>\n",
       "      <td>столовая</td>\n",
       "      <td>Ленинградский проспект, дом 37, корпус 4</td>\n",
       "      <td>22.0</td>\n",
       "      <td></td>\n",
       "      <td>Ленинградский проспект</td>\n",
       "    </tr>\n",
       "    <tr>\n",
       "      <td>10715</td>\n",
       "      <td>178003</td>\n",
       "      <td>столовая</td>\n",
       "      <td>False</td>\n",
       "      <td>столовая</td>\n",
       "      <td>2-я Брестская улица, дом 5, строение 1</td>\n",
       "      <td>30.0</td>\n",
       "      <td></td>\n",
       "      <td>2-я Брестская улица</td>\n",
       "    </tr>\n",
       "    <tr>\n",
       "      <td>10852</td>\n",
       "      <td>187668</td>\n",
       "      <td>баркас</td>\n",
       "      <td>False</td>\n",
       "      <td>кафетерий</td>\n",
       "      <td>Ленинградский проспект, дом 39, строение 2</td>\n",
       "      <td>10.0</td>\n",
       "      <td></td>\n",
       "      <td>Ленинградский проспект</td>\n",
       "    </tr>\n",
       "    <tr>\n",
       "      <td>10959</td>\n",
       "      <td>173155</td>\n",
       "      <td>город-сад</td>\n",
       "      <td>False</td>\n",
       "      <td>кафе</td>\n",
       "      <td>Садовая-Сухаревская улица, дом 2/34, строение 2</td>\n",
       "      <td>30.0</td>\n",
       "      <td></td>\n",
       "      <td>Садовая-Сухаревская улица</td>\n",
       "    </tr>\n",
       "    <tr>\n",
       "      <td>10988</td>\n",
       "      <td>105989</td>\n",
       "      <td>люди как люди</td>\n",
       "      <td>False</td>\n",
       "      <td>кафе</td>\n",
       "      <td>Солянский тупик, дом 1/4, строение 2</td>\n",
       "      <td>20.0</td>\n",
       "      <td></td>\n",
       "      <td>Солянский тупик</td>\n",
       "    </tr>\n",
       "    <tr>\n",
       "      <td>11615</td>\n",
       "      <td>175550</td>\n",
       "      <td>кафе «кофе &amp; молоко»</td>\n",
       "      <td>False</td>\n",
       "      <td>кафе</td>\n",
       "      <td>улица Сергея Макеева, дом 9, строение 2</td>\n",
       "      <td>15.0</td>\n",
       "      <td></td>\n",
       "      <td>улица Сергея Макеева</td>\n",
       "    </tr>\n",
       "    <tr>\n",
       "      <td>11963</td>\n",
       "      <td>189558</td>\n",
       "      <td>гурман</td>\n",
       "      <td>True</td>\n",
       "      <td>ресторан</td>\n",
       "      <td>Киевская улица, дом 7</td>\n",
       "      <td>180.0</td>\n",
       "      <td></td>\n",
       "      <td>Киевская улица</td>\n",
       "    </tr>\n",
       "    <tr>\n",
       "      <td>12017</td>\n",
       "      <td>186541</td>\n",
       "      <td>лукойл-центрнефтьпродукт</td>\n",
       "      <td>True</td>\n",
       "      <td>кафе</td>\n",
       "      <td>Алтуфьевское шоссе, дом 52А</td>\n",
       "      <td>10.0</td>\n",
       "      <td></td>\n",
       "      <td>Алтуфьевское шоссе</td>\n",
       "    </tr>\n",
       "    <tr>\n",
       "      <td>12401</td>\n",
       "      <td>193058</td>\n",
       "      <td>hang kong</td>\n",
       "      <td>False</td>\n",
       "      <td>кафе</td>\n",
       "      <td>улица Льва Толстого, дом 18</td>\n",
       "      <td>70.0</td>\n",
       "      <td></td>\n",
       "      <td>улица Льва Толстого</td>\n",
       "    </tr>\n",
       "    <tr>\n",
       "      <td>12402</td>\n",
       "      <td>193074</td>\n",
       "      <td>bb&amp;burgers</td>\n",
       "      <td>False</td>\n",
       "      <td>кафе</td>\n",
       "      <td>улица Льва Толстого, дом 18</td>\n",
       "      <td>50.0</td>\n",
       "      <td></td>\n",
       "      <td>улица Льва Толстого</td>\n",
       "    </tr>\n",
       "    <tr>\n",
       "      <td>12403</td>\n",
       "      <td>193080</td>\n",
       "      <td>buba by sumosan</td>\n",
       "      <td>False</td>\n",
       "      <td>кафе</td>\n",
       "      <td>улица Льва Толстого, дом 18</td>\n",
       "      <td>80.0</td>\n",
       "      <td></td>\n",
       "      <td>улица Льва Толстого</td>\n",
       "    </tr>\n",
       "    <tr>\n",
       "      <td>12535</td>\n",
       "      <td>182624</td>\n",
       "      <td>ресторан «flat iron bar &amp; roadhouse»</td>\n",
       "      <td>False</td>\n",
       "      <td>ресторан</td>\n",
       "      <td>Вознесенский переулок, дом 7, строение 1</td>\n",
       "      <td>75.0</td>\n",
       "      <td></td>\n",
       "      <td>Вознесенский переулок</td>\n",
       "    </tr>\n",
       "    <tr>\n",
       "      <td>12704</td>\n",
       "      <td>202752</td>\n",
       "      <td>the rooms</td>\n",
       "      <td>False</td>\n",
       "      <td>кафе</td>\n",
       "      <td>Николоямская улица, дом 38/14/23, строение 3</td>\n",
       "      <td>150.0</td>\n",
       "      <td></td>\n",
       "      <td>Николоямская улица</td>\n",
       "    </tr>\n",
       "    <tr>\n",
       "      <td>13184</td>\n",
       "      <td>192903</td>\n",
       "      <td>сабрина</td>\n",
       "      <td>False</td>\n",
       "      <td>кафе</td>\n",
       "      <td>Бауманская улица, дом 7, строение 3</td>\n",
       "      <td>30.0</td>\n",
       "      <td></td>\n",
       "      <td>Бауманская улица</td>\n",
       "    </tr>\n",
       "    <tr>\n",
       "      <td>13185</td>\n",
       "      <td>192918</td>\n",
       "      <td>limassol</td>\n",
       "      <td>False</td>\n",
       "      <td>кафе</td>\n",
       "      <td>Бауманская улица, дом 7, строение 3</td>\n",
       "      <td>42.0</td>\n",
       "      <td></td>\n",
       "      <td>Бауманская улица</td>\n",
       "    </tr>\n",
       "    <tr>\n",
       "      <td>13399</td>\n",
       "      <td>204788</td>\n",
       "      <td>крошка картошка</td>\n",
       "      <td>True</td>\n",
       "      <td>предприятие быстрого обслуживания</td>\n",
       "      <td>Солянский тупик, дом 1/4, строение 1</td>\n",
       "      <td>15.0</td>\n",
       "      <td></td>\n",
       "      <td>Солянский тупик</td>\n",
       "    </tr>\n",
       "    <tr>\n",
       "      <td>13991</td>\n",
       "      <td>204917</td>\n",
       "      <td>шаурма на углях- чайхана баракат</td>\n",
       "      <td>False</td>\n",
       "      <td>кафе</td>\n",
       "      <td>Таганская площадь, дом 88, строение 4</td>\n",
       "      <td>80.0</td>\n",
       "      <td></td>\n",
       "      <td>Таганская площадь</td>\n",
       "    </tr>\n",
       "    <tr>\n",
       "      <td>14003</td>\n",
       "      <td>211986</td>\n",
       "      <td>fresh cafe</td>\n",
       "      <td>False</td>\n",
       "      <td>кафе</td>\n",
       "      <td>Шарикоподшипниковская улица, дом 5, строение 1</td>\n",
       "      <td>42.0</td>\n",
       "      <td></td>\n",
       "      <td>Шарикоподшипниковская улица</td>\n",
       "    </tr>\n",
       "  </tbody>\n",
       "</table>\n",
       "</div>"
      ],
      "text/plain": [
       "           id                                           name  chain  \\\n",
       "859     23601                          буфет - гбоу сош № 64  False   \n",
       "860     23604                                буфет - гбоу 60  False   \n",
       "1491    25349                      ресторан «гранатовый сад»  False   \n",
       "7691   132359                              кафе «la carotte»  False   \n",
       "7827    28214                            роснефть (закрытое)  False   \n",
       "7938    25019                                 клуб высоцкого  False   \n",
       "8759    21845                                    шоколадница   True   \n",
       "8760    25859                                      джонджоли  False   \n",
       "8764    80008                                  вкусная жизнь  False   \n",
       "8771   144391                         винный бар alma valley  False   \n",
       "8773   101149                  кафе «музыкальный клуб форте»  False   \n",
       "8776    26477                                ресторан «2545»  False   \n",
       "8793    29070                       ст шк.2013 «школьник-юз»  False   \n",
       "8798   151546                                кафе «skuratov»  False   \n",
       "8803    83965                                     чебуречная  False   \n",
       "8804    26762                              ресторан «бирхоф»  False   \n",
       "8808    24987                шаурма на углях-чайхана баракат  False   \n",
       "8813   145235                                   кафе при азс  False   \n",
       "8826   114367                столовая при автокомбинате № 12  False   \n",
       "8830   150170                       столовая «вкусно поесть»  False   \n",
       "8834   146331                                       столовая  False   \n",
       "8835   146332                                           кафе  False   \n",
       "8836   151576                                      loft hall  False   \n",
       "8837   143533                 ресторан «суфле» при гостинице  False   \n",
       "8842    19800                                набатчиков а.п.  False   \n",
       "8843    19760                        буфет при а-с юго-запад  False   \n",
       "8854   140002                            ресторан «пальмира»  False   \n",
       "8860    83951                           бункер 42 на таганке  False   \n",
       "8867    27866                              столовая генштаба  False   \n",
       "8871    25684                                       экспромт  False   \n",
       "8875   149863                       школьно-базовая столовая  False   \n",
       "8884   157826                                   пекарня beno  False   \n",
       "8890   125478                                         хижина   True   \n",
       "8897    74930  предприятие быстрого обслуживания «магбургер»   True   \n",
       "8899   158670                                     макдоналдс   True   \n",
       "8903    25036                                       якитория   True   \n",
       "8904   136723                                    шоколадница   True   \n",
       "9214   161931                                   заяц и шляпа  False   \n",
       "9445   157322                           тцсо чертаново «кдп»  False   \n",
       "9763   169542                                   healthy food   True   \n",
       "9998   171555                                      жар птица  False   \n",
       "10010  171646                     столовая - буфет при цатра  False   \n",
       "10200  171031                                     макдоналдс   True   \n",
       "10458  174842                                     блэк стоун  False   \n",
       "10505  179007              караоке song vape bar steak house  False   \n",
       "10712  187726                                 столовая arcus  False   \n",
       "10715  178003                                       столовая  False   \n",
       "10852  187668                                         баркас  False   \n",
       "10959  173155                                      город-сад  False   \n",
       "10988  105989                                  люди как люди  False   \n",
       "11615  175550                           кафе «кофе & молоко»  False   \n",
       "11963  189558                                         гурман   True   \n",
       "12017  186541                       лукойл-центрнефтьпродукт   True   \n",
       "12401  193058                                      hang kong  False   \n",
       "12402  193074                                     bb&burgers  False   \n",
       "12403  193080                                buba by sumosan  False   \n",
       "12535  182624           ресторан «flat iron bar & roadhouse»  False   \n",
       "12704  202752                                      the rooms  False   \n",
       "13184  192903                                        сабрина  False   \n",
       "13185  192918                                       limassol  False   \n",
       "13399  204788                                крошка картошка   True   \n",
       "13991  204917               шаурма на углях- чайхана баракат  False   \n",
       "14003  211986                                     fresh cafe  False   \n",
       "\n",
       "                                    type  \\\n",
       "859                                буфет   \n",
       "860                                буфет   \n",
       "1491                            ресторан   \n",
       "7691                                кафе   \n",
       "7827                            столовая   \n",
       "7938                                кафе   \n",
       "8759                                кафе   \n",
       "8760                            ресторан   \n",
       "8764                            ресторан   \n",
       "8771                                 бар   \n",
       "8773                                кафе   \n",
       "8776                            ресторан   \n",
       "8793                            столовая   \n",
       "8798                                кафе   \n",
       "8803                                кафе   \n",
       "8804                                кафе   \n",
       "8808                                кафе   \n",
       "8813                                кафе   \n",
       "8826                            столовая   \n",
       "8830                            столовая   \n",
       "8834                            столовая   \n",
       "8835                                кафе   \n",
       "8836                                кафе   \n",
       "8837                            ресторан   \n",
       "8842                               буфет   \n",
       "8843                               буфет   \n",
       "8854                            ресторан   \n",
       "8860                            ресторан   \n",
       "8867                            столовая   \n",
       "8871                                 бар   \n",
       "8875                            столовая   \n",
       "8884           магазин (отдел кулинарии)   \n",
       "8890                            ресторан   \n",
       "8897   предприятие быстрого обслуживания   \n",
       "8899                                кафе   \n",
       "8903                                кафе   \n",
       "8904                                кафе   \n",
       "9214                                кафе   \n",
       "9445                            столовая   \n",
       "9763                                кафе   \n",
       "9998                                кафе   \n",
       "10010                           столовая   \n",
       "10200  предприятие быстрого обслуживания   \n",
       "10458                                бар   \n",
       "10505                           ресторан   \n",
       "10712                           столовая   \n",
       "10715                           столовая   \n",
       "10852                          кафетерий   \n",
       "10959                               кафе   \n",
       "10988                               кафе   \n",
       "11615                               кафе   \n",
       "11963                           ресторан   \n",
       "12017                               кафе   \n",
       "12401                               кафе   \n",
       "12402                               кафе   \n",
       "12403                               кафе   \n",
       "12535                           ресторан   \n",
       "12704                               кафе   \n",
       "13184                               кафе   \n",
       "13185                               кафе   \n",
       "13399  предприятие быстрого обслуживания   \n",
       "13991                               кафе   \n",
       "14003                               кафе   \n",
       "\n",
       "                                               address  number town  \\\n",
       "859                         Партизанская улица, дом 30   100.0        \n",
       "860                         Партизанская улица, дом 30   100.0        \n",
       "1491              Поречная улица, дом 5/14, строение 1    40.0        \n",
       "7691                    1-й Нагатинский проезд, дом 10   198.0        \n",
       "7827        Софийская набережная, дом 26/1, строение 1    80.0        \n",
       "7938         Нижний Таганский тупик, дом 3, строение 1    94.0        \n",
       "8759         Николоямская улица, дом 28/60, строение 1    56.0        \n",
       "8760         Николоямская улица, дом 28/60, строение 1    90.0        \n",
       "8764       улица Каманина, домовладение 11, строение 2    35.0        \n",
       "8771              Погодинская улица, дом 4, строение 1    30.0        \n",
       "8773    Большая Бронная улица, дом 20/1/27, строение 2    74.0        \n",
       "8776            2-я Брестская улица, дом 1, строение 1    30.0        \n",
       "8793             Профсоюзная улица, дом 118Б, корпус 1   220.0        \n",
       "8798           Калашный переулок, дом 8А/5, строение 3    20.0        \n",
       "8803              Солянский тупик, дом 1/4, строение 1     0.0        \n",
       "8804        улица Земляной Вал, дом 58/23, строение 1А    54.0        \n",
       "8808             Таганская площадь, дом 88, строение 4    80.0        \n",
       "8813                         проезд Добролюбова, дом 2     0.0        \n",
       "8826                улица Обручева, дом 23, строение 1    40.0        \n",
       "8830         Вспольный переулок, дом 19/20, строение 1   100.0        \n",
       "8834       улица Ленинская Слобода, дом 26, строение 5   160.0        \n",
       "8835       улица Ленинская Слобода, дом 26, строение 5    40.0        \n",
       "8836      улица Ленинская Слобода, дом 26, строение 11    95.0        \n",
       "8837          Дербеневская улица, дом 11А, строение 17    60.0        \n",
       "8842    Проектируемый проезд N 5231, дом 8, строение 3    20.0        \n",
       "8843                  Ленинский проспект, владение 164    16.0        \n",
       "8854                 Новоданиловская набережная, дом 6    80.0        \n",
       "8860               5-й Котельнический переулок, дом 11   271.0        \n",
       "8867                            улица Знаменка, дом 14    90.0        \n",
       "8871                Школьная улица, дом 48, строение 1    85.0        \n",
       "8875                             Полевая улица, дом 20   205.0        \n",
       "8884     Митинская улица, дом 28, корпус 5, строение 1     0.0        \n",
       "8890                  Чертановская улица, владение 32Б    75.0        \n",
       "8897                    Варшавское шоссе, владение 99А    20.0        \n",
       "8899                      улица Миклухо-Маклая, дом 18   110.0        \n",
       "8903    1-я Тверская-Ямская улица, дом 29/66, корпус 1   456.0        \n",
       "8904                   улица Ленинская Слобода, дом 26    70.0        \n",
       "9214       Краснобогатырская улица, дом 90, строение 1    35.0        \n",
       "9445                          Медынская улица, дом 11А    45.0        \n",
       "9763                 Таганская улица, дом 19, корпус 1    25.0        \n",
       "9998               Коровинское шоссе, дом 46, корпус 1    50.0        \n",
       "10010                       Суворовская площадь, дом 2    40.0        \n",
       "10200              Тушинская улица, дом 16, строение 2   133.0        \n",
       "10458   Большая Серпуховская улица, дом 48, строение 2    15.0        \n",
       "10505        Николоямская улица, дом 28/60, строение 1    40.0        \n",
       "10712         Ленинградский проспект, дом 37, корпус 4    22.0        \n",
       "10715           2-я Брестская улица, дом 5, строение 1    30.0        \n",
       "10852       Ленинградский проспект, дом 39, строение 2    10.0        \n",
       "10959  Садовая-Сухаревская улица, дом 2/34, строение 2    30.0        \n",
       "10988             Солянский тупик, дом 1/4, строение 2    20.0        \n",
       "11615          улица Сергея Макеева, дом 9, строение 2    15.0        \n",
       "11963                            Киевская улица, дом 7   180.0        \n",
       "12017                      Алтуфьевское шоссе, дом 52А    10.0        \n",
       "12401                      улица Льва Толстого, дом 18    70.0        \n",
       "12402                      улица Льва Толстого, дом 18    50.0        \n",
       "12403                      улица Льва Толстого, дом 18    80.0        \n",
       "12535         Вознесенский переулок, дом 7, строение 1    75.0        \n",
       "12704     Николоямская улица, дом 38/14/23, строение 3   150.0        \n",
       "13184              Бауманская улица, дом 7, строение 3    30.0        \n",
       "13185              Бауманская улица, дом 7, строение 3    42.0        \n",
       "13399             Солянский тупик, дом 1/4, строение 1    15.0        \n",
       "13991            Таганская площадь, дом 88, строение 4    80.0        \n",
       "14003   Шарикоподшипниковская улица, дом 5, строение 1    42.0        \n",
       "\n",
       "                            street  \n",
       "859             Партизанская улица  \n",
       "860             Партизанская улица  \n",
       "1491                Поречная улица  \n",
       "7691        1-й Нагатинский проезд  \n",
       "7827          Софийская набережная  \n",
       "7938        Нижний Таганский тупик  \n",
       "8759            Николоямская улица  \n",
       "8760            Николоямская улица  \n",
       "8764                улица Каманина  \n",
       "8771             Погодинская улица  \n",
       "8773         Большая Бронная улица  \n",
       "8776           2-я Брестская улица  \n",
       "8793             Профсоюзная улица  \n",
       "8798             Калашный переулок  \n",
       "8803               Солянский тупик  \n",
       "8804            улица Земляной Вал  \n",
       "8808             Таганская площадь  \n",
       "8813            проезд Добролюбова  \n",
       "8826                улица Обручева  \n",
       "8830            Вспольный переулок  \n",
       "8834       улица Ленинская Слобода  \n",
       "8835       улица Ленинская Слобода  \n",
       "8836       улица Ленинская Слобода  \n",
       "8837            Дербеневская улица  \n",
       "8842   Проектируемый проезд N 5231  \n",
       "8843            Ленинский проспект  \n",
       "8854    Новоданиловская набережная  \n",
       "8860   5-й Котельнический переулок  \n",
       "8867                улица Знаменка  \n",
       "8871                Школьная улица  \n",
       "8875                 Полевая улица  \n",
       "8884               Митинская улица  \n",
       "8890            Чертановская улица  \n",
       "8897              Варшавское шоссе  \n",
       "8899          улица Миклухо-Маклая  \n",
       "8903     1-я Тверская-Ямская улица  \n",
       "8904       улица Ленинская Слобода  \n",
       "9214       Краснобогатырская улица  \n",
       "9445               Медынская улица  \n",
       "9763               Таганская улица  \n",
       "9998             Коровинское шоссе  \n",
       "10010          Суворовская площадь  \n",
       "10200              Тушинская улица  \n",
       "10458   Большая Серпуховская улица  \n",
       "10505           Николоямская улица  \n",
       "10712       Ленинградский проспект  \n",
       "10715          2-я Брестская улица  \n",
       "10852       Ленинградский проспект  \n",
       "10959    Садовая-Сухаревская улица  \n",
       "10988              Солянский тупик  \n",
       "11615         улица Сергея Макеева  \n",
       "11963               Киевская улица  \n",
       "12017           Алтуфьевское шоссе  \n",
       "12401          улица Льва Толстого  \n",
       "12402          улица Льва Толстого  \n",
       "12403          улица Льва Толстого  \n",
       "12535        Вознесенский переулок  \n",
       "12704           Николоямская улица  \n",
       "13184             Бауманская улица  \n",
       "13185             Бауманская улица  \n",
       "13399              Солянский тупик  \n",
       "13991            Таганская площадь  \n",
       "14003  Шарикоподшипниковская улица  "
      ]
     },
     "execution_count": 33,
     "metadata": {},
     "output_type": "execute_result"
    }
   ],
   "source": [
    "df.query('town == \"\"')"
   ]
  },
  {
   "cell_type": "markdown",
   "metadata": {},
   "source": [
    "Эти адреса алгоритм не смог обработать, т.к. адрес не содержат название города. Эти адреса относятся к Москве, проставим им название города"
   ]
  },
  {
   "cell_type": "code",
   "execution_count": 34,
   "metadata": {},
   "outputs": [
    {
     "data": {
      "text/plain": [
       "0"
      ]
     },
     "execution_count": 34,
     "metadata": {},
     "output_type": "execute_result"
    }
   ],
   "source": [
    "df['town'] = df['town'].replace('','город Москва')\n",
    "df.query('town == \"\"').shape[0]"
   ]
  },
  {
   "cell_type": "markdown",
   "metadata": {},
   "source": [
    "- ### <a id=\"step2.7\">Постройте график топ-10 улиц по количеству объектов общественного питания. Воспользуйтесь внешней информацией и ответьте на вопрос — в каких районах Москвы находятся эти улицы?"
   ]
  },
  {
   "cell_type": "markdown",
   "metadata": {},
   "source": [
    "Построим график топ-10 улиц по количеству объектов общественного питания"
   ]
  },
  {
   "cell_type": "code",
   "execution_count": 35,
   "metadata": {},
   "outputs": [
    {
     "data": {
      "image/png": "[encoded data removed]",
      "text/plain": [
       "<Figure size 1080x576 with 1 Axes>"
      ]
     },
     "metadata": {
      "needs_background": "light"
     },
     "output_type": "display_data"
    }
   ],
   "source": [
    "plt.figure(figsize=(15,8));\n",
    "ax = sns.countplot(y='street', data = df, order=pd.value_counts(df['street']).iloc[:10].index, orient = 'h')\n",
    "ax.set_title('Топ-10 улиц по количеству объектов общественного питания');\n",
    "ax.set_xlabel('количество объектов');\n",
    "ax.set_ylabel('улица');\n",
    "sns.despine();"
   ]
  },
  {
   "cell_type": "markdown",
   "metadata": {},
   "source": [
    "Больше всего объектов питания на Проспекте Мира, Профсоюзной улице и Ленинградском проспекте. Эо ожидаемо, т.к. эти улицы очень протяженные и находится не так далеко от центра города"
   ]
  },
  {
   "cell_type": "markdown",
   "metadata": {},
   "source": [
    "Построим таблицу с топ-10 улиц по количеству объектов общественного питания"
   ]
  },
  {
   "cell_type": "code",
   "execution_count": 36,
   "metadata": {},
   "outputs": [
    {
     "data": {
      "text/html": [
       "<div>\n",
       "<style scoped>\n",
       "    .dataframe tbody tr th:only-of-type {\n",
       "        vertical-align: middle;\n",
       "    }\n",
       "\n",
       "    .dataframe tbody tr th {\n",
       "        vertical-align: top;\n",
       "    }\n",
       "\n",
       "    .dataframe thead th {\n",
       "        text-align: right;\n",
       "    }\n",
       "</style>\n",
       "<table border=\"1\" class=\"dataframe\">\n",
       "  <thead>\n",
       "    <tr style=\"text-align: right;\">\n",
       "      <th></th>\n",
       "      <th>town</th>\n",
       "      <th>street</th>\n",
       "      <th>qty</th>\n",
       "      <th>address</th>\n",
       "    </tr>\n",
       "  </thead>\n",
       "  <tbody>\n",
       "    <tr>\n",
       "      <td>1425</td>\n",
       "      <td>город Москва</td>\n",
       "      <td>проспект Мира</td>\n",
       "      <td>196</td>\n",
       "      <td>город Москва , проспект Мира</td>\n",
       "    </tr>\n",
       "    <tr>\n",
       "      <td>1041</td>\n",
       "      <td>город Москва</td>\n",
       "      <td>Профсоюзная улица</td>\n",
       "      <td>181</td>\n",
       "      <td>город Москва , Профсоюзная улица</td>\n",
       "    </tr>\n",
       "    <tr>\n",
       "      <td>729</td>\n",
       "      <td>город Москва</td>\n",
       "      <td>Ленинградский проспект</td>\n",
       "      <td>172</td>\n",
       "      <td>город Москва , Ленинградский проспект</td>\n",
       "    </tr>\n",
       "    <tr>\n",
       "      <td>1026</td>\n",
       "      <td>город Москва</td>\n",
       "      <td>Пресненская набережная</td>\n",
       "      <td>165</td>\n",
       "      <td>город Москва , Пресненская набережная</td>\n",
       "    </tr>\n",
       "    <tr>\n",
       "      <td>451</td>\n",
       "      <td>город Москва</td>\n",
       "      <td>Варшавское шоссе</td>\n",
       "      <td>160</td>\n",
       "      <td>город Москва , Варшавское шоссе</td>\n",
       "    </tr>\n",
       "    <tr>\n",
       "      <td>732</td>\n",
       "      <td>город Москва</td>\n",
       "      <td>Ленинский проспект</td>\n",
       "      <td>148</td>\n",
       "      <td>город Москва , Ленинский проспект</td>\n",
       "    </tr>\n",
       "    <tr>\n",
       "      <td>1422</td>\n",
       "      <td>город Москва</td>\n",
       "      <td>проспект Вернадского</td>\n",
       "      <td>126</td>\n",
       "      <td>город Москва , проспект Вернадского</td>\n",
       "    </tr>\n",
       "    <tr>\n",
       "      <td>720</td>\n",
       "      <td>город Москва</td>\n",
       "      <td>Кутузовский проспект</td>\n",
       "      <td>114</td>\n",
       "      <td>город Москва , Кутузовский проспект</td>\n",
       "    </tr>\n",
       "    <tr>\n",
       "      <td>646</td>\n",
       "      <td>город Москва</td>\n",
       "      <td>Каширское шоссе</td>\n",
       "      <td>110</td>\n",
       "      <td>город Москва , Каширское шоссе</td>\n",
       "    </tr>\n",
       "    <tr>\n",
       "      <td>651</td>\n",
       "      <td>город Москва</td>\n",
       "      <td>Кировоградская улица</td>\n",
       "      <td>107</td>\n",
       "      <td>город Москва , Кировоградская улица</td>\n",
       "    </tr>\n",
       "  </tbody>\n",
       "</table>\n",
       "</div>"
      ],
      "text/plain": [
       "              town                  street  qty  \\\n",
       "1425  город Москва           проспект Мира  196   \n",
       "1041  город Москва       Профсоюзная улица  181   \n",
       "729   город Москва  Ленинградский проспект  172   \n",
       "1026  город Москва  Пресненская набережная  165   \n",
       "451   город Москва        Варшавское шоссе  160   \n",
       "732   город Москва      Ленинский проспект  148   \n",
       "1422  город Москва    проспект Вернадского  126   \n",
       "720   город Москва    Кутузовский проспект  114   \n",
       "646   город Москва         Каширское шоссе  110   \n",
       "651   город Москва    Кировоградская улица  107   \n",
       "\n",
       "                                    address  \n",
       "1425           город Москва , проспект Мира  \n",
       "1041       город Москва , Профсоюзная улица  \n",
       "729   город Москва , Ленинградский проспект  \n",
       "1026  город Москва , Пресненская набережная  \n",
       "451         город Москва , Варшавское шоссе  \n",
       "732       город Москва , Ленинский проспект  \n",
       "1422    город Москва , проспект Вернадского  \n",
       "720     город Москва , Кутузовский проспект  \n",
       "646          город Москва , Каширское шоссе  \n",
       "651     город Москва , Кировоградская улица  "
      ]
     },
     "execution_count": 36,
     "metadata": {},
     "output_type": "execute_result"
    }
   ],
   "source": [
    "top_10_by_street = df.query('street != \"\"').groupby(['town','street']).agg({'id':'count'}).reset_index().sort_values(by = 'id', ascending = False).head(10)\n",
    "top_10_by_street.columns = ['town','street','qty']\n",
    "top_10_by_street['address'] = top_10_by_street['town'] + ' , '+top_10_by_street['street']\n",
    "top_10_by_street"
   ]
  },
  {
   "cell_type": "markdown",
   "metadata": {},
   "source": [
    "Далее будет описан код в текстовых ячейках, который я использовала для получения района через API. Т.к. ключ я не могу приложить, то выкачала результат запроса в CSV и считываю результат уже из него"
   ]
  },
  {
   "cell_type": "markdown",
   "metadata": {},
   "source": [
    "Настроим геокодер Яндекса. Считаем токен из yaml файла"
   ]
  },
  {
   "cell_type": "markdown",
   "metadata": {},
   "source": [
    "from yaml import load, FullLoader\n",
    "\n",
    "config = load(open('config.yaml'), Loader=FullLoader)\n",
    "token = config['yandex_maps']['token']"
   ]
  },
  {
   "cell_type": "markdown",
   "metadata": {},
   "source": [
    "- Напишем функцию set_district, которая по адресу будет делать запрос к API Яндекса и возвращать район, если его найдет в ответе от API и error - в обратном случае. API Яндекса не возвращает название района, если сделать запрос по адресу, но возвращает его, если сделать запрос по координатам. Сначала по адресу мы будем находить координаты, после чего - район.\n",
    "- Напишем вспомогательную функцию filter_district, которая в json ответе будет находить название района. В ответе может быть несколько элементов с типом district. Мы будем считать приоритетным тот, в котором содержиться \"район\", если такой не нашелся - будем брать последний"
   ]
  },
  {
   "cell_type": "markdown",
   "metadata": {},
   "source": [
    "def filter_district(json): # функция по json ответу возращает название района\n",
    "    components = json['response']['GeoObjectCollection']['featureMember'][0]['GeoObject']['metaDataProperty']['GeocoderMetaData']\\\n",
    "['Address']['Components']\n",
    "    districts = list(filter(lambda c: c['kind'] == 'district', components))\n",
    "    district_name = None\n",
    "    for district in districts: \n",
    "        if 'район ' in district['name'] or ' район' in district['name']:\n",
    "            district_name = district['name']\n",
    "    if not district_name:\n",
    "        district_name = districts[len(districts)-1]['name']\n",
    "    return district_name\n",
    "\n",
    "def set_district(address): # функция возвращает район по адресу \n",
    "    district = ''\n",
    "    params = {\n",
    "    'geocode': address,\n",
    "    'format': 'json',\n",
    "    'apikey': token\n",
    "    }\n",
    "    r = requests.get(API_URL, params=params) # делаем запрос по адресу\n",
    "    try:\n",
    "        coordinates = r.json()['response']['GeoObjectCollection']['featureMember'][0]\\\n",
    "        ['GeoObject']['Point']['pos'] # находим координаты объекта в ответе\n",
    "    except:\n",
    "        return 'error coordinates'\n",
    "    params = {\n",
    "    'geocode': coordinates,\n",
    "    'format': 'json',\n",
    "    'apikey': token,\n",
    "    'kind': 'district'\n",
    "    }\n",
    "    r = requests.get(API_URL, params=params) # делаем запрос по координатам объекта\n",
    "    try:\n",
    "        district = filter_district(r.json()) # находим район из ответа\n",
    "    except:\n",
    "        district = 'error district'\n",
    "        \n",
    "    \n",
    "    return district\n",
    "      \n",
    "top_10_by_street['district'] = top_10_by_street['address'].apply(set_district)\n",
    "top_10_by_street.to_csv('top_10_by_street.csv')"
   ]
  },
  {
   "cell_type": "markdown",
   "metadata": {},
   "source": [
    "Считаем результат из файла"
   ]
  },
  {
   "cell_type": "code",
   "execution_count": 37,
   "metadata": {},
   "outputs": [
    {
     "data": {
      "text/html": [
       "<div>\n",
       "<style scoped>\n",
       "    .dataframe tbody tr th:only-of-type {\n",
       "        vertical-align: middle;\n",
       "    }\n",
       "\n",
       "    .dataframe tbody tr th {\n",
       "        vertical-align: top;\n",
       "    }\n",
       "\n",
       "    .dataframe thead th {\n",
       "        text-align: right;\n",
       "    }\n",
       "</style>\n",
       "<table border=\"1\" class=\"dataframe\">\n",
       "  <thead>\n",
       "    <tr style=\"text-align: right;\">\n",
       "      <th></th>\n",
       "      <th>town</th>\n",
       "      <th>street</th>\n",
       "      <th>qty</th>\n",
       "      <th>address</th>\n",
       "      <th>district</th>\n",
       "    </tr>\n",
       "  </thead>\n",
       "  <tbody>\n",
       "    <tr>\n",
       "      <td>1425</td>\n",
       "      <td>город Москва</td>\n",
       "      <td>проспект Мира</td>\n",
       "      <td>196</td>\n",
       "      <td>город Москва , проспект Мира</td>\n",
       "      <td>Алексеевский район</td>\n",
       "    </tr>\n",
       "    <tr>\n",
       "      <td>1041</td>\n",
       "      <td>город Москва</td>\n",
       "      <td>Профсоюзная улица</td>\n",
       "      <td>181</td>\n",
       "      <td>город Москва , Профсоюзная улица</td>\n",
       "      <td>район Коньково</td>\n",
       "    </tr>\n",
       "    <tr>\n",
       "      <td>729</td>\n",
       "      <td>город Москва</td>\n",
       "      <td>Ленинградский проспект</td>\n",
       "      <td>172</td>\n",
       "      <td>город Москва , Ленинградский проспект</td>\n",
       "      <td>Хорошёвский район</td>\n",
       "    </tr>\n",
       "    <tr>\n",
       "      <td>1026</td>\n",
       "      <td>город Москва</td>\n",
       "      <td>Пресненская набережная</td>\n",
       "      <td>165</td>\n",
       "      <td>город Москва , Пресненская набережная</td>\n",
       "      <td>Пресненский район</td>\n",
       "    </tr>\n",
       "    <tr>\n",
       "      <td>451</td>\n",
       "      <td>город Москва</td>\n",
       "      <td>Варшавское шоссе</td>\n",
       "      <td>160</td>\n",
       "      <td>город Москва , Варшавское шоссе</td>\n",
       "      <td>район Чертаново Южное</td>\n",
       "    </tr>\n",
       "    <tr>\n",
       "      <td>732</td>\n",
       "      <td>город Москва</td>\n",
       "      <td>Ленинский проспект</td>\n",
       "      <td>148</td>\n",
       "      <td>город Москва , Ленинский проспект</td>\n",
       "      <td>Ломоносовский район</td>\n",
       "    </tr>\n",
       "    <tr>\n",
       "      <td>1422</td>\n",
       "      <td>город Москва</td>\n",
       "      <td>проспект Вернадского</td>\n",
       "      <td>126</td>\n",
       "      <td>город Москва , проспект Вернадского</td>\n",
       "      <td>Ломоносовский район</td>\n",
       "    </tr>\n",
       "    <tr>\n",
       "      <td>720</td>\n",
       "      <td>город Москва</td>\n",
       "      <td>Кутузовский проспект</td>\n",
       "      <td>114</td>\n",
       "      <td>город Москва , Кутузовский проспект</td>\n",
       "      <td>район Дорогомилово</td>\n",
       "    </tr>\n",
       "    <tr>\n",
       "      <td>646</td>\n",
       "      <td>город Москва</td>\n",
       "      <td>Каширское шоссе</td>\n",
       "      <td>110</td>\n",
       "      <td>город Москва , Каширское шоссе</td>\n",
       "      <td>район Москворечье-Сабурово</td>\n",
       "    </tr>\n",
       "    <tr>\n",
       "      <td>651</td>\n",
       "      <td>город Москва</td>\n",
       "      <td>Кировоградская улица</td>\n",
       "      <td>107</td>\n",
       "      <td>город Москва , Кировоградская улица</td>\n",
       "      <td>район Чертаново Центральное</td>\n",
       "    </tr>\n",
       "  </tbody>\n",
       "</table>\n",
       "</div>"
      ],
      "text/plain": [
       "              town                  street  qty  \\\n",
       "1425  город Москва           проспект Мира  196   \n",
       "1041  город Москва       Профсоюзная улица  181   \n",
       "729   город Москва  Ленинградский проспект  172   \n",
       "1026  город Москва  Пресненская набережная  165   \n",
       "451   город Москва        Варшавское шоссе  160   \n",
       "732   город Москва      Ленинский проспект  148   \n",
       "1422  город Москва    проспект Вернадского  126   \n",
       "720   город Москва    Кутузовский проспект  114   \n",
       "646   город Москва         Каширское шоссе  110   \n",
       "651   город Москва    Кировоградская улица  107   \n",
       "\n",
       "                                    address                     district  \n",
       "1425           город Москва , проспект Мира           Алексеевский район  \n",
       "1041       город Москва , Профсоюзная улица               район Коньково  \n",
       "729   город Москва , Ленинградский проспект            Хорошёвский район  \n",
       "1026  город Москва , Пресненская набережная            Пресненский район  \n",
       "451         город Москва , Варшавское шоссе        район Чертаново Южное  \n",
       "732       город Москва , Ленинский проспект          Ломоносовский район  \n",
       "1422    город Москва , проспект Вернадского          Ломоносовский район  \n",
       "720     город Москва , Кутузовский проспект           район Дорогомилово  \n",
       "646          город Москва , Каширское шоссе   район Москворечье-Сабурово  \n",
       "651     город Москва , Кировоградская улица  район Чертаново Центральное  "
      ]
     },
     "execution_count": 37,
     "metadata": {},
     "output_type": "execute_result"
    }
   ],
   "source": [
    "spreadsheet_id = '1eHGaDHOY6ew2HzwbFBwnb1SlmwtvgBxs1Zeai0C-xew' \n",
    "file_name = 'https://docs.google.com/spreadsheets/d/{}/export?format=csv'.format(spreadsheet_id)\n",
    "r = requests.get(file_name)\n",
    "res_top_10 = pd.read_csv(BytesIO(r.content), index_col = 0)\n",
    "res_top_10"
   ]
  },
  {
   "cell_type": "markdown",
   "metadata": {},
   "source": [
    "Название района проставилось корректно, ошибок не возникло.\n",
    "Две улицы находятся в Ломоносовском районе. В остальных районах по одной улице, входящей в топ-10"
   ]
  },
  {
   "cell_type": "markdown",
   "metadata": {},
   "source": [
    "- ### <a id=\"step2.8\">Найдите число улиц с одним объектом общественного питания. Воспользуйтесь внешней информацией и ответьте на вопрос — в каких районах Москвы находятся эти улицы?"
   ]
  },
  {
   "cell_type": "markdown",
   "metadata": {},
   "source": [
    "Найдем число улиц с одним объектом общественного питания"
   ]
  },
  {
   "cell_type": "code",
   "execution_count": 38,
   "metadata": {},
   "outputs": [
    {
     "data": {
      "text/plain": [
       "624"
      ]
     },
     "execution_count": 38,
     "metadata": {},
     "output_type": "execute_result"
    }
   ],
   "source": [
    "rest_qty_by_street_1 = df.query('street != \"\"').groupby(['town','street']).agg({'id':'count'}).reset_index()\n",
    "rest_qty_by_street_1.columns = ['town','street','qty']\n",
    "rest_qty_by_street_1 = rest_qty_by_street_1.query('qty == 1')\n",
    "rest_qty_by_street_1 = rest_qty_by_street_1.merge(df,on = ['town','street'])[['town','street','qty','address']]\n",
    "rest_qty_by_street_1.shape[0]"
   ]
  },
  {
   "cell_type": "markdown",
   "metadata": {},
   "source": [
    "На 624 улицах находится лишь одна точка общественного питаия"
   ]
  },
  {
   "cell_type": "markdown",
   "metadata": {},
   "source": [
    "Далее описан код в текстовой ячейке для получения региона из адреса через API. Т.к. ключ я не могу приложить то выкачала результат запроса в CSV и считываю результат уже из него"
   ]
  },
  {
   "cell_type": "markdown",
   "metadata": {},
   "source": [
    "rest_qty_by_street_1['district'] = rest_qty_by_street_1['address'].apply(set_district)\n",
    "rest_qty_by_street_1.to_csv('rest_qty_by_street_1.csv')"
   ]
  },
  {
   "cell_type": "markdown",
   "metadata": {},
   "source": [
    "Считаем результат из файла"
   ]
  },
  {
   "cell_type": "code",
   "execution_count": 39,
   "metadata": {},
   "outputs": [
    {
     "data": {
      "text/html": [
       "<div>\n",
       "<style scoped>\n",
       "    .dataframe tbody tr th:only-of-type {\n",
       "        vertical-align: middle;\n",
       "    }\n",
       "\n",
       "    .dataframe tbody tr th {\n",
       "        vertical-align: top;\n",
       "    }\n",
       "\n",
       "    .dataframe thead th {\n",
       "        text-align: right;\n",
       "    }\n",
       "</style>\n",
       "<table border=\"1\" class=\"dataframe\">\n",
       "  <thead>\n",
       "    <tr style=\"text-align: right;\">\n",
       "      <th></th>\n",
       "      <th>town</th>\n",
       "      <th>street</th>\n",
       "      <th>qty</th>\n",
       "      <th>address</th>\n",
       "      <th>district</th>\n",
       "    </tr>\n",
       "  </thead>\n",
       "  <tbody>\n",
       "    <tr>\n",
       "      <td>0</td>\n",
       "      <td>Боровское шоссе</td>\n",
       "      <td>29-й километр</td>\n",
       "      <td>1</td>\n",
       "      <td>город Москва, поселение Внуковское, Боровское шоссе, 29-й километр, домовладение 4, строение 1</td>\n",
       "      <td>квартал № 11</td>\n",
       "    </tr>\n",
       "    <tr>\n",
       "      <td>1</td>\n",
       "      <td>Варшавское шоссе</td>\n",
       "      <td>27-й километр</td>\n",
       "      <td>1</td>\n",
       "      <td>город Москва, город Щербинка, Варшавское шоссе, 27-й километр, владение 6, строение 1</td>\n",
       "      <td>error district</td>\n",
       "    </tr>\n",
       "    <tr>\n",
       "      <td>2</td>\n",
       "      <td>Калужское шоссе</td>\n",
       "      <td>43-й километр</td>\n",
       "      <td>1</td>\n",
       "      <td>город Москва, поселение Краснопахорское, Калужское шоссе, 43-й километр, владение 1, строение 1</td>\n",
       "      <td>квартал № 181</td>\n",
       "    </tr>\n",
       "    <tr>\n",
       "      <td>3</td>\n",
       "      <td>Киевское шоссе</td>\n",
       "      <td>21-й километр</td>\n",
       "      <td>1</td>\n",
       "      <td>город Москва, поселение \"Мосрентген\", Киевское шоссе, 21-й километр, домовладение 3, строение 1</td>\n",
       "      <td>квартал № 2</td>\n",
       "    </tr>\n",
       "    <tr>\n",
       "      <td>4</td>\n",
       "      <td>Киевское шоссе</td>\n",
       "      <td>28-й километр</td>\n",
       "      <td>1</td>\n",
       "      <td>город Москва, поселение Московский, Киевское шоссе, 28-й километр, владение 2, строение 1</td>\n",
       "      <td>квартал № 65</td>\n",
       "    </tr>\n",
       "  </tbody>\n",
       "</table>\n",
       "</div>"
      ],
      "text/plain": [
       "               town         street  qty  \\\n",
       "0   Боровское шоссе  29-й километр    1   \n",
       "1  Варшавское шоссе  27-й километр    1   \n",
       "2   Калужское шоссе  43-й километр    1   \n",
       "3    Киевское шоссе  21-й километр    1   \n",
       "4    Киевское шоссе  28-й километр    1   \n",
       "\n",
       "                                                                                           address  \\\n",
       "0   город Москва, поселение Внуковское, Боровское шоссе, 29-й километр, домовладение 4, строение 1   \n",
       "1            город Москва, город Щербинка, Варшавское шоссе, 27-й километр, владение 6, строение 1   \n",
       "2  город Москва, поселение Краснопахорское, Калужское шоссе, 43-й километр, владение 1, строение 1   \n",
       "3  город Москва, поселение \"Мосрентген\", Киевское шоссе, 21-й километр, домовладение 3, строение 1   \n",
       "4        город Москва, поселение Московский, Киевское шоссе, 28-й километр, владение 2, строение 1   \n",
       "\n",
       "         district  \n",
       "0    квартал № 11  \n",
       "1  error district  \n",
       "2   квартал № 181  \n",
       "3     квартал № 2  \n",
       "4    квартал № 65  "
      ]
     },
     "execution_count": 39,
     "metadata": {},
     "output_type": "execute_result"
    }
   ],
   "source": [
    "spreadsheet_id = '1EzAahyZo55TwZy_SVmhXzFqbcKWhPvlg9nvLrJHRCZo' \n",
    "file_name = 'https://docs.google.com/spreadsheets/d/{}/export?format=csv'.format(spreadsheet_id)\n",
    "r = requests.get(file_name)\n",
    "res = pd.read_csv(BytesIO(r.content), index_col = 0)\n",
    "res.head()"
   ]
  },
  {
   "cell_type": "markdown",
   "metadata": {},
   "source": [
    "Посмотрим на записи, где не обнаружился район"
   ]
  },
  {
   "cell_type": "code",
   "execution_count": 40,
   "metadata": {},
   "outputs": [
    {
     "data": {
      "text/html": [
       "<div>\n",
       "<style scoped>\n",
       "    .dataframe tbody tr th:only-of-type {\n",
       "        vertical-align: middle;\n",
       "    }\n",
       "\n",
       "    .dataframe tbody tr th {\n",
       "        vertical-align: top;\n",
       "    }\n",
       "\n",
       "    .dataframe thead th {\n",
       "        text-align: right;\n",
       "    }\n",
       "</style>\n",
       "<table border=\"1\" class=\"dataframe\">\n",
       "  <thead>\n",
       "    <tr style=\"text-align: right;\">\n",
       "      <th></th>\n",
       "      <th>town</th>\n",
       "      <th>street</th>\n",
       "      <th>qty</th>\n",
       "      <th>address</th>\n",
       "      <th>district</th>\n",
       "    </tr>\n",
       "  </thead>\n",
       "  <tbody>\n",
       "    <tr>\n",
       "      <td>1</td>\n",
       "      <td>Варшавское шоссе</td>\n",
       "      <td>27-й километр</td>\n",
       "      <td>1</td>\n",
       "      <td>город Москва, город Щербинка, Варшавское шоссе, 27-й километр, владение 6, строение 1</td>\n",
       "      <td>error district</td>\n",
       "    </tr>\n",
       "    <tr>\n",
       "      <td>554</td>\n",
       "      <td>город Троицк</td>\n",
       "      <td>1-й Заречный переулок</td>\n",
       "      <td>1</td>\n",
       "      <td>город Москва, город Троицк, 1-й Заречный переулок, дом 17</td>\n",
       "      <td>error district</td>\n",
       "    </tr>\n",
       "    <tr>\n",
       "      <td>555</td>\n",
       "      <td>город Троицк</td>\n",
       "      <td>39-й километр Калужского шоссе</td>\n",
       "      <td>1</td>\n",
       "      <td>город Москва, город Троицк, 39-й километр Калужского шоссе, дом 13Г</td>\n",
       "      <td>error district</td>\n",
       "    </tr>\n",
       "    <tr>\n",
       "      <td>556</td>\n",
       "      <td>город Троицк</td>\n",
       "      <td>Большая Октябрьская улица</td>\n",
       "      <td>1</td>\n",
       "      <td>город Москва, город Троицк, Большая Октябрьская улица, дом 4</td>\n",
       "      <td>error district</td>\n",
       "    </tr>\n",
       "    <tr>\n",
       "      <td>557</td>\n",
       "      <td>город Троицк</td>\n",
       "      <td>Пионерская улица</td>\n",
       "      <td>1</td>\n",
       "      <td>город Москва, город Троицк, Пионерская улица, дом 2</td>\n",
       "      <td>error district</td>\n",
       "    </tr>\n",
       "    <tr>\n",
       "      <td>560</td>\n",
       "      <td>город Троицк</td>\n",
       "      <td>Юбилейная улица</td>\n",
       "      <td>1</td>\n",
       "      <td>город Москва, город Троицк, Юбилейная улица, дом 3</td>\n",
       "      <td>error district</td>\n",
       "    </tr>\n",
       "    <tr>\n",
       "      <td>561</td>\n",
       "      <td>город Щербинка</td>\n",
       "      <td>2-я Барышевская улица</td>\n",
       "      <td>1</td>\n",
       "      <td>город Москва, город Щербинка, 2-я Барышевская улица, дом 1</td>\n",
       "      <td>error district</td>\n",
       "    </tr>\n",
       "    <tr>\n",
       "      <td>562</td>\n",
       "      <td>город Щербинка</td>\n",
       "      <td>Спортивная улица</td>\n",
       "      <td>1</td>\n",
       "      <td>город Москва, город Щербинка, Спортивная улица, дом 23</td>\n",
       "      <td>error district</td>\n",
       "    </tr>\n",
       "    <tr>\n",
       "      <td>563</td>\n",
       "      <td>город Щербинка</td>\n",
       "      <td>улица Авиаторов</td>\n",
       "      <td>1</td>\n",
       "      <td>город Москва, город Щербинка, улица Авиаторов, дом 9</td>\n",
       "      <td>error district</td>\n",
       "    </tr>\n",
       "  </tbody>\n",
       "</table>\n",
       "</div>"
      ],
      "text/plain": [
       "                 town                          street  qty  \\\n",
       "1    Варшавское шоссе                   27-й километр    1   \n",
       "554      город Троицк           1-й Заречный переулок    1   \n",
       "555      город Троицк  39-й километр Калужского шоссе    1   \n",
       "556      город Троицк       Большая Октябрьская улица    1   \n",
       "557      город Троицк                Пионерская улица    1   \n",
       "560      город Троицк                 Юбилейная улица    1   \n",
       "561    город Щербинка           2-я Барышевская улица    1   \n",
       "562    город Щербинка                Спортивная улица    1   \n",
       "563    город Щербинка                 улица Авиаторов    1   \n",
       "\n",
       "                                                                                   address  \\\n",
       "1    город Москва, город Щербинка, Варшавское шоссе, 27-й километр, владение 6, строение 1   \n",
       "554                              город Москва, город Троицк, 1-й Заречный переулок, дом 17   \n",
       "555                    город Москва, город Троицк, 39-й километр Калужского шоссе, дом 13Г   \n",
       "556                           город Москва, город Троицк, Большая Октябрьская улица, дом 4   \n",
       "557                                    город Москва, город Троицк, Пионерская улица, дом 2   \n",
       "560                                     город Москва, город Троицк, Юбилейная улица, дом 3   \n",
       "561                             город Москва, город Щербинка, 2-я Барышевская улица, дом 1   \n",
       "562                                 город Москва, город Щербинка, Спортивная улица, дом 23   \n",
       "563                                   город Москва, город Щербинка, улица Авиаторов, дом 9   \n",
       "\n",
       "           district  \n",
       "1    error district  \n",
       "554  error district  \n",
       "555  error district  \n",
       "556  error district  \n",
       "557  error district  \n",
       "560  error district  \n",
       "561  error district  \n",
       "562  error district  \n",
       "563  error district  "
      ]
     },
     "execution_count": 40,
     "metadata": {},
     "output_type": "execute_result"
    }
   ],
   "source": [
    "res.query('district == \"error district\"')"
   ]
  },
  {
   "cell_type": "markdown",
   "metadata": {},
   "source": [
    "Эти объекты находятся в Щербинке и Троицке, эти адреса не относятся к какому-либо району"
   ]
  },
  {
   "cell_type": "markdown",
   "metadata": {},
   "source": [
    "Посмотрим на записи, где по адресу не удалось найти координаты"
   ]
  },
  {
   "cell_type": "code",
   "execution_count": 41,
   "metadata": {},
   "outputs": [
    {
     "data": {
      "text/html": [
       "<div>\n",
       "<style scoped>\n",
       "    .dataframe tbody tr th:only-of-type {\n",
       "        vertical-align: middle;\n",
       "    }\n",
       "\n",
       "    .dataframe tbody tr th {\n",
       "        vertical-align: top;\n",
       "    }\n",
       "\n",
       "    .dataframe thead th {\n",
       "        text-align: right;\n",
       "    }\n",
       "</style>\n",
       "<table border=\"1\" class=\"dataframe\">\n",
       "  <thead>\n",
       "    <tr style=\"text-align: right;\">\n",
       "      <th></th>\n",
       "      <th>town</th>\n",
       "      <th>street</th>\n",
       "      <th>qty</th>\n",
       "      <th>address</th>\n",
       "      <th>district</th>\n",
       "    </tr>\n",
       "  </thead>\n",
       "  <tbody>\n",
       "    <tr>\n",
       "      <td>50</td>\n",
       "      <td>город Москва</td>\n",
       "      <td>104-й километр Московской Кольцевой Автодороги</td>\n",
       "      <td>1</td>\n",
       "      <td>город Москва, 104-й километр Московской Кольцевой Автодороги, дом 6</td>\n",
       "      <td>error coordinates</td>\n",
       "    </tr>\n",
       "    <tr>\n",
       "      <td>89</td>\n",
       "      <td>город Москва</td>\n",
       "      <td>26-й километр Московской Кольцевой Автодороги</td>\n",
       "      <td>1</td>\n",
       "      <td>город Москва, 26-й километр Московской Кольцевой Автодороги, владение 6</td>\n",
       "      <td>error coordinates</td>\n",
       "    </tr>\n",
       "    <tr>\n",
       "      <td>105</td>\n",
       "      <td>город Москва</td>\n",
       "      <td>30-й километр Московской Кольцевой Автодороги</td>\n",
       "      <td>1</td>\n",
       "      <td>город Москва, 30-й километр Московской Кольцевой Автодороги, владение 6</td>\n",
       "      <td>error coordinates</td>\n",
       "    </tr>\n",
       "    <tr>\n",
       "      <td>106</td>\n",
       "      <td>город Москва</td>\n",
       "      <td>31-й километр Московской Кольцевой Автодороги</td>\n",
       "      <td>1</td>\n",
       "      <td>город Москва, 31-й километр Московской Кольцевой Автодороги, владение 8, строение 1</td>\n",
       "      <td>error coordinates</td>\n",
       "    </tr>\n",
       "    <tr>\n",
       "      <td>107</td>\n",
       "      <td>город Москва</td>\n",
       "      <td>34-й километр Московской Кольцевой Автодороги</td>\n",
       "      <td>1</td>\n",
       "      <td>город Москва, 34-й километр Московской Кольцевой Автодороги, владение 6</td>\n",
       "      <td>error coordinates</td>\n",
       "    </tr>\n",
       "    <tr>\n",
       "      <td>115</td>\n",
       "      <td>город Москва</td>\n",
       "      <td>42-й километр Московской Кольцевой Автодороги</td>\n",
       "      <td>1</td>\n",
       "      <td>город Москва, 42-й километр Московской Кольцевой Автодороги, владение 4, строение 1</td>\n",
       "      <td>error coordinates</td>\n",
       "    </tr>\n",
       "    <tr>\n",
       "      <td>120</td>\n",
       "      <td>город Москва</td>\n",
       "      <td>56-й километр Московской Кольцевой Автодороги</td>\n",
       "      <td>1</td>\n",
       "      <td>город Москва, 56-й километр Московской Кольцевой Автодороги, дом 10</td>\n",
       "      <td>error coordinates</td>\n",
       "    </tr>\n",
       "    <tr>\n",
       "      <td>125</td>\n",
       "      <td>город Москва</td>\n",
       "      <td>65-й километр Московской Кольцевой Автодороги</td>\n",
       "      <td>1</td>\n",
       "      <td>город Москва, 65-й километр Московской Кольцевой Автодороги, владение 8</td>\n",
       "      <td>error coordinates</td>\n",
       "    </tr>\n",
       "    <tr>\n",
       "      <td>126</td>\n",
       "      <td>город Москва</td>\n",
       "      <td>67-й километр Московской Кольцевой Автодороги</td>\n",
       "      <td>1</td>\n",
       "      <td>город Москва, 67-й километр Московской Кольцевой Автодороги, дом 7</td>\n",
       "      <td>error coordinates</td>\n",
       "    </tr>\n",
       "    <tr>\n",
       "      <td>130</td>\n",
       "      <td>город Москва</td>\n",
       "      <td>78-й километр Московской Кольцевой Автодороги</td>\n",
       "      <td>1</td>\n",
       "      <td>город Москва, 78-й километр Московской Кольцевой Автодороги, дом 14, корпус 1</td>\n",
       "      <td>error coordinates</td>\n",
       "    </tr>\n",
       "    <tr>\n",
       "      <td>133</td>\n",
       "      <td>город Москва</td>\n",
       "      <td>80-й километр Московской Кольцевой Автодороги</td>\n",
       "      <td>1</td>\n",
       "      <td>город Москва, 80-й километр Московской Кольцевой Автодороги, дом 4, строение 1</td>\n",
       "      <td>error coordinates</td>\n",
       "    </tr>\n",
       "  </tbody>\n",
       "</table>\n",
       "</div>"
      ],
      "text/plain": [
       "             town                                          street  qty  \\\n",
       "50   город Москва  104-й километр Московской Кольцевой Автодороги    1   \n",
       "89   город Москва   26-й километр Московской Кольцевой Автодороги    1   \n",
       "105  город Москва   30-й километр Московской Кольцевой Автодороги    1   \n",
       "106  город Москва   31-й километр Московской Кольцевой Автодороги    1   \n",
       "107  город Москва   34-й километр Московской Кольцевой Автодороги    1   \n",
       "115  город Москва   42-й километр Московской Кольцевой Автодороги    1   \n",
       "120  город Москва   56-й километр Московской Кольцевой Автодороги    1   \n",
       "125  город Москва   65-й километр Московской Кольцевой Автодороги    1   \n",
       "126  город Москва   67-й километр Московской Кольцевой Автодороги    1   \n",
       "130  город Москва   78-й километр Московской Кольцевой Автодороги    1   \n",
       "133  город Москва   80-й километр Московской Кольцевой Автодороги    1   \n",
       "\n",
       "                                                                                 address  \\\n",
       "50                   город Москва, 104-й километр Московской Кольцевой Автодороги, дом 6   \n",
       "89               город Москва, 26-й километр Московской Кольцевой Автодороги, владение 6   \n",
       "105              город Москва, 30-й километр Московской Кольцевой Автодороги, владение 6   \n",
       "106  город Москва, 31-й километр Московской Кольцевой Автодороги, владение 8, строение 1   \n",
       "107              город Москва, 34-й километр Московской Кольцевой Автодороги, владение 6   \n",
       "115  город Москва, 42-й километр Московской Кольцевой Автодороги, владение 4, строение 1   \n",
       "120                  город Москва, 56-й километр Московской Кольцевой Автодороги, дом 10   \n",
       "125              город Москва, 65-й километр Московской Кольцевой Автодороги, владение 8   \n",
       "126                   город Москва, 67-й километр Московской Кольцевой Автодороги, дом 7   \n",
       "130        город Москва, 78-й километр Московской Кольцевой Автодороги, дом 14, корпус 1   \n",
       "133       город Москва, 80-й километр Московской Кольцевой Автодороги, дом 4, строение 1   \n",
       "\n",
       "              district  \n",
       "50   error coordinates  \n",
       "89   error coordinates  \n",
       "105  error coordinates  \n",
       "106  error coordinates  \n",
       "107  error coordinates  \n",
       "115  error coordinates  \n",
       "120  error coordinates  \n",
       "125  error coordinates  \n",
       "126  error coordinates  \n",
       "130  error coordinates  \n",
       "133  error coordinates  "
      ]
     },
     "execution_count": 41,
     "metadata": {},
     "output_type": "execute_result"
    }
   ],
   "source": [
    "res.query('district == \"error coordinates\"')\n"
   ]
  },
  {
   "cell_type": "markdown",
   "metadata": {},
   "source": [
    "Яндекс карты не позволяют искат адреса, обозначенные через км МКАД"
   ]
  },
  {
   "cell_type": "markdown",
   "metadata": {},
   "source": [
    "Проставим в строки, где не удалось найти район - NaN"
   ]
  },
  {
   "cell_type": "code",
   "execution_count": 42,
   "metadata": {},
   "outputs": [
    {
     "data": {
      "text/plain": [
       "0"
      ]
     },
     "execution_count": 42,
     "metadata": {},
     "output_type": "execute_result"
    }
   ],
   "source": [
    "res.replace('error district',np.NaN, inplace = True)\n",
    "res.replace('error coordinates',np.NaN, inplace = True)\n",
    "res.query('district == \"error coordinates\" or district == \"error district\"').shape[0]"
   ]
  },
  {
   "cell_type": "markdown",
   "metadata": {},
   "source": [
    "Посмотрим топ-10 районов с одним объектов общественного питания на улице"
   ]
  },
  {
   "cell_type": "code",
   "execution_count": 43,
   "metadata": {},
   "outputs": [
    {
     "data": {
      "image/png": "[encoded data removed]",
      "text/plain": [
       "<Figure size 1080x576 with 1 Axes>"
      ]
     },
     "metadata": {
      "needs_background": "light"
     },
     "output_type": "display_data"
    }
   ],
   "source": [
    "plt.figure(figsize=(15,8));\n",
    "ax = sns.countplot(y='district', data = res, order=pd.value_counts(res['district']).iloc[:10].index, orient = 'h')\n",
    "ax.set_title('Топ-10 районов с одним объектов общественного питания на улице');\n",
    "ax.set_xlabel('количество улиц');\n",
    "ax.set_ylabel('район');\n",
    "sns.despine();"
   ]
  },
  {
   "cell_type": "markdown",
   "metadata": {},
   "source": [
    "В топ-10 районов с одним объектов общественного питания на улице старые районы города. Возможно, это связано с тем, что в старых районах города много маленьких улочек и переулков. Из-за того, что улицы короткие на них не помещается много объектов"
   ]
  },
  {
   "cell_type": "markdown",
   "metadata": {},
   "source": [
    "- ### <a id=\"step2.9\">Посмотрите на распределение количества посадочных мест для улиц с большим количеством объектов общественного питания. Какие закономерности можно выявить?"
   ]
  },
  {
   "cell_type": "markdown",
   "metadata": {},
   "source": [
    "Построим распределение количества посадочных мест для улиц с большим количеством объектов общественного питания"
   ]
  },
  {
   "cell_type": "code",
   "execution_count": 44,
   "metadata": {},
   "outputs": [
    {
     "data": {
      "image/png": "[encoded data removed]",
      "text/plain": [
       "<Figure size 1080x576 with 1 Axes>"
      ]
     },
     "metadata": {
      "needs_background": "light"
     },
     "output_type": "display_data"
    }
   ],
   "source": [
    "plt.figure(figsize=(15,8));\n",
    "top_streets = res_top_10['street'];\n",
    "ax =sns.distplot(df.query('street in @top_streets')['number'].dropna())\n",
    "ax.set_title('Распределение количества посадочных мест для улиц с большим количеством объектов общественного питания');\n",
    "ax.set_xlabel('количество посадочных мест');\n",
    "ax.set_ylabel('количество наблюдений');\n",
    "sns.despine();"
   ]
  },
  {
   "cell_type": "markdown",
   "metadata": {},
   "source": [
    "Больше всего мест с небольшим количеством мест и совсем немного с более чем 250 посадочными местами"
   ]
  },
  {
   "cell_type": "markdown",
   "metadata": {},
   "source": [
    "По распределению количества мест можем предположить, что на этих улицах больше всего кафе и предприятий быстрого обслуживания. Проверим это. Посчитаем для каждого из типов заведения долю, которую он составляет от всех заведений на улице"
   ]
  },
  {
   "cell_type": "code",
   "execution_count": 45,
   "metadata": {},
   "outputs": [
    {
     "data": {
      "text/html": [
       "<div>\n",
       "<style scoped>\n",
       "    .dataframe tbody tr th:only-of-type {\n",
       "        vertical-align: middle;\n",
       "    }\n",
       "\n",
       "    .dataframe tbody tr th {\n",
       "        vertical-align: top;\n",
       "    }\n",
       "\n",
       "    .dataframe thead th {\n",
       "        text-align: right;\n",
       "    }\n",
       "</style>\n",
       "<table border=\"1\" class=\"dataframe\">\n",
       "  <thead>\n",
       "    <tr style=\"text-align: right;\">\n",
       "      <th></th>\n",
       "      <th>street</th>\n",
       "      <th>type</th>\n",
       "      <th>qty</th>\n",
       "      <th>total_qty</th>\n",
       "      <th>ratio</th>\n",
       "    </tr>\n",
       "  </thead>\n",
       "  <tbody>\n",
       "    <tr>\n",
       "      <td>0</td>\n",
       "      <td>Варшавское шоссе</td>\n",
       "      <td>бар</td>\n",
       "      <td>6</td>\n",
       "      <td>160</td>\n",
       "      <td>3.75</td>\n",
       "    </tr>\n",
       "    <tr>\n",
       "      <td>1</td>\n",
       "      <td>Варшавское шоссе</td>\n",
       "      <td>буфет</td>\n",
       "      <td>6</td>\n",
       "      <td>160</td>\n",
       "      <td>3.75</td>\n",
       "    </tr>\n",
       "    <tr>\n",
       "      <td>2</td>\n",
       "      <td>Варшавское шоссе</td>\n",
       "      <td>закусочная</td>\n",
       "      <td>2</td>\n",
       "      <td>160</td>\n",
       "      <td>1.25</td>\n",
       "    </tr>\n",
       "    <tr>\n",
       "      <td>3</td>\n",
       "      <td>Варшавское шоссе</td>\n",
       "      <td>кафе</td>\n",
       "      <td>62</td>\n",
       "      <td>160</td>\n",
       "      <td>38.75</td>\n",
       "    </tr>\n",
       "    <tr>\n",
       "      <td>4</td>\n",
       "      <td>Варшавское шоссе</td>\n",
       "      <td>кафетерий</td>\n",
       "      <td>8</td>\n",
       "      <td>160</td>\n",
       "      <td>5.00</td>\n",
       "    </tr>\n",
       "  </tbody>\n",
       "</table>\n",
       "</div>"
      ],
      "text/plain": [
       "             street        type  qty  total_qty  ratio\n",
       "0  Варшавское шоссе         бар    6        160   3.75\n",
       "1  Варшавское шоссе       буфет    6        160   3.75\n",
       "2  Варшавское шоссе  закусочная    2        160   1.25\n",
       "3  Варшавское шоссе        кафе   62        160  38.75\n",
       "4  Варшавское шоссе   кафетерий    8        160   5.00"
      ]
     },
     "execution_count": 45,
     "metadata": {},
     "output_type": "execute_result"
    }
   ],
   "source": [
    "top_10_by_type = df.query('street in @top_streets').groupby(['street','type']).agg({'id':'count'}).reset_index()\n",
    "top_10_by_type =top_10_by_type.merge(top_10_by_street[['street','qty']], on = 'street')\n",
    "top_10_by_type.columns = ['street','type','qty','total_qty']\n",
    "top_10_by_type['ratio'] = top_10_by_type['qty'] / top_10_by_type['total_qty'] * 100\n",
    "top_10_by_type.head()"
   ]
  },
  {
   "cell_type": "markdown",
   "metadata": {},
   "source": [
    "Построим график, отображающий доли типов объекта общественного питания на топ-10 улиц"
   ]
  },
  {
   "cell_type": "code",
   "execution_count": 46,
   "metadata": {},
   "outputs": [
    {
     "data": {
      "image/png": "[encoded data removed]",
      "text/plain": [
       "<Figure size 1080x576 with 1 Axes>"
      ]
     },
     "metadata": {
      "needs_background": "light"
     },
     "output_type": "display_data"
    }
   ],
   "source": [
    "plt.figure(figsize=(15,8));\n",
    "ax = sns.barplot(x = 'ratio', y = 'type',data = top_10_by_type);\n",
    "ax.set_title('Доли типов объекта общественного питания на топ-10 улиц');\n",
    "ax.set_xlabel('доля в %');\n",
    "ax.set_ylabel('тип заведения');\n",
    "sns.despine();"
   ]
  },
  {
   "cell_type": "markdown",
   "metadata": {},
   "source": [
    "Так и есть, кафе и предприятий быстрого обслуживания больше всего, также на этих улицах много ресторанов"
   ]
  },
  {
   "cell_type": "markdown",
   "metadata": {},
   "source": [
    "- ### <a id=\"step2.10\"> Сделайте общий вывод и дайте рекомендации о виде заведения, количестве посадочных мест, а также месте расположения. Прокомментируйте возможность развития сети.</a>"
   ]
  },
  {
   "cell_type": "markdown",
   "metadata": {},
   "source": [
    "### Вывод"
   ]
  },
  {
   "cell_type": "markdown",
   "metadata": {},
   "source": [
    "- Больше всего в Москве кафе. Они составляют 40% рынка. Несетевых заведений больше сетевых в 4 раза\n",
    "- Для сетевых заведений характерно большое количество заведений с небольшим количеством мест: предприятий быстрого обслуживания, ресторанов, кафе и кулинарий\n",
    "- Посадочных мест больше всего в столовых (более 100); около 30 в барах, буфетах и кафе; в закусочных, кулинариях и предприятиях быстрого обслуживания - менее 10\n",
    "- В топ-10 улиц по количеству точек общественного питания на улицу входят проспект Мира, Профсоюзная улица, Ленинградский проспект. На этих улицах больше всего мест с небольшим количеством мест и совсем немного с более чем 250 посадочными местами. На этих улицах расположено больше всего кафе, ресторанов и предприятий быстрого обслуживания\n",
    "- В топ-10 районов с одним объектов общественного питания на улице входят старые районы города, такие как Таганский, Хамовники, Басманный \n"
   ]
  },
  {
   "cell_type": "markdown",
   "metadata": {},
   "source": [
    "### Рекомендации"
   ]
  },
  {
   "cell_type": "markdown",
   "metadata": {},
   "source": [
    "- На улицах с большим количеством точек общественного питания уже много кафе, ресторанов и предприятий быстрого обслуживания, но совсем немного баров. Пресненская набережная входит в топ-10 по количеству заведений на улице. Рекомендуем открыть бар на Пресненской набережной, т.к. рядом расположен Москва-Сити и люди после работы с удовольствием сходят с коллегами в бар.  В Сити расположено много технологических компаний и их работникам будет интересно посмотреть на роботов-официантов. Рекомендуем сделать 30 посадочных мест = это среднее количеств мест для баров в Москве\n",
    "- Далее можно будет развить сеть и располагать заведения около бизнес-центров. Для сетей характерны места с небольшим количеством мест"
   ]
  },
  {
   "cell_type": "markdown",
   "metadata": {},
   "source": [
    "### <a id=\"step3\">Шаг 3. Подготовка презентации</a>"
   ]
  },
  {
   "cell_type": "markdown",
   "metadata": {},
   "source": [
    "Презентация: https://drive.google.com/file/d/1yCAlBNjzqYy_nKTxP8vnJ-DoVkmDgMOF/view?usp=sharing"
   ]
  }
 ],
 "metadata": {
  "kernelspec": {
   "display_name": "Python 3",
   "language": "python",
   "name": "python3"
  },
  "language_info": {
   "codemirror_mode": {
    "name": "ipython",
    "version": 3
   },
   "file_extension": ".py",
   "mimetype": "text/x-python",
   "name": "python",
   "nbconvert_exporter": "python",
   "pygments_lexer": "ipython3",
   "version": "3.6.4"
  }
 },
 "nbformat": 4,
 "nbformat_minor": 2
}
