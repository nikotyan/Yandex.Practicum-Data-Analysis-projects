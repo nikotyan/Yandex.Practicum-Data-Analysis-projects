{
 "cells": [
  {
   "cell_type": "markdown",
   "metadata": {
    "collapsed": true
   },
   "source": [
    "# Анализ рынка компьютерных игр"
   ]
  },
  {
   "cell_type": "markdown",
   "metadata": {},
   "source": [
    "С помощью информации из открытых источников о компьютерных играх (продажи, рейтинг, оценки пользователей) требуется выявить закономерности, выделяющиее успешные игры, и спланировать рекламный бюджет на следующий год для интернет-магазина игр"
   ]
  },
  {
   "cell_type": "markdown",
   "metadata": {},
   "source": [
    "### Описание данных"
   ]
  },
  {
   "cell_type": "markdown",
   "metadata": {},
   "source": [
    "Исторические данные о играх:\n",
    "- название игры\n",
    "- платформа\n",
    "- год выпуска\n",
    "- жанр игры\n",
    "- продажи в Северной Америке (миллионы долларов)\n",
    "- продажи в Европе (миллионы долларов)\n",
    "- продажи в Японии (миллионы долларов)\n",
    "- продажи в других странах (миллионы долларов)\n",
    "- оценка критиков (максимум 100)\n",
    "- оценка пользователей (максимум 10)\n",
    "- рейтинг от организации ESRB (англ. Entertainment Software Rating Board)"
   ]
  },
  {
   "cell_type": "markdown",
   "metadata": {},
   "source": [
    "### Структура проекта"
   ]
  },
  {
   "cell_type": "markdown",
   "metadata": {},
   "source": [
    "[Шаг 1. Изучение общей информации](#step1)  \n",
    "[Шаг 2. Подготовка данных](#step2) \n",
    "- [Замена названий столбцов](#step2.1) \n",
    "- [Обработка пропусков](#step2.2) \n",
    "- [Замена типов данных](#step2.3) \n",
    "- [Обработка дубликатов](#step2.4)\n",
    "- [Подсчет суммарных продаж во всех регионах](#step2.5)   \n",
    "\n",
    "[Шаг 3. Исследовательский анализ данных](#step3)  \n",
    "[Шаг 4. Составьте портрет пользователя каждого региона](#step4)  \n",
    "[Шаг 5. Проверка гипотез](#step5)  \n",
    "[Шаг 6. Общий вывод](#step6)\n",
    "\n",
    "\n",
    "\n"
   ]
  },
  {
   "cell_type": "markdown",
   "metadata": {},
   "source": [
    "### <a id=\"step1\">Шаг 1. Изучение общей информации</a>"
   ]
  },
  {
   "cell_type": "markdown",
   "metadata": {},
   "source": [
    "Напишем функцию для пути файла, чтобы файл открывался и на локальном компьютере, и в практикуме"
   ]
  },
  {
   "cell_type": "code",
   "execution_count": 1,
   "metadata": {},
   "outputs": [],
   "source": [
    "import os\n",
    "def try_path(path):\n",
    "    if os.path.exists(path):\n",
    "        return path\n",
    "    else:\n",
    "        return \".\" + path"
   ]
  },
  {
   "cell_type": "markdown",
   "metadata": {},
   "source": [
    "Подключим библиотеки, которые нам потребуются в дальнейшем"
   ]
  },
  {
   "cell_type": "code",
   "execution_count": 2,
   "metadata": {},
   "outputs": [],
   "source": [
    "import pandas as pd\n",
    "import matplotlib.pyplot as plt\n",
    "import numpy as np\n",
    "from IPython.display import display\n",
    "from scipy import stats as st\n",
    "import re"
   ]
  },
  {
   "cell_type": "markdown",
   "metadata": {},
   "source": [
    "Создадим dataframe c информаций об играх. Посмотрим 5 случайных записей из него"
   ]
  },
  {
   "cell_type": "code",
   "execution_count": 3,
   "metadata": {},
   "outputs": [
    {
     "data": {
      "text/html": [
       "<div>\n",
       "<style scoped>\n",
       "    .dataframe tbody tr th:only-of-type {\n",
       "        vertical-align: middle;\n",
       "    }\n",
       "\n",
       "    .dataframe tbody tr th {\n",
       "        vertical-align: top;\n",
       "    }\n",
       "\n",
       "    .dataframe thead th {\n",
       "        text-align: right;\n",
       "    }\n",
       "</style>\n",
       "<table border=\"1\" class=\"dataframe\">\n",
       "  <thead>\n",
       "    <tr style=\"text-align: right;\">\n",
       "      <th></th>\n",
       "      <th>Name</th>\n",
       "      <th>Platform</th>\n",
       "      <th>Year_of_Release</th>\n",
       "      <th>Genre</th>\n",
       "      <th>NA_sales</th>\n",
       "      <th>EU_sales</th>\n",
       "      <th>JP_sales</th>\n",
       "      <th>Other_sales</th>\n",
       "      <th>Critic_Score</th>\n",
       "      <th>User_Score</th>\n",
       "      <th>Rating</th>\n",
       "    </tr>\n",
       "  </thead>\n",
       "  <tbody>\n",
       "    <tr>\n",
       "      <th>16097</th>\n",
       "      <td>Wand of Fortune: Mirai e no Prologue Portable</td>\n",
       "      <td>PSP</td>\n",
       "      <td>2010.0</td>\n",
       "      <td>Adventure</td>\n",
       "      <td>0.00</td>\n",
       "      <td>0.00</td>\n",
       "      <td>0.01</td>\n",
       "      <td>0.00</td>\n",
       "      <td>NaN</td>\n",
       "      <td>NaN</td>\n",
       "      <td>NaN</td>\n",
       "    </tr>\n",
       "    <tr>\n",
       "      <th>12114</th>\n",
       "      <td>Tomb Raider: Legend</td>\n",
       "      <td>DS</td>\n",
       "      <td>2006.0</td>\n",
       "      <td>Action</td>\n",
       "      <td>0.04</td>\n",
       "      <td>0.02</td>\n",
       "      <td>0.00</td>\n",
       "      <td>0.01</td>\n",
       "      <td>58.0</td>\n",
       "      <td>8</td>\n",
       "      <td>T</td>\n",
       "    </tr>\n",
       "    <tr>\n",
       "      <th>2103</th>\n",
       "      <td>Zoo Tycoon DS</td>\n",
       "      <td>DS</td>\n",
       "      <td>2005.0</td>\n",
       "      <td>Strategy</td>\n",
       "      <td>0.86</td>\n",
       "      <td>0.03</td>\n",
       "      <td>0.01</td>\n",
       "      <td>0.08</td>\n",
       "      <td>44.0</td>\n",
       "      <td>6.6</td>\n",
       "      <td>E</td>\n",
       "    </tr>\n",
       "    <tr>\n",
       "      <th>7501</th>\n",
       "      <td>Beyblade G-Revolution</td>\n",
       "      <td>GBA</td>\n",
       "      <td>2004.0</td>\n",
       "      <td>Action</td>\n",
       "      <td>0.15</td>\n",
       "      <td>0.05</td>\n",
       "      <td>0.00</td>\n",
       "      <td>0.00</td>\n",
       "      <td>40.0</td>\n",
       "      <td>7.8</td>\n",
       "      <td>E</td>\n",
       "    </tr>\n",
       "    <tr>\n",
       "      <th>9504</th>\n",
       "      <td>Momotaro Douchuuki</td>\n",
       "      <td>SAT</td>\n",
       "      <td>1997.0</td>\n",
       "      <td>Misc</td>\n",
       "      <td>0.00</td>\n",
       "      <td>0.00</td>\n",
       "      <td>0.13</td>\n",
       "      <td>0.00</td>\n",
       "      <td>NaN</td>\n",
       "      <td>NaN</td>\n",
       "      <td>NaN</td>\n",
       "    </tr>\n",
       "  </tbody>\n",
       "</table>\n",
       "</div>"
      ],
      "text/plain": [
       "                                                Name Platform  \\\n",
       "16097  Wand of Fortune: Mirai e no Prologue Portable      PSP   \n",
       "12114                            Tomb Raider: Legend       DS   \n",
       "2103                                   Zoo Tycoon DS       DS   \n",
       "7501                           Beyblade G-Revolution      GBA   \n",
       "9504                              Momotaro Douchuuki      SAT   \n",
       "\n",
       "       Year_of_Release      Genre  NA_sales  EU_sales  JP_sales  Other_sales  \\\n",
       "16097           2010.0  Adventure      0.00      0.00      0.01         0.00   \n",
       "12114           2006.0     Action      0.04      0.02      0.00         0.01   \n",
       "2103            2005.0   Strategy      0.86      0.03      0.01         0.08   \n",
       "7501            2004.0     Action      0.15      0.05      0.00         0.00   \n",
       "9504            1997.0       Misc      0.00      0.00      0.13         0.00   \n",
       "\n",
       "       Critic_Score User_Score Rating  \n",
       "16097           NaN        NaN    NaN  \n",
       "12114          58.0          8      T  \n",
       "2103           44.0        6.6      E  \n",
       "7501           40.0        7.8      E  \n",
       "9504            NaN        NaN    NaN  "
      ]
     },
     "execution_count": 3,
     "metadata": {},
     "output_type": "execute_result"
    }
   ],
   "source": [
    "df = pd.read_csv(try_path('/datasets/games.csv'))\n",
    "df.sample(5)"
   ]
  },
  {
   "cell_type": "markdown",
   "metadata": {},
   "source": [
    "Посмотрим информацию о таблице"
   ]
  },
  {
   "cell_type": "code",
   "execution_count": 4,
   "metadata": {},
   "outputs": [
    {
     "name": "stdout",
     "output_type": "stream",
     "text": [
      "<class 'pandas.core.frame.DataFrame'>\n",
      "RangeIndex: 16715 entries, 0 to 16714\n",
      "Data columns (total 11 columns):\n",
      " #   Column           Non-Null Count  Dtype  \n",
      "---  ------           --------------  -----  \n",
      " 0   Name             16713 non-null  object \n",
      " 1   Platform         16715 non-null  object \n",
      " 2   Year_of_Release  16446 non-null  float64\n",
      " 3   Genre            16713 non-null  object \n",
      " 4   NA_sales         16715 non-null  float64\n",
      " 5   EU_sales         16715 non-null  float64\n",
      " 6   JP_sales         16715 non-null  float64\n",
      " 7   Other_sales      16715 non-null  float64\n",
      " 8   Critic_Score     8137 non-null   float64\n",
      " 9   User_Score       10014 non-null  object \n",
      " 10  Rating           9949 non-null   object \n",
      "dtypes: float64(6), object(5)\n",
      "memory usage: 1.4+ MB\n"
     ]
    }
   ],
   "source": [
    "df.info()"
   ]
  },
  {
   "cell_type": "markdown",
   "metadata": {},
   "source": [
    "Посмотрим каков процент пропущенных значений для каждого из столбцов"
   ]
  },
  {
   "cell_type": "code",
   "execution_count": 5,
   "metadata": {},
   "outputs": [
    {
     "data": {
      "text/html": [
       "<div>\n",
       "<style scoped>\n",
       "    .dataframe tbody tr th:only-of-type {\n",
       "        vertical-align: middle;\n",
       "    }\n",
       "\n",
       "    .dataframe tbody tr th {\n",
       "        vertical-align: top;\n",
       "    }\n",
       "\n",
       "    .dataframe thead th {\n",
       "        text-align: right;\n",
       "    }\n",
       "</style>\n",
       "<table border=\"1\" class=\"dataframe\">\n",
       "  <thead>\n",
       "    <tr style=\"text-align: right;\">\n",
       "      <th></th>\n",
       "      <th>column</th>\n",
       "      <th>missed values</th>\n",
       "    </tr>\n",
       "  </thead>\n",
       "  <tbody>\n",
       "    <tr>\n",
       "      <th>0</th>\n",
       "      <td>Critic_Score</td>\n",
       "      <td>51.32%</td>\n",
       "    </tr>\n",
       "    <tr>\n",
       "      <th>1</th>\n",
       "      <td>Rating</td>\n",
       "      <td>40.48%</td>\n",
       "    </tr>\n",
       "    <tr>\n",
       "      <th>2</th>\n",
       "      <td>User_Score</td>\n",
       "      <td>40.09%</td>\n",
       "    </tr>\n",
       "    <tr>\n",
       "      <th>3</th>\n",
       "      <td>Year_of_Release</td>\n",
       "      <td>1.61%</td>\n",
       "    </tr>\n",
       "    <tr>\n",
       "      <th>4</th>\n",
       "      <td>Genre</td>\n",
       "      <td>0.01%</td>\n",
       "    </tr>\n",
       "    <tr>\n",
       "      <th>5</th>\n",
       "      <td>Name</td>\n",
       "      <td>0.01%</td>\n",
       "    </tr>\n",
       "  </tbody>\n",
       "</table>\n",
       "</div>"
      ],
      "text/plain": [
       "            column missed values\n",
       "0     Critic_Score        51.32%\n",
       "1           Rating        40.48%\n",
       "2       User_Score        40.09%\n",
       "3  Year_of_Release         1.61%\n",
       "4            Genre         0.01%\n",
       "5             Name         0.01%"
      ]
     },
     "metadata": {},
     "output_type": "display_data"
    }
   ],
   "source": [
    "def print_null_values_as_percent(data):\n",
    "    null_values = data.isnull().sum().sort_values(ascending = False)\n",
    "    i = 0\n",
    "    res = pd.DataFrame(columns = ['column', 'missed values'])\n",
    "    for i in range(len(null_values)):\n",
    "        if null_values[i] != 0:\n",
    "            row = len(res)       \n",
    "            res.loc[row,:] = [null_values.index[i], (round((null_values[i] / len(df))*100, 2)).astype(str)+'%']\n",
    "    display(res.sort_values('missed values', ascending = False))\n",
    "\n",
    "print_null_values_as_percent(df)"
   ]
  },
  {
   "cell_type": "markdown",
   "metadata": {},
   "source": [
    "Посмотрим описательные статистики, чтобы посмотреть каковы границы значений и проверить нет ли у нас явно ложных значений "
   ]
  },
  {
   "cell_type": "code",
   "execution_count": 6,
   "metadata": {},
   "outputs": [
    {
     "data": {
      "text/html": [
       "<div>\n",
       "<style scoped>\n",
       "    .dataframe tbody tr th:only-of-type {\n",
       "        vertical-align: middle;\n",
       "    }\n",
       "\n",
       "    .dataframe tbody tr th {\n",
       "        vertical-align: top;\n",
       "    }\n",
       "\n",
       "    .dataframe thead th {\n",
       "        text-align: right;\n",
       "    }\n",
       "</style>\n",
       "<table border=\"1\" class=\"dataframe\">\n",
       "  <thead>\n",
       "    <tr style=\"text-align: right;\">\n",
       "      <th></th>\n",
       "      <th>Year_of_Release</th>\n",
       "      <th>NA_sales</th>\n",
       "      <th>EU_sales</th>\n",
       "      <th>JP_sales</th>\n",
       "      <th>Other_sales</th>\n",
       "      <th>Critic_Score</th>\n",
       "    </tr>\n",
       "  </thead>\n",
       "  <tbody>\n",
       "    <tr>\n",
       "      <th>count</th>\n",
       "      <td>16446.000000</td>\n",
       "      <td>16715.000000</td>\n",
       "      <td>16715.000000</td>\n",
       "      <td>16715.000000</td>\n",
       "      <td>16715.000000</td>\n",
       "      <td>8137.000000</td>\n",
       "    </tr>\n",
       "    <tr>\n",
       "      <th>mean</th>\n",
       "      <td>2006.484616</td>\n",
       "      <td>0.263377</td>\n",
       "      <td>0.145060</td>\n",
       "      <td>0.077617</td>\n",
       "      <td>0.047342</td>\n",
       "      <td>68.967679</td>\n",
       "    </tr>\n",
       "    <tr>\n",
       "      <th>std</th>\n",
       "      <td>5.877050</td>\n",
       "      <td>0.813604</td>\n",
       "      <td>0.503339</td>\n",
       "      <td>0.308853</td>\n",
       "      <td>0.186731</td>\n",
       "      <td>13.938165</td>\n",
       "    </tr>\n",
       "    <tr>\n",
       "      <th>min</th>\n",
       "      <td>1980.000000</td>\n",
       "      <td>0.000000</td>\n",
       "      <td>0.000000</td>\n",
       "      <td>0.000000</td>\n",
       "      <td>0.000000</td>\n",
       "      <td>13.000000</td>\n",
       "    </tr>\n",
       "    <tr>\n",
       "      <th>25%</th>\n",
       "      <td>2003.000000</td>\n",
       "      <td>0.000000</td>\n",
       "      <td>0.000000</td>\n",
       "      <td>0.000000</td>\n",
       "      <td>0.000000</td>\n",
       "      <td>60.000000</td>\n",
       "    </tr>\n",
       "    <tr>\n",
       "      <th>50%</th>\n",
       "      <td>2007.000000</td>\n",
       "      <td>0.080000</td>\n",
       "      <td>0.020000</td>\n",
       "      <td>0.000000</td>\n",
       "      <td>0.010000</td>\n",
       "      <td>71.000000</td>\n",
       "    </tr>\n",
       "    <tr>\n",
       "      <th>75%</th>\n",
       "      <td>2010.000000</td>\n",
       "      <td>0.240000</td>\n",
       "      <td>0.110000</td>\n",
       "      <td>0.040000</td>\n",
       "      <td>0.030000</td>\n",
       "      <td>79.000000</td>\n",
       "    </tr>\n",
       "    <tr>\n",
       "      <th>max</th>\n",
       "      <td>2016.000000</td>\n",
       "      <td>41.360000</td>\n",
       "      <td>28.960000</td>\n",
       "      <td>10.220000</td>\n",
       "      <td>10.570000</td>\n",
       "      <td>98.000000</td>\n",
       "    </tr>\n",
       "  </tbody>\n",
       "</table>\n",
       "</div>"
      ],
      "text/plain": [
       "       Year_of_Release      NA_sales      EU_sales      JP_sales  \\\n",
       "count     16446.000000  16715.000000  16715.000000  16715.000000   \n",
       "mean       2006.484616      0.263377      0.145060      0.077617   \n",
       "std           5.877050      0.813604      0.503339      0.308853   \n",
       "min        1980.000000      0.000000      0.000000      0.000000   \n",
       "25%        2003.000000      0.000000      0.000000      0.000000   \n",
       "50%        2007.000000      0.080000      0.020000      0.000000   \n",
       "75%        2010.000000      0.240000      0.110000      0.040000   \n",
       "max        2016.000000     41.360000     28.960000     10.220000   \n",
       "\n",
       "        Other_sales  Critic_Score  \n",
       "count  16715.000000   8137.000000  \n",
       "mean       0.047342     68.967679  \n",
       "std        0.186731     13.938165  \n",
       "min        0.000000     13.000000  \n",
       "25%        0.000000     60.000000  \n",
       "50%        0.010000     71.000000  \n",
       "75%        0.030000     79.000000  \n",
       "max       10.570000     98.000000  "
      ]
     },
     "execution_count": 6,
     "metadata": {},
     "output_type": "execute_result"
    }
   ],
   "source": [
    "df.describe()"
   ]
  },
  {
   "cell_type": "markdown",
   "metadata": {},
   "source": [
    "Посмотрим уникальные значения для данных, представленных типом object"
   ]
  },
  {
   "cell_type": "code",
   "execution_count": 7,
   "metadata": {},
   "outputs": [
    {
     "name": "stdout",
     "output_type": "stream",
     "text": [
      "Need for Speed: Most Wanted    12\n",
      "Madden NFL 07                   9\n",
      "Ratatouille                     9\n",
      "FIFA 14                         9\n",
      "LEGO Marvel Super Heroes        9\n",
      "                               ..\n",
      "Wild ARMs 3                     1\n",
      "Shining Hearts                  1\n",
      "Battlefield 2142                1\n",
      "GunGriffon: Allied Strike       1\n",
      "Storm Lover Kai!!               1\n",
      "Name: Name, Length: 11559, dtype: int64\n",
      "\n",
      "PS2     2161\n",
      "DS      2151\n",
      "PS3     1331\n",
      "Wii     1320\n",
      "X360    1262\n",
      "PSP     1209\n",
      "PS      1197\n",
      "PC       974\n",
      "XB       824\n",
      "GBA      822\n",
      "GC       556\n",
      "3DS      520\n",
      "PSV      430\n",
      "PS4      392\n",
      "N64      319\n",
      "XOne     247\n",
      "SNES     239\n",
      "SAT      173\n",
      "WiiU     147\n",
      "2600     133\n",
      "GB        98\n",
      "NES       98\n",
      "DC        52\n",
      "GEN       29\n",
      "NG        12\n",
      "WS         6\n",
      "SCD        6\n",
      "3DO        3\n",
      "TG16       2\n",
      "PCFX       1\n",
      "GG         1\n",
      "Name: Platform, dtype: int64\n",
      "\n",
      "Action          3369\n",
      "Sports          2348\n",
      "Misc            1750\n",
      "Role-Playing    1498\n",
      "Shooter         1323\n",
      "Adventure       1303\n",
      "Racing          1249\n",
      "Platform         888\n",
      "Simulation       873\n",
      "Fighting         849\n",
      "Strategy         683\n",
      "Puzzle           580\n",
      "Name: Genre, dtype: int64\n",
      "\n",
      "tbd    2424\n",
      "7.8     324\n",
      "8       290\n",
      "8.2     282\n",
      "8.3     254\n",
      "       ... \n",
      "1.3       2\n",
      "2.3       2\n",
      "0.6       2\n",
      "0         1\n",
      "9.7       1\n",
      "Name: User_Score, Length: 96, dtype: int64\n",
      "\n",
      "E       3990\n",
      "T       2961\n",
      "M       1563\n",
      "E10+    1420\n",
      "EC         8\n",
      "RP         3\n",
      "K-A        3\n",
      "AO         1\n",
      "Name: Rating, dtype: int64\n",
      "\n"
     ]
    }
   ],
   "source": [
    "object_df = df.select_dtypes(include = 'object')\n",
    "for col in object_df:\n",
    "    print(object_df[col].value_counts().sort_values(ascending = False))\n",
    "    print()"
   ]
  },
  {
   "cell_type": "markdown",
   "metadata": {},
   "source": [
    "### Вывод"
   ]
  },
  {
   "cell_type": "markdown",
   "metadata": {},
   "source": [
    "Посмотрели общую информацию о данных. Объем данных - 16 714 записей. \n",
    "\n",
    "Выявили следующие пропуски:\n",
    "- Примерно у половины нет оценки критиков и у чуть менее чем половины нет оценки пользователей. Вероятная причина таких пропусков - эти оценки не были проставлены критиками и пользователями.\n",
    "- В 40% записей нет рейтинга ESRB. Предположительно, эти игры не были оценены ESRB\n",
    "- Менее чем у 2% игр не заполнен год выпуска. Можем предположить, что в источниках не был указан год \n",
    "- У 0.01% игр не заполнено имя и жанр. Так как пропущено одинаковое количество записей с именем и жанром, предположительно, это одни и те же игры. Возможно, был какой-то сбой при выгрузке и имя, и жанр не попали к нам в таблицу.\n",
    "- У 2424 записей поле оценка заполено как \"tbd\". TBD расшифровывается как to be defined. Скорее всего игру оценивают много пользователей и значение в колонке user_score - среднее из их оценок. Можем предположить, что значение tbd значит, что игру оценили очень мало пользователей и мы ждем большего количества оценок, чтобы сделать вывод как в среднем оценивают игру пользователи.\n",
    "\n",
    "Обнаружили, что в столбцах Year_of_Release, critic_score из-за того что там есть пропуски в данных,  хранятся float значения, хотя нам было бы достаточно целого числа. В user_score хранятся числа как строки, т.к. одно из значений 'tbd'.Выполним преобразование типов для валидных значений в одном из следующих шагов.\n",
    "\n",
    "Увидели, что в названии столбцов использованы хаотично оба регистра, с такими названиями будет неудобно работать в дальнейшем. Нужно будет привести их к нижнему регистру.\n",
    "\n",
    "Посмотрим, что значит каждое из обозначений в рейтинге ESRB. В дальнейшем нам это может пригодится:  \n",
    "E (Everyone) — «Для всех 6+  \n",
    "T (Teen) — «Подросткам» 13+  \n",
    "M (Mature) — «Для взрослых» 17+  \n",
    "E10+ (Everyone 10 and older) — «Для всех от 10 лет и старше» 10+  \n",
    "EC («Early childhood») — «Для детей младшего возраста»: 3+  \n",
    "K-A (\"Kids to Adults\") старое название для категории E - everyone 6+  \n",
    "RP («Rating Pending») — «Рейтинг ожидается»  \n",
    "AO («Adults Only 18+») — «Только для взрослых» 18+\n",
    "\n",
    "Видно, что K-A - старое название для категории E. Нужно будет перименовать категорию K-A в E."
   ]
  },
  {
   "cell_type": "markdown",
   "metadata": {},
   "source": [
    "### <a id=\"step2\">Шаг 2. Подготовка данных</a>"
   ]
  },
  {
   "cell_type": "markdown",
   "metadata": {},
   "source": [
    "- ### <a id=\"step2.1\">Замена названий столбцов</a>"
   ]
  },
  {
   "cell_type": "markdown",
   "metadata": {},
   "source": [
    "Приведем к нижнему регистру названия столбцов"
   ]
  },
  {
   "cell_type": "code",
   "execution_count": 8,
   "metadata": {},
   "outputs": [
    {
     "data": {
      "text/plain": [
       "Index(['name', 'platform', 'year_of_release', 'genre', 'na_sales', 'eu_sales',\n",
       "       'jp_sales', 'other_sales', 'critic_score', 'user_score', 'rating'],\n",
       "      dtype='object')"
      ]
     },
     "execution_count": 8,
     "metadata": {},
     "output_type": "execute_result"
    }
   ],
   "source": [
    "df.columns = df.columns.str.lower()\n",
    "df.columns"
   ]
  },
  {
   "cell_type": "markdown",
   "metadata": {},
   "source": [
    "- ### <a id=\"step2.2\">Обработка пропусков</a>"
   ]
  },
  {
   "cell_type": "markdown",
   "metadata": {},
   "source": [
    "Посмотрим еще раз сколько у нас пропущенных значений в каждом из столбцов"
   ]
  },
  {
   "cell_type": "code",
   "execution_count": 9,
   "metadata": {},
   "outputs": [
    {
     "data": {
      "text/html": [
       "<div>\n",
       "<style scoped>\n",
       "    .dataframe tbody tr th:only-of-type {\n",
       "        vertical-align: middle;\n",
       "    }\n",
       "\n",
       "    .dataframe tbody tr th {\n",
       "        vertical-align: top;\n",
       "    }\n",
       "\n",
       "    .dataframe thead th {\n",
       "        text-align: right;\n",
       "    }\n",
       "</style>\n",
       "<table border=\"1\" class=\"dataframe\">\n",
       "  <thead>\n",
       "    <tr style=\"text-align: right;\">\n",
       "      <th></th>\n",
       "      <th>column</th>\n",
       "      <th>missed values</th>\n",
       "    </tr>\n",
       "  </thead>\n",
       "  <tbody>\n",
       "    <tr>\n",
       "      <th>0</th>\n",
       "      <td>critic_score</td>\n",
       "      <td>51.32%</td>\n",
       "    </tr>\n",
       "    <tr>\n",
       "      <th>1</th>\n",
       "      <td>rating</td>\n",
       "      <td>40.48%</td>\n",
       "    </tr>\n",
       "    <tr>\n",
       "      <th>2</th>\n",
       "      <td>user_score</td>\n",
       "      <td>40.09%</td>\n",
       "    </tr>\n",
       "    <tr>\n",
       "      <th>3</th>\n",
       "      <td>year_of_release</td>\n",
       "      <td>1.61%</td>\n",
       "    </tr>\n",
       "    <tr>\n",
       "      <th>4</th>\n",
       "      <td>genre</td>\n",
       "      <td>0.01%</td>\n",
       "    </tr>\n",
       "    <tr>\n",
       "      <th>5</th>\n",
       "      <td>name</td>\n",
       "      <td>0.01%</td>\n",
       "    </tr>\n",
       "  </tbody>\n",
       "</table>\n",
       "</div>"
      ],
      "text/plain": [
       "            column missed values\n",
       "0     critic_score        51.32%\n",
       "1           rating        40.48%\n",
       "2       user_score        40.09%\n",
       "3  year_of_release         1.61%\n",
       "4            genre         0.01%\n",
       "5             name         0.01%"
      ]
     },
     "metadata": {},
     "output_type": "display_data"
    }
   ],
   "source": [
    "print_null_values_as_percent(df)"
   ]
  },
  {
   "cell_type": "markdown",
   "metadata": {},
   "source": [
    "<b>- critic_score - 51% пропусков</b>"
   ]
  },
  {
   "cell_type": "markdown",
   "metadata": {},
   "source": [
    "51% пропущенных записей с оценкой критиков. Предположительно, оценка критиков не будет сильно отличаться для одной и той же игры на разных платформах. Проверим, есть ли у нас информация об оценке критиков для пропущеных значений для других платформ"
   ]
  },
  {
   "cell_type": "code",
   "execution_count": 10,
   "metadata": {},
   "outputs": [
    {
     "data": {
      "text/plain": [
       "961"
      ]
     },
     "execution_count": 10,
     "metadata": {},
     "output_type": "execute_result"
    }
   ],
   "source": [
    "score_not_null_names = df.query('critic_score.notnull()')['name']\n",
    "df.query('critic_score.isnull() and name in @score_not_null_names')['name'].count()"
   ]
  },
  {
   "cell_type": "markdown",
   "metadata": {},
   "source": [
    "У нас есть информация для 961 игры. Произведем замену на наиболее встречаемые значения по названию игры."
   ]
  },
  {
   "cell_type": "code",
   "execution_count": 11,
   "metadata": {},
   "outputs": [
    {
     "data": {
      "text/plain": [
       "name\n",
       " Beyblade Burst                 None\n",
       " Fire Emblem Fates              None\n",
       " Frozen: Olaf's Quest           None\n",
       " Haikyu!! Cross Team Match!     None\n",
       " Tales of Xillia 2              None\n",
       "                                ... \n",
       "thinkSMART: Chess for Kids      None\n",
       "uDraw Studio                    None\n",
       "uDraw Studio: Instant Artist    None\n",
       "wwe Smackdown vs. Raw 2006      None\n",
       "¡Shin Chan Flipa en colores!    None\n",
       "Name: critic_score, Length: 11559, dtype: object"
      ]
     },
     "execution_count": 11,
     "metadata": {},
     "output_type": "execute_result"
    }
   ],
   "source": [
    "def mode_critic_score(data):\n",
    "    if(any(data.isnull()) and not(all(data.isnull()))): # есть null в группе и не все значения null\n",
    "        mode = data.mode()\n",
    "        df.loc[(df['critic_score'].isnull()) & (df['name'] == data.name),'critic_score'] = mode[0]\n",
    "\n",
    "df.groupby('name')['critic_score'].apply(mode_critic_score)"
   ]
  },
  {
   "cell_type": "markdown",
   "metadata": {},
   "source": [
    "Посмотрим каков стал процент пропущенных значений после замены"
   ]
  },
  {
   "cell_type": "code",
   "execution_count": 12,
   "metadata": {},
   "outputs": [
    {
     "data": {
      "text/plain": [
       "46.0"
      ]
     },
     "execution_count": 12,
     "metadata": {},
     "output_type": "execute_result"
    }
   ],
   "source": [
    "round(df['critic_score'].isnull().sum()/len(df) * 100)"
   ]
  },
  {
   "cell_type": "markdown",
   "metadata": {},
   "source": [
    "Произвели замену на моду у 5% записей"
   ]
  },
  {
   "cell_type": "markdown",
   "metadata": {},
   "source": [
    "<b>- rating - 40% пропусков</b>"
   ]
  },
  {
   "cell_type": "markdown",
   "metadata": {},
   "source": [
    "Возрастная категория показывает с какого возраста можно играть в игру. Возможно, у некоторых игр будет оценка для одной платформы, но не будет оценки - для другой. Если есть такие игры, то заменим пропуски на максимальный возраст соответственно рейтингу, с какого можно играть в эту игру, для других платформ. Сначала проверим есть ли такие игры,"
   ]
  },
  {
   "cell_type": "code",
   "execution_count": 13,
   "metadata": {},
   "outputs": [
    {
     "data": {
      "text/plain": [
       "680"
      ]
     },
     "execution_count": 13,
     "metadata": {},
     "output_type": "execute_result"
    }
   ],
   "source": [
    "rating_null_names = df.query('rating.isnull()')['name']\n",
    "df.query('rating.notnull() and name in @rating_null_names')['name'].count()"
   ]
  },
  {
   "cell_type": "markdown",
   "metadata": {},
   "source": [
    "Перименуем категорию K-A в E, т.к. K-A (\"Kids to Adults\") старое название для категории E - everyone 6+"
   ]
  },
  {
   "cell_type": "code",
   "execution_count": 14,
   "metadata": {},
   "outputs": [
    {
     "data": {
      "text/plain": [
       "0"
      ]
     },
     "execution_count": 14,
     "metadata": {},
     "output_type": "execute_result"
    }
   ],
   "source": [
    "df['rating'].replace('K-A','E', inplace = True)\n",
    "df.query('rating == \"K-A\"')['rating'].count()"
   ]
  },
  {
   "cell_type": "markdown",
   "metadata": {},
   "source": [
    "Добавим колонку которая будет содержать минимальный возраст, с которого можно играть в игру, согласно рейтингу ESRB:  \n",
    "E (Everyone) — «Для всех 6+  \n",
    "T (Teen) — «Подросткам» 13+  \n",
    "M (Mature) — «Для взрослых» 17+  \n",
    "E10+ (Everyone 10 and older) — «Для всех от 10 лет и старше» 10+  \n",
    "EC («Early childhood») — «Для детей младшего возраста»: 3+  \n",
    "RP («Rating Pending») — «Рейтинг ожидается»  \n",
    "AO («Adults Only 18+») — «Только для взрослых» 18+"
   ]
  },
  {
   "cell_type": "code",
   "execution_count": 15,
   "metadata": {},
   "outputs": [
    {
     "data": {
      "text/html": [
       "<div>\n",
       "<style scoped>\n",
       "    .dataframe tbody tr th:only-of-type {\n",
       "        vertical-align: middle;\n",
       "    }\n",
       "\n",
       "    .dataframe tbody tr th {\n",
       "        vertical-align: top;\n",
       "    }\n",
       "\n",
       "    .dataframe thead th {\n",
       "        text-align: right;\n",
       "    }\n",
       "</style>\n",
       "<table border=\"1\" class=\"dataframe\">\n",
       "  <thead>\n",
       "    <tr style=\"text-align: right;\">\n",
       "      <th></th>\n",
       "      <th>name</th>\n",
       "      <th>platform</th>\n",
       "      <th>year_of_release</th>\n",
       "      <th>genre</th>\n",
       "      <th>na_sales</th>\n",
       "      <th>eu_sales</th>\n",
       "      <th>jp_sales</th>\n",
       "      <th>other_sales</th>\n",
       "      <th>critic_score</th>\n",
       "      <th>user_score</th>\n",
       "      <th>rating</th>\n",
       "      <th>rating_min_age</th>\n",
       "    </tr>\n",
       "  </thead>\n",
       "  <tbody>\n",
       "    <tr>\n",
       "      <th>0</th>\n",
       "      <td>Wii Sports</td>\n",
       "      <td>Wii</td>\n",
       "      <td>2006.0</td>\n",
       "      <td>Sports</td>\n",
       "      <td>41.36</td>\n",
       "      <td>28.96</td>\n",
       "      <td>3.77</td>\n",
       "      <td>8.45</td>\n",
       "      <td>76.0</td>\n",
       "      <td>8</td>\n",
       "      <td>E</td>\n",
       "      <td>6.0</td>\n",
       "    </tr>\n",
       "    <tr>\n",
       "      <th>1</th>\n",
       "      <td>Super Mario Bros.</td>\n",
       "      <td>NES</td>\n",
       "      <td>1985.0</td>\n",
       "      <td>Platform</td>\n",
       "      <td>29.08</td>\n",
       "      <td>3.58</td>\n",
       "      <td>6.81</td>\n",
       "      <td>0.77</td>\n",
       "      <td>NaN</td>\n",
       "      <td>NaN</td>\n",
       "      <td>NaN</td>\n",
       "      <td>NaN</td>\n",
       "    </tr>\n",
       "    <tr>\n",
       "      <th>2</th>\n",
       "      <td>Mario Kart Wii</td>\n",
       "      <td>Wii</td>\n",
       "      <td>2008.0</td>\n",
       "      <td>Racing</td>\n",
       "      <td>15.68</td>\n",
       "      <td>12.76</td>\n",
       "      <td>3.79</td>\n",
       "      <td>3.29</td>\n",
       "      <td>82.0</td>\n",
       "      <td>8.3</td>\n",
       "      <td>E</td>\n",
       "      <td>6.0</td>\n",
       "    </tr>\n",
       "    <tr>\n",
       "      <th>3</th>\n",
       "      <td>Wii Sports Resort</td>\n",
       "      <td>Wii</td>\n",
       "      <td>2009.0</td>\n",
       "      <td>Sports</td>\n",
       "      <td>15.61</td>\n",
       "      <td>10.93</td>\n",
       "      <td>3.28</td>\n",
       "      <td>2.95</td>\n",
       "      <td>80.0</td>\n",
       "      <td>8</td>\n",
       "      <td>E</td>\n",
       "      <td>6.0</td>\n",
       "    </tr>\n",
       "    <tr>\n",
       "      <th>4</th>\n",
       "      <td>Pokemon Red/Pokemon Blue</td>\n",
       "      <td>GB</td>\n",
       "      <td>1996.0</td>\n",
       "      <td>Role-Playing</td>\n",
       "      <td>11.27</td>\n",
       "      <td>8.89</td>\n",
       "      <td>10.22</td>\n",
       "      <td>1.00</td>\n",
       "      <td>NaN</td>\n",
       "      <td>NaN</td>\n",
       "      <td>NaN</td>\n",
       "      <td>NaN</td>\n",
       "    </tr>\n",
       "  </tbody>\n",
       "</table>\n",
       "</div>"
      ],
      "text/plain": [
       "                       name platform  year_of_release         genre  na_sales  \\\n",
       "0                Wii Sports      Wii           2006.0        Sports     41.36   \n",
       "1         Super Mario Bros.      NES           1985.0      Platform     29.08   \n",
       "2            Mario Kart Wii      Wii           2008.0        Racing     15.68   \n",
       "3         Wii Sports Resort      Wii           2009.0        Sports     15.61   \n",
       "4  Pokemon Red/Pokemon Blue       GB           1996.0  Role-Playing     11.27   \n",
       "\n",
       "   eu_sales  jp_sales  other_sales  critic_score user_score rating  \\\n",
       "0     28.96      3.77         8.45          76.0          8      E   \n",
       "1      3.58      6.81         0.77           NaN        NaN    NaN   \n",
       "2     12.76      3.79         3.29          82.0        8.3      E   \n",
       "3     10.93      3.28         2.95          80.0          8      E   \n",
       "4      8.89     10.22         1.00           NaN        NaN    NaN   \n",
       "\n",
       "   rating_min_age  \n",
       "0             6.0  \n",
       "1             NaN  \n",
       "2             6.0  \n",
       "3             6.0  \n",
       "4             NaN  "
      ]
     },
     "execution_count": 15,
     "metadata": {},
     "output_type": "execute_result"
    }
   ],
   "source": [
    "dict_rating_age = ({'E':6,'T':13,'M':17,'E10+':10,'EC':3,'AO':18})\n",
    "df['rating_min_age'] = df['rating'].map(dict_rating_age)\n",
    "df.head()"
   ]
  },
  {
   "cell_type": "markdown",
   "metadata": {},
   "source": [
    "Произведем замену rating_min_age на наибольший по названию игры"
   ]
  },
  {
   "cell_type": "code",
   "execution_count": 16,
   "metadata": {},
   "outputs": [],
   "source": [
    "df['rating_min_age'] = df.groupby('name')['rating_min_age'].apply(lambda x: x.fillna(x.loc[x.isnull() == False].max()))"
   ]
  },
  {
   "cell_type": "markdown",
   "metadata": {},
   "source": [
    "Заполним значений пропущенного рейтинга в соответствии с минимальным возрастом, с которого можно играть в игру"
   ]
  },
  {
   "cell_type": "code",
   "execution_count": 17,
   "metadata": {},
   "outputs": [],
   "source": [
    "dict_age_rating ={}\n",
    "for k, v in dict_rating_age.items():\n",
    "    dict_age_rating[v] = k\n",
    "\n",
    "dict_age_rating\n",
    "df['rating'] = df['rating_min_age'].map(dict_age_rating)"
   ]
  },
  {
   "cell_type": "markdown",
   "metadata": {},
   "source": [
    "Посмотрим каков процент пропусков, который удалось так заменить"
   ]
  },
  {
   "cell_type": "code",
   "execution_count": 18,
   "metadata": {},
   "outputs": [
    {
     "data": {
      "text/plain": [
       "38.0"
      ]
     },
     "execution_count": 18,
     "metadata": {},
     "output_type": "execute_result"
    }
   ],
   "source": [
    "round(df['rating'].isnull().sum()/len(df) * 100)"
   ]
  },
  {
   "cell_type": "markdown",
   "metadata": {},
   "source": [
    "Заменили 2% пропусков в рейтинге на максимальный рейтинг по возрасту по имени игры"
   ]
  },
  {
   "cell_type": "markdown",
   "metadata": {},
   "source": [
    "<b>- user_score - 40% пропусков</b>"
   ]
  },
  {
   "cell_type": "markdown",
   "metadata": {},
   "source": [
    "Предположительно tbd - это означает, что слишком мало пользователей оценили игру и мы не можем сделать вывод о средней оценке пользователей игры. Для нас это означает, что мы не знаем оценку как и в случае с null. Заменим значения tbd на null, т.к. нам не важен факт того, что пользователи ее заполняли, а важна сама оценка, а ее нет"
   ]
  },
  {
   "cell_type": "code",
   "execution_count": 19,
   "metadata": {},
   "outputs": [
    {
     "data": {
      "text/plain": [
       "0"
      ]
     },
     "execution_count": 19,
     "metadata": {},
     "output_type": "execute_result"
    }
   ],
   "source": [
    "df['user_score'].replace('tbd',np.NaN, inplace = True)\n",
    "df.query('user_score == \"tbd\"')['user_score'].count()"
   ]
  },
  {
   "cell_type": "markdown",
   "metadata": {},
   "source": [
    "Посмотрим каков стал процент пропусков после такой замены"
   ]
  },
  {
   "cell_type": "code",
   "execution_count": 20,
   "metadata": {},
   "outputs": [
    {
     "data": {
      "text/plain": [
       "55.0"
      ]
     },
     "execution_count": 20,
     "metadata": {},
     "output_type": "execute_result"
    }
   ],
   "source": [
    "round(df['user_score'].isnull().sum()/len(df) * 100)"
   ]
  },
  {
   "cell_type": "markdown",
   "metadata": {},
   "source": [
    "Как и в случае с критиками предположим, что оценка пользователей не будет сильно отличаться для одной и той же игры на разных платформах. Произведем замену пропусков на наиболее встречаемые значения по имени игры."
   ]
  },
  {
   "cell_type": "code",
   "execution_count": 21,
   "metadata": {},
   "outputs": [
    {
     "data": {
      "text/plain": [
       "name\n",
       " Beyblade Burst                 None\n",
       " Fire Emblem Fates              None\n",
       " Frozen: Olaf's Quest           None\n",
       " Haikyu!! Cross Team Match!     None\n",
       " Tales of Xillia 2              None\n",
       "                                ... \n",
       "thinkSMART: Chess for Kids      None\n",
       "uDraw Studio                    None\n",
       "uDraw Studio: Instant Artist    None\n",
       "wwe Smackdown vs. Raw 2006      None\n",
       "¡Shin Chan Flipa en colores!    None\n",
       "Name: user_score, Length: 11559, dtype: object"
      ]
     },
     "execution_count": 21,
     "metadata": {},
     "output_type": "execute_result"
    }
   ],
   "source": [
    "def mode_user_score(data):\n",
    "    if(any(data.isnull()) and not(all(data.isnull()))): # есть null в группе и не все значения null\n",
    "        mode = data.mode()\n",
    "        df.loc[(df['user_score'].isnull()) & (df['name'] == data.name),'user_score'] = mode[0]\n",
    "\n",
    "df.groupby('name')['user_score'].apply(mode_user_score)"
   ]
  },
  {
   "cell_type": "markdown",
   "metadata": {},
   "source": [
    "Посмотрим каков стал процент пропусков после замены пропусков"
   ]
  },
  {
   "cell_type": "code",
   "execution_count": 22,
   "metadata": {},
   "outputs": [
    {
     "data": {
      "text/plain": [
       "48.0"
      ]
     },
     "execution_count": 22,
     "metadata": {},
     "output_type": "execute_result"
    }
   ],
   "source": [
    "round(df['user_score'].isnull().sum()/len(df) * 100)"
   ]
  },
  {
   "cell_type": "markdown",
   "metadata": {},
   "source": [
    "Произвели замену на моду у 7% записей"
   ]
  },
  {
   "cell_type": "markdown",
   "metadata": {},
   "source": [
    "<b>- year_of_release - 1.61%</b>"
   ]
  },
  {
   "cell_type": "markdown",
   "metadata": {},
   "source": [
    "Год выпуска для одинаковых игр на разных платформ обычно одинаков или отличается не сильно. Посмотрим знаем ли мы информацию о годе выпуска для игр с пропущенных годом для других платформ."
   ]
  },
  {
   "cell_type": "code",
   "execution_count": 23,
   "metadata": {},
   "outputs": [
    {
     "data": {
      "text/plain": [
       "204"
      ]
     },
     "execution_count": 23,
     "metadata": {},
     "output_type": "execute_result"
    }
   ],
   "source": [
    "year_null_names = df.query('year_of_release.isnull()')['name']\n",
    "df.query('year_of_release.notnull() and name in @year_null_names')['name'].count()"
   ]
  },
  {
   "cell_type": "markdown",
   "metadata": {},
   "source": [
    "Произведем замену на самый часто встречающийся год в играх с тем же именем на других платформах"
   ]
  },
  {
   "cell_type": "code",
   "execution_count": 24,
   "metadata": {},
   "outputs": [
    {
     "data": {
      "text/plain": [
       "name\n",
       " Beyblade Burst                 None\n",
       " Fire Emblem Fates              None\n",
       " Frozen: Olaf's Quest           None\n",
       " Haikyu!! Cross Team Match!     None\n",
       " Tales of Xillia 2              None\n",
       "                                ... \n",
       "thinkSMART: Chess for Kids      None\n",
       "uDraw Studio                    None\n",
       "uDraw Studio: Instant Artist    None\n",
       "wwe Smackdown vs. Raw 2006      None\n",
       "¡Shin Chan Flipa en colores!    None\n",
       "Name: year_of_release, Length: 11559, dtype: object"
      ]
     },
     "execution_count": 24,
     "metadata": {},
     "output_type": "execute_result"
    }
   ],
   "source": [
    "def mode_year_of_release(data):\n",
    "    if(any(data.isnull()) and not(all(data.isnull()))): # есть null в группе и не все значения null\n",
    "        mode = data.mode()\n",
    "        df.loc[(df['year_of_release'].isnull()) & (df['name'] == data.name),'year_of_release'] = mode[0]\n",
    "\n",
    "df.groupby('name')['year_of_release'].apply(mode_year_of_release)"
   ]
  },
  {
   "cell_type": "markdown",
   "metadata": {},
   "source": [
    "Посмотрим каков стал процент пропусков после замены"
   ]
  },
  {
   "cell_type": "code",
   "execution_count": 25,
   "metadata": {},
   "outputs": [
    {
     "data": {
      "text/plain": [
       "0.87"
      ]
     },
     "execution_count": 25,
     "metadata": {},
     "output_type": "execute_result"
    }
   ],
   "source": [
    "round(df['year_of_release'].isnull().sum()/len(df) * 100,2)"
   ]
  },
  {
   "cell_type": "markdown",
   "metadata": {},
   "source": [
    "Процент пропусков стал меньше 1%"
   ]
  },
  {
   "cell_type": "markdown",
   "metadata": {},
   "source": [
    "<b>- genre и name - 0.01% пропусков</b>"
   ]
  },
  {
   "cell_type": "markdown",
   "metadata": {},
   "source": [
    "Посмотрим одни и те же ли записи - пропуски с жанром и и именем игры"
   ]
  },
  {
   "cell_type": "code",
   "execution_count": 26,
   "metadata": {},
   "outputs": [
    {
     "data": {
      "text/html": [
       "<div>\n",
       "<style scoped>\n",
       "    .dataframe tbody tr th:only-of-type {\n",
       "        vertical-align: middle;\n",
       "    }\n",
       "\n",
       "    .dataframe tbody tr th {\n",
       "        vertical-align: top;\n",
       "    }\n",
       "\n",
       "    .dataframe thead th {\n",
       "        text-align: right;\n",
       "    }\n",
       "</style>\n",
       "<table border=\"1\" class=\"dataframe\">\n",
       "  <thead>\n",
       "    <tr style=\"text-align: right;\">\n",
       "      <th></th>\n",
       "      <th>name</th>\n",
       "      <th>platform</th>\n",
       "      <th>year_of_release</th>\n",
       "      <th>genre</th>\n",
       "      <th>na_sales</th>\n",
       "      <th>eu_sales</th>\n",
       "      <th>jp_sales</th>\n",
       "      <th>other_sales</th>\n",
       "      <th>critic_score</th>\n",
       "      <th>user_score</th>\n",
       "      <th>rating</th>\n",
       "      <th>rating_min_age</th>\n",
       "    </tr>\n",
       "  </thead>\n",
       "  <tbody>\n",
       "  </tbody>\n",
       "</table>\n",
       "</div>"
      ],
      "text/plain": [
       "Empty DataFrame\n",
       "Columns: [name, platform, year_of_release, genre, na_sales, eu_sales, jp_sales, other_sales, critic_score, user_score, rating, rating_min_age]\n",
       "Index: []"
      ]
     },
     "execution_count": 26,
     "metadata": {},
     "output_type": "execute_result"
    }
   ],
   "source": [
    "df.query('genre.isnull() and name.notnull()')"
   ]
  },
  {
   "cell_type": "markdown",
   "metadata": {},
   "source": [
    "Пропуски сделаны в одних и тех же строках. Посмотрим, что это за записи"
   ]
  },
  {
   "cell_type": "code",
   "execution_count": 27,
   "metadata": {},
   "outputs": [
    {
     "data": {
      "text/html": [
       "<div>\n",
       "<style scoped>\n",
       "    .dataframe tbody tr th:only-of-type {\n",
       "        vertical-align: middle;\n",
       "    }\n",
       "\n",
       "    .dataframe tbody tr th {\n",
       "        vertical-align: top;\n",
       "    }\n",
       "\n",
       "    .dataframe thead th {\n",
       "        text-align: right;\n",
       "    }\n",
       "</style>\n",
       "<table border=\"1\" class=\"dataframe\">\n",
       "  <thead>\n",
       "    <tr style=\"text-align: right;\">\n",
       "      <th></th>\n",
       "      <th>name</th>\n",
       "      <th>platform</th>\n",
       "      <th>year_of_release</th>\n",
       "      <th>genre</th>\n",
       "      <th>na_sales</th>\n",
       "      <th>eu_sales</th>\n",
       "      <th>jp_sales</th>\n",
       "      <th>other_sales</th>\n",
       "      <th>critic_score</th>\n",
       "      <th>user_score</th>\n",
       "      <th>rating</th>\n",
       "      <th>rating_min_age</th>\n",
       "    </tr>\n",
       "  </thead>\n",
       "  <tbody>\n",
       "    <tr>\n",
       "      <th>659</th>\n",
       "      <td>NaN</td>\n",
       "      <td>GEN</td>\n",
       "      <td>1993.0</td>\n",
       "      <td>NaN</td>\n",
       "      <td>1.78</td>\n",
       "      <td>0.53</td>\n",
       "      <td>0.00</td>\n",
       "      <td>0.08</td>\n",
       "      <td>NaN</td>\n",
       "      <td>NaN</td>\n",
       "      <td>NaN</td>\n",
       "      <td>NaN</td>\n",
       "    </tr>\n",
       "    <tr>\n",
       "      <th>14244</th>\n",
       "      <td>NaN</td>\n",
       "      <td>GEN</td>\n",
       "      <td>1993.0</td>\n",
       "      <td>NaN</td>\n",
       "      <td>0.00</td>\n",
       "      <td>0.00</td>\n",
       "      <td>0.03</td>\n",
       "      <td>0.00</td>\n",
       "      <td>NaN</td>\n",
       "      <td>NaN</td>\n",
       "      <td>NaN</td>\n",
       "      <td>NaN</td>\n",
       "    </tr>\n",
       "  </tbody>\n",
       "</table>\n",
       "</div>"
      ],
      "text/plain": [
       "      name platform  year_of_release genre  na_sales  eu_sales  jp_sales  \\\n",
       "659    NaN      GEN           1993.0   NaN      1.78      0.53      0.00   \n",
       "14244  NaN      GEN           1993.0   NaN      0.00      0.00      0.03   \n",
       "\n",
       "       other_sales  critic_score user_score rating  rating_min_age  \n",
       "659           0.08           NaN        NaN    NaN             NaN  \n",
       "14244         0.00           NaN        NaN    NaN             NaN  "
      ]
     },
     "execution_count": 27,
     "metadata": {},
     "output_type": "execute_result"
    }
   ],
   "source": [
    "df.query('genre.isnull()')"
   ]
  },
  {
   "cell_type": "markdown",
   "metadata": {},
   "source": [
    "Это игры за 1993 год, очень маловероятно, что они повлияют на нашу кампанию на 2017г и их всего 2. Удалим эти записи"
   ]
  },
  {
   "cell_type": "code",
   "execution_count": 28,
   "metadata": {},
   "outputs": [],
   "source": [
    "df.dropna(subset = ['genre'], inplace = True) "
   ]
  },
  {
   "cell_type": "markdown",
   "metadata": {},
   "source": [
    "Посмотрим сколько у нас стало пропущенных значений после замен"
   ]
  },
  {
   "cell_type": "code",
   "execution_count": 29,
   "metadata": {},
   "outputs": [
    {
     "data": {
      "text/html": [
       "<div>\n",
       "<style scoped>\n",
       "    .dataframe tbody tr th:only-of-type {\n",
       "        vertical-align: middle;\n",
       "    }\n",
       "\n",
       "    .dataframe tbody tr th {\n",
       "        vertical-align: top;\n",
       "    }\n",
       "\n",
       "    .dataframe thead th {\n",
       "        text-align: right;\n",
       "    }\n",
       "</style>\n",
       "<table border=\"1\" class=\"dataframe\">\n",
       "  <thead>\n",
       "    <tr style=\"text-align: right;\">\n",
       "      <th></th>\n",
       "      <th>column</th>\n",
       "      <th>missed values</th>\n",
       "    </tr>\n",
       "  </thead>\n",
       "  <tbody>\n",
       "    <tr>\n",
       "      <th>0</th>\n",
       "      <td>user_score</td>\n",
       "      <td>48.01%</td>\n",
       "    </tr>\n",
       "    <tr>\n",
       "      <th>1</th>\n",
       "      <td>critic_score</td>\n",
       "      <td>45.56%</td>\n",
       "    </tr>\n",
       "    <tr>\n",
       "      <th>2</th>\n",
       "      <td>rating_min_age</td>\n",
       "      <td>37.87%</td>\n",
       "    </tr>\n",
       "    <tr>\n",
       "      <th>3</th>\n",
       "      <td>rating</td>\n",
       "      <td>37.87%</td>\n",
       "    </tr>\n",
       "    <tr>\n",
       "      <th>4</th>\n",
       "      <td>year_of_release</td>\n",
       "      <td>0.87%</td>\n",
       "    </tr>\n",
       "  </tbody>\n",
       "</table>\n",
       "</div>"
      ],
      "text/plain": [
       "            column missed values\n",
       "0       user_score        48.01%\n",
       "1     critic_score        45.56%\n",
       "2   rating_min_age        37.87%\n",
       "3           rating        37.87%\n",
       "4  year_of_release         0.87%"
      ]
     },
     "metadata": {},
     "output_type": "display_data"
    }
   ],
   "source": [
    "print_null_values_as_percent(df)"
   ]
  },
  {
   "cell_type": "markdown",
   "metadata": {},
   "source": [
    "### Вывод"
   ]
  },
  {
   "cell_type": "markdown",
   "metadata": {},
   "source": [
    "- Заменили пропушенные значения в оценке пользователей и критиков на моду по имени игры, т.к. предположили, что оценка не будет сильно отличаться для одной и той же игры для разных платформ. Удалось произвести такую замену пропусков у небольшого количества записей(7% - user_score, 5% - critic_score), у многих игр не было оценки ни для одной из платформ. Предположили, что значения tbd в пользовательской оценке означет, что слишком мало пользователей оценили игру, чтобы сделать вывод о пользоватееской оценке. Обработали их так же как и null значения. Вероятная причина появления пропусков - критики и пользователи не оставили оценку у этих игр. После замены осталось 48% пропусков в пользовательской оценке и 46% в оценке критиков \n",
    "- Пропуски в рейтинге заменили на максимальный рейтинг по возрасту для игр с таким же именем на других плафтормах. Удалось заменить малый процент записей. Осталось 38% пропусков в этих данных\n",
    "- Пропуски в годе выпуска заменили на наиболее часто встречающийся год по имени игры. Решили, что одинаковые игры на разных платформах выпускаются примерно в один год. Предположили, что в источниках не был указан год выпуска. Осталось около 1% пропусков в годе выпуска\n",
    "- Записи с пропусками в жанре и имени игры оказались две игры за 1993 год. Решили, т.к. данных очень мало и это данные за 1993 год, то они вряд ли нам пригодятся при планировании кампании за 2017 год. Удалили записи с пропусками в имени и жанре игры. Предположительная причина появления пропусков - сбой при выгрузке и имя, и жанр не попали к нам в таблицу"
   ]
  },
  {
   "cell_type": "markdown",
   "metadata": {},
   "source": [
    "- ### <a id=\"step2.3\">Замена типов данных</a>"
   ]
  },
  {
   "cell_type": "markdown",
   "metadata": {},
   "source": [
    "Произведем замену значений critic_score, year_of_release на целые числа, там где нет пропусков"
   ]
  },
  {
   "cell_type": "code",
   "execution_count": 30,
   "metadata": {},
   "outputs": [
    {
     "data": {
      "text/html": [
       "<div>\n",
       "<style scoped>\n",
       "    .dataframe tbody tr th:only-of-type {\n",
       "        vertical-align: middle;\n",
       "    }\n",
       "\n",
       "    .dataframe tbody tr th {\n",
       "        vertical-align: top;\n",
       "    }\n",
       "\n",
       "    .dataframe thead th {\n",
       "        text-align: right;\n",
       "    }\n",
       "</style>\n",
       "<table border=\"1\" class=\"dataframe\">\n",
       "  <thead>\n",
       "    <tr style=\"text-align: right;\">\n",
       "      <th></th>\n",
       "      <th>name</th>\n",
       "      <th>platform</th>\n",
       "      <th>year_of_release</th>\n",
       "      <th>genre</th>\n",
       "      <th>na_sales</th>\n",
       "      <th>eu_sales</th>\n",
       "      <th>jp_sales</th>\n",
       "      <th>other_sales</th>\n",
       "      <th>critic_score</th>\n",
       "      <th>user_score</th>\n",
       "      <th>rating</th>\n",
       "      <th>rating_min_age</th>\n",
       "    </tr>\n",
       "  </thead>\n",
       "  <tbody>\n",
       "    <tr>\n",
       "      <th>0</th>\n",
       "      <td>Wii Sports</td>\n",
       "      <td>Wii</td>\n",
       "      <td>2006</td>\n",
       "      <td>Sports</td>\n",
       "      <td>41.36</td>\n",
       "      <td>28.96</td>\n",
       "      <td>3.77</td>\n",
       "      <td>8.45</td>\n",
       "      <td>76</td>\n",
       "      <td>8</td>\n",
       "      <td>E</td>\n",
       "      <td>6.0</td>\n",
       "    </tr>\n",
       "    <tr>\n",
       "      <th>1</th>\n",
       "      <td>Super Mario Bros.</td>\n",
       "      <td>NES</td>\n",
       "      <td>1985</td>\n",
       "      <td>Platform</td>\n",
       "      <td>29.08</td>\n",
       "      <td>3.58</td>\n",
       "      <td>6.81</td>\n",
       "      <td>0.77</td>\n",
       "      <td>&lt;NA&gt;</td>\n",
       "      <td>NaN</td>\n",
       "      <td>NaN</td>\n",
       "      <td>NaN</td>\n",
       "    </tr>\n",
       "    <tr>\n",
       "      <th>2</th>\n",
       "      <td>Mario Kart Wii</td>\n",
       "      <td>Wii</td>\n",
       "      <td>2008</td>\n",
       "      <td>Racing</td>\n",
       "      <td>15.68</td>\n",
       "      <td>12.76</td>\n",
       "      <td>3.79</td>\n",
       "      <td>3.29</td>\n",
       "      <td>82</td>\n",
       "      <td>8.3</td>\n",
       "      <td>E</td>\n",
       "      <td>6.0</td>\n",
       "    </tr>\n",
       "    <tr>\n",
       "      <th>3</th>\n",
       "      <td>Wii Sports Resort</td>\n",
       "      <td>Wii</td>\n",
       "      <td>2009</td>\n",
       "      <td>Sports</td>\n",
       "      <td>15.61</td>\n",
       "      <td>10.93</td>\n",
       "      <td>3.28</td>\n",
       "      <td>2.95</td>\n",
       "      <td>80</td>\n",
       "      <td>8</td>\n",
       "      <td>E</td>\n",
       "      <td>6.0</td>\n",
       "    </tr>\n",
       "    <tr>\n",
       "      <th>4</th>\n",
       "      <td>Pokemon Red/Pokemon Blue</td>\n",
       "      <td>GB</td>\n",
       "      <td>1996</td>\n",
       "      <td>Role-Playing</td>\n",
       "      <td>11.27</td>\n",
       "      <td>8.89</td>\n",
       "      <td>10.22</td>\n",
       "      <td>1.00</td>\n",
       "      <td>&lt;NA&gt;</td>\n",
       "      <td>NaN</td>\n",
       "      <td>NaN</td>\n",
       "      <td>NaN</td>\n",
       "    </tr>\n",
       "  </tbody>\n",
       "</table>\n",
       "</div>"
      ],
      "text/plain": [
       "                       name platform  year_of_release         genre  na_sales  \\\n",
       "0                Wii Sports      Wii             2006        Sports     41.36   \n",
       "1         Super Mario Bros.      NES             1985      Platform     29.08   \n",
       "2            Mario Kart Wii      Wii             2008        Racing     15.68   \n",
       "3         Wii Sports Resort      Wii             2009        Sports     15.61   \n",
       "4  Pokemon Red/Pokemon Blue       GB             1996  Role-Playing     11.27   \n",
       "\n",
       "   eu_sales  jp_sales  other_sales  critic_score user_score rating  \\\n",
       "0     28.96      3.77         8.45            76          8      E   \n",
       "1      3.58      6.81         0.77          <NA>        NaN    NaN   \n",
       "2     12.76      3.79         3.29            82        8.3      E   \n",
       "3     10.93      3.28         2.95            80          8      E   \n",
       "4      8.89     10.22         1.00          <NA>        NaN    NaN   \n",
       "\n",
       "   rating_min_age  \n",
       "0             6.0  \n",
       "1             NaN  \n",
       "2             6.0  \n",
       "3             6.0  \n",
       "4             NaN  "
      ]
     },
     "execution_count": 30,
     "metadata": {},
     "output_type": "execute_result"
    }
   ],
   "source": [
    "cols = ['year_of_release', 'critic_score']\n",
    "for col in cols:\n",
    "    df[col] = df[col].astype('Int64')\n",
    "df.head()"
   ]
  },
  {
   "cell_type": "markdown",
   "metadata": {},
   "source": [
    "Приведем значения пользовательской оценки к числу с плавающей точки вместо строки. Мы можем это теперь сделать, т.к. произвели замену tbd на null в предыдущем шаге"
   ]
  },
  {
   "cell_type": "code",
   "execution_count": 31,
   "metadata": {},
   "outputs": [],
   "source": [
    "df['user_score'] = df['user_score'].astype('float')"
   ]
  },
  {
   "cell_type": "markdown",
   "metadata": {},
   "source": [
    "Посмотрим какие значения типов теперь в таблице после наших изменений"
   ]
  },
  {
   "cell_type": "code",
   "execution_count": 32,
   "metadata": {},
   "outputs": [
    {
     "name": "stdout",
     "output_type": "stream",
     "text": [
      "<class 'pandas.core.frame.DataFrame'>\n",
      "Int64Index: 16713 entries, 0 to 16714\n",
      "Data columns (total 12 columns):\n",
      " #   Column           Non-Null Count  Dtype  \n",
      "---  ------           --------------  -----  \n",
      " 0   name             16713 non-null  object \n",
      " 1   platform         16713 non-null  object \n",
      " 2   year_of_release  16567 non-null  Int64  \n",
      " 3   genre            16713 non-null  object \n",
      " 4   na_sales         16713 non-null  float64\n",
      " 5   eu_sales         16713 non-null  float64\n",
      " 6   jp_sales         16713 non-null  float64\n",
      " 7   other_sales      16713 non-null  float64\n",
      " 8   critic_score     9098 non-null   Int64  \n",
      " 9   user_score       8689 non-null   float64\n",
      " 10  rating           10384 non-null  object \n",
      " 11  rating_min_age   10384 non-null  float64\n",
      "dtypes: Int64(2), float64(6), object(4)\n",
      "memory usage: 1.7+ MB\n"
     ]
    }
   ],
   "source": [
    "df.info()"
   ]
  },
  {
   "cell_type": "markdown",
   "metadata": {},
   "source": [
    "### Вывод"
   ]
  },
  {
   "cell_type": "markdown",
   "metadata": {},
   "source": [
    " - Привели значения critic_score, year_of_release к целому числу, там где нет пропусков, т.к. год - целое число и оценку критики выставляют как целое число\n",
    " - Привели значения user_score к числу с плавающей точкой, т.к. оценка пользователей скорее всего представлена средним значением по оценкам большого количества людей"
   ]
  },
  {
   "cell_type": "markdown",
   "metadata": {},
   "source": [
    "- ### <a id=\"step2.4\">Обработка дубликатов</a>"
   ]
  },
  {
   "cell_type": "markdown",
   "metadata": {},
   "source": [
    "Проверим есть ли дубли в данных. Индексом для поиска дублей будем считать сочетание имени, платформы и года выпуска"
   ]
  },
  {
   "cell_type": "code",
   "execution_count": 33,
   "metadata": {},
   "outputs": [
    {
     "data": {
      "text/plain": [
       "2"
      ]
     },
     "execution_count": 33,
     "metadata": {},
     "output_type": "execute_result"
    }
   ],
   "source": [
    "df.duplicated(['name','platform','year_of_release']).sum()"
   ]
  },
  {
   "cell_type": "markdown",
   "metadata": {},
   "source": [
    "Нашлось два дубликата. Посмотрим в каких играх произошло задвоение"
   ]
  },
  {
   "cell_type": "code",
   "execution_count": 34,
   "metadata": {},
   "outputs": [
    {
     "data": {
      "text/html": [
       "<div>\n",
       "<style scoped>\n",
       "    .dataframe tbody tr th:only-of-type {\n",
       "        vertical-align: middle;\n",
       "    }\n",
       "\n",
       "    .dataframe tbody tr th {\n",
       "        vertical-align: top;\n",
       "    }\n",
       "\n",
       "    .dataframe thead th {\n",
       "        text-align: right;\n",
       "    }\n",
       "</style>\n",
       "<table border=\"1\" class=\"dataframe\">\n",
       "  <thead>\n",
       "    <tr style=\"text-align: right;\">\n",
       "      <th></th>\n",
       "      <th>name</th>\n",
       "      <th>platform</th>\n",
       "      <th>year_of_release</th>\n",
       "      <th>genre</th>\n",
       "      <th>na_sales</th>\n",
       "      <th>eu_sales</th>\n",
       "      <th>jp_sales</th>\n",
       "      <th>other_sales</th>\n",
       "      <th>critic_score</th>\n",
       "      <th>user_score</th>\n",
       "      <th>rating</th>\n",
       "      <th>rating_min_age</th>\n",
       "    </tr>\n",
       "  </thead>\n",
       "  <tbody>\n",
       "    <tr>\n",
       "      <th>4127</th>\n",
       "      <td>Sonic the Hedgehog</td>\n",
       "      <td>PS3</td>\n",
       "      <td>2006</td>\n",
       "      <td>Platform</td>\n",
       "      <td>0.0</td>\n",
       "      <td>0.48</td>\n",
       "      <td>0.0</td>\n",
       "      <td>0.0</td>\n",
       "      <td>43</td>\n",
       "      <td>4.1</td>\n",
       "      <td>E10+</td>\n",
       "      <td>10.0</td>\n",
       "    </tr>\n",
       "    <tr>\n",
       "      <th>16230</th>\n",
       "      <td>Madden NFL 13</td>\n",
       "      <td>PS3</td>\n",
       "      <td>2012</td>\n",
       "      <td>Sports</td>\n",
       "      <td>0.0</td>\n",
       "      <td>0.01</td>\n",
       "      <td>0.0</td>\n",
       "      <td>0.0</td>\n",
       "      <td>83</td>\n",
       "      <td>5.5</td>\n",
       "      <td>E</td>\n",
       "      <td>6.0</td>\n",
       "    </tr>\n",
       "  </tbody>\n",
       "</table>\n",
       "</div>"
      ],
      "text/plain": [
       "                     name platform  year_of_release     genre  na_sales  \\\n",
       "4127   Sonic the Hedgehog      PS3             2006  Platform       0.0   \n",
       "16230       Madden NFL 13      PS3             2012    Sports       0.0   \n",
       "\n",
       "       eu_sales  jp_sales  other_sales  critic_score  user_score rating  \\\n",
       "4127       0.48       0.0          0.0            43         4.1   E10+   \n",
       "16230      0.01       0.0          0.0            83         5.5      E   \n",
       "\n",
       "       rating_min_age  \n",
       "4127             10.0  \n",
       "16230             6.0  "
      ]
     },
     "execution_count": 34,
     "metadata": {},
     "output_type": "execute_result"
    }
   ],
   "source": [
    "df[df.duplicated(['name','platform','year_of_release'])]"
   ]
  },
  {
   "cell_type": "markdown",
   "metadata": {},
   "source": [
    "Найдем дубли для этих игр"
   ]
  },
  {
   "cell_type": "code",
   "execution_count": 35,
   "metadata": {},
   "outputs": [
    {
     "data": {
      "text/plain": [
       "Int64Index([604, 1745, 4127, 16230], dtype='int64')"
      ]
     },
     "execution_count": 35,
     "metadata": {},
     "output_type": "execute_result"
    }
   ],
   "source": [
    "dublicates = df.query('(name == \"Madden NFL 13\" or name == \"Sonic the Hedgehog\")  and platform == \"PS3\"')\n",
    "dublicates.index"
   ]
  },
  {
   "cell_type": "markdown",
   "metadata": {},
   "source": [
    "Записи отличаются только продажами. Предположим, что у нас данные выгружаются из разных источников и преобразуются в процессе (например, из разных магазинов). Тогда нам нужно преобразовать дубли в одну записи просуммировав продажи.Создадим сводную таблицу с суммой по продажам"
   ]
  },
  {
   "cell_type": "code",
   "execution_count": 36,
   "metadata": {},
   "outputs": [
    {
     "data": {
      "text/html": [
       "<div>\n",
       "<style scoped>\n",
       "    .dataframe tbody tr th:only-of-type {\n",
       "        vertical-align: middle;\n",
       "    }\n",
       "\n",
       "    .dataframe tbody tr th {\n",
       "        vertical-align: top;\n",
       "    }\n",
       "\n",
       "    .dataframe thead th {\n",
       "        text-align: right;\n",
       "    }\n",
       "</style>\n",
       "<table border=\"1\" class=\"dataframe\">\n",
       "  <thead>\n",
       "    <tr style=\"text-align: right;\">\n",
       "      <th></th>\n",
       "      <th></th>\n",
       "      <th></th>\n",
       "      <th>eu_sales</th>\n",
       "      <th>jp_sales</th>\n",
       "      <th>na_sales</th>\n",
       "      <th>other_sales</th>\n",
       "    </tr>\n",
       "    <tr>\n",
       "      <th>name</th>\n",
       "      <th>platform</th>\n",
       "      <th>year_of_release</th>\n",
       "      <th></th>\n",
       "      <th></th>\n",
       "      <th></th>\n",
       "      <th></th>\n",
       "    </tr>\n",
       "  </thead>\n",
       "  <tbody>\n",
       "    <tr>\n",
       "      <th>Madden NFL 13</th>\n",
       "      <th>PS3</th>\n",
       "      <th>2012</th>\n",
       "      <td>0.23</td>\n",
       "      <td>0.00</td>\n",
       "      <td>2.11</td>\n",
       "      <td>0.23</td>\n",
       "    </tr>\n",
       "    <tr>\n",
       "      <th>Sonic the Hedgehog</th>\n",
       "      <th>PS3</th>\n",
       "      <th>2006</th>\n",
       "      <td>0.54</td>\n",
       "      <td>0.04</td>\n",
       "      <td>0.41</td>\n",
       "      <td>0.66</td>\n",
       "    </tr>\n",
       "  </tbody>\n",
       "</table>\n",
       "</div>"
      ],
      "text/plain": [
       "                                             eu_sales  jp_sales  na_sales  \\\n",
       "name               platform year_of_release                                 \n",
       "Madden NFL 13      PS3      2012                 0.23      0.00      2.11   \n",
       "Sonic the Hedgehog PS3      2006                 0.54      0.04      0.41   \n",
       "\n",
       "                                             other_sales  \n",
       "name               platform year_of_release               \n",
       "Madden NFL 13      PS3      2012                    0.23  \n",
       "Sonic the Hedgehog PS3      2006                    0.66  "
      ]
     },
     "execution_count": 36,
     "metadata": {},
     "output_type": "execute_result"
    }
   ],
   "source": [
    "cols = ['genre','critic_score', 'user_score', 'rating','rating_min_age']\n",
    "dublicates_pivot = dublicates.pivot_table(index = ['name','platform','year_of_release'], values = ['na_sales', 'jp_sales','eu_sales','other_sales'], aggfunc = 'sum')#.reset_index()\n",
    "dublicates_pivot"
   ]
  },
  {
   "cell_type": "markdown",
   "metadata": {},
   "source": [
    "Заменим значения по продажам в исходном датафрейме на значения из сводной табицы. "
   ]
  },
  {
   "cell_type": "code",
   "execution_count": 37,
   "metadata": {},
   "outputs": [],
   "source": [
    "for row in dublicates_pivot.iterrows():\n",
    "    name = row[0][0]\n",
    "    platform = row[0][1]\n",
    "    year = row[0][2]\n",
    "    eu_sales = row[1][0]\n",
    "    jp_sales = row[1][1]\n",
    "    na_sales = row[1][2]\n",
    "    other_sales = row[1][3]\n",
    "    df.loc[(df['name'] == name) & (df['platform'] == platform) & (df['year_of_release'] == year), 'jp_sales'] = jp_sales\n",
    "    df.loc[(df['name'] == name) & (df['platform'] == platform) & (df['year_of_release'] == year), 'na_sales'] = na_sales\n",
    "    df.loc[(df['name'] == name) & (df['platform'] == platform) & (df['year_of_release'] == year), 'eu_sales'] = eu_sales\n",
    "    df.loc[(df['name'] == name) & (df['platform'] == platform) & (df['year_of_release'] == year), 'other_sales'] = other_sales  "
   ]
  },
  {
   "cell_type": "markdown",
   "metadata": {},
   "source": [
    "Удалим дубликаты"
   ]
  },
  {
   "cell_type": "code",
   "execution_count": 38,
   "metadata": {},
   "outputs": [
    {
     "data": {
      "text/plain": [
       "0"
      ]
     },
     "execution_count": 38,
     "metadata": {},
     "output_type": "execute_result"
    }
   ],
   "source": [
    "df.drop_duplicates(['name','platform','year_of_release'], inplace = True)\n",
    "df.duplicated(['name','platform','year_of_release']).sum()"
   ]
  },
  {
   "cell_type": "code",
   "execution_count": 39,
   "metadata": {},
   "outputs": [
    {
     "data": {
      "text/html": [
       "<div>\n",
       "<style scoped>\n",
       "    .dataframe tbody tr th:only-of-type {\n",
       "        vertical-align: middle;\n",
       "    }\n",
       "\n",
       "    .dataframe tbody tr th {\n",
       "        vertical-align: top;\n",
       "    }\n",
       "\n",
       "    .dataframe thead th {\n",
       "        text-align: right;\n",
       "    }\n",
       "</style>\n",
       "<table border=\"1\" class=\"dataframe\">\n",
       "  <thead>\n",
       "    <tr style=\"text-align: right;\">\n",
       "      <th></th>\n",
       "      <th>name</th>\n",
       "      <th>platform</th>\n",
       "      <th>year_of_release</th>\n",
       "      <th>genre</th>\n",
       "      <th>na_sales</th>\n",
       "      <th>eu_sales</th>\n",
       "      <th>jp_sales</th>\n",
       "      <th>other_sales</th>\n",
       "      <th>critic_score</th>\n",
       "      <th>user_score</th>\n",
       "      <th>rating</th>\n",
       "      <th>rating_min_age</th>\n",
       "    </tr>\n",
       "  </thead>\n",
       "  <tbody>\n",
       "    <tr>\n",
       "      <th>604</th>\n",
       "      <td>Madden NFL 13</td>\n",
       "      <td>PS3</td>\n",
       "      <td>2012</td>\n",
       "      <td>Sports</td>\n",
       "      <td>2.11</td>\n",
       "      <td>0.23</td>\n",
       "      <td>0.00</td>\n",
       "      <td>0.23</td>\n",
       "      <td>83</td>\n",
       "      <td>5.5</td>\n",
       "      <td>E</td>\n",
       "      <td>6.0</td>\n",
       "    </tr>\n",
       "    <tr>\n",
       "      <th>1745</th>\n",
       "      <td>Sonic the Hedgehog</td>\n",
       "      <td>PS3</td>\n",
       "      <td>2006</td>\n",
       "      <td>Platform</td>\n",
       "      <td>0.41</td>\n",
       "      <td>0.54</td>\n",
       "      <td>0.04</td>\n",
       "      <td>0.66</td>\n",
       "      <td>43</td>\n",
       "      <td>4.1</td>\n",
       "      <td>E10+</td>\n",
       "      <td>10.0</td>\n",
       "    </tr>\n",
       "  </tbody>\n",
       "</table>\n",
       "</div>"
      ],
      "text/plain": [
       "                    name platform  year_of_release     genre  na_sales  \\\n",
       "604        Madden NFL 13      PS3             2012    Sports      2.11   \n",
       "1745  Sonic the Hedgehog      PS3             2006  Platform      0.41   \n",
       "\n",
       "      eu_sales  jp_sales  other_sales  critic_score  user_score rating  \\\n",
       "604       0.23      0.00         0.23            83         5.5      E   \n",
       "1745      0.54      0.04         0.66            43         4.1   E10+   \n",
       "\n",
       "      rating_min_age  \n",
       "604              6.0  \n",
       "1745            10.0  "
      ]
     },
     "execution_count": 39,
     "metadata": {},
     "output_type": "execute_result"
    }
   ],
   "source": [
    "df.query('(name == \"Madden NFL 13\" or name == \"Sonic the Hedgehog\")  and platform == \"PS3\"')"
   ]
  },
  {
   "cell_type": "markdown",
   "metadata": {},
   "source": [
    "### Вывод"
   ]
  },
  {
   "cell_type": "markdown",
   "metadata": {},
   "source": [
    "Нашли два дубликата для игр Madden NFL 13,Sonic the Hedgehog для платформы PS3 . Записи отличались только продажами. Предположили, что у нас данные выгружаются из разных источников и преобразуются в процессе (например, из разных магазинов). Преобразовали дубли в одну запись для каждой из игр, просуммировав продажи"
   ]
  },
  {
   "cell_type": "markdown",
   "metadata": {},
   "source": [
    "- ### <a id=\"step2.5\">Подсчет суммарных продаж во всех регионах</a>"
   ]
  },
  {
   "cell_type": "markdown",
   "metadata": {},
   "source": [
    "Добавим в данные столбец total_sales с суммарными продажами во всех регионах"
   ]
  },
  {
   "cell_type": "code",
   "execution_count": 40,
   "metadata": {},
   "outputs": [
    {
     "data": {
      "text/html": [
       "<div>\n",
       "<style scoped>\n",
       "    .dataframe tbody tr th:only-of-type {\n",
       "        vertical-align: middle;\n",
       "    }\n",
       "\n",
       "    .dataframe tbody tr th {\n",
       "        vertical-align: top;\n",
       "    }\n",
       "\n",
       "    .dataframe thead th {\n",
       "        text-align: right;\n",
       "    }\n",
       "</style>\n",
       "<table border=\"1\" class=\"dataframe\">\n",
       "  <thead>\n",
       "    <tr style=\"text-align: right;\">\n",
       "      <th></th>\n",
       "      <th>name</th>\n",
       "      <th>platform</th>\n",
       "      <th>year_of_release</th>\n",
       "      <th>genre</th>\n",
       "      <th>na_sales</th>\n",
       "      <th>eu_sales</th>\n",
       "      <th>jp_sales</th>\n",
       "      <th>other_sales</th>\n",
       "      <th>critic_score</th>\n",
       "      <th>user_score</th>\n",
       "      <th>rating</th>\n",
       "      <th>rating_min_age</th>\n",
       "      <th>total_sales</th>\n",
       "    </tr>\n",
       "  </thead>\n",
       "  <tbody>\n",
       "    <tr>\n",
       "      <th>0</th>\n",
       "      <td>Wii Sports</td>\n",
       "      <td>Wii</td>\n",
       "      <td>2006</td>\n",
       "      <td>Sports</td>\n",
       "      <td>41.36</td>\n",
       "      <td>28.96</td>\n",
       "      <td>3.77</td>\n",
       "      <td>8.45</td>\n",
       "      <td>76</td>\n",
       "      <td>8.0</td>\n",
       "      <td>E</td>\n",
       "      <td>6.0</td>\n",
       "      <td>82.54</td>\n",
       "    </tr>\n",
       "    <tr>\n",
       "      <th>1</th>\n",
       "      <td>Super Mario Bros.</td>\n",
       "      <td>NES</td>\n",
       "      <td>1985</td>\n",
       "      <td>Platform</td>\n",
       "      <td>29.08</td>\n",
       "      <td>3.58</td>\n",
       "      <td>6.81</td>\n",
       "      <td>0.77</td>\n",
       "      <td>&lt;NA&gt;</td>\n",
       "      <td>NaN</td>\n",
       "      <td>NaN</td>\n",
       "      <td>NaN</td>\n",
       "      <td>40.24</td>\n",
       "    </tr>\n",
       "    <tr>\n",
       "      <th>2</th>\n",
       "      <td>Mario Kart Wii</td>\n",
       "      <td>Wii</td>\n",
       "      <td>2008</td>\n",
       "      <td>Racing</td>\n",
       "      <td>15.68</td>\n",
       "      <td>12.76</td>\n",
       "      <td>3.79</td>\n",
       "      <td>3.29</td>\n",
       "      <td>82</td>\n",
       "      <td>8.3</td>\n",
       "      <td>E</td>\n",
       "      <td>6.0</td>\n",
       "      <td>35.52</td>\n",
       "    </tr>\n",
       "    <tr>\n",
       "      <th>3</th>\n",
       "      <td>Wii Sports Resort</td>\n",
       "      <td>Wii</td>\n",
       "      <td>2009</td>\n",
       "      <td>Sports</td>\n",
       "      <td>15.61</td>\n",
       "      <td>10.93</td>\n",
       "      <td>3.28</td>\n",
       "      <td>2.95</td>\n",
       "      <td>80</td>\n",
       "      <td>8.0</td>\n",
       "      <td>E</td>\n",
       "      <td>6.0</td>\n",
       "      <td>32.77</td>\n",
       "    </tr>\n",
       "    <tr>\n",
       "      <th>4</th>\n",
       "      <td>Pokemon Red/Pokemon Blue</td>\n",
       "      <td>GB</td>\n",
       "      <td>1996</td>\n",
       "      <td>Role-Playing</td>\n",
       "      <td>11.27</td>\n",
       "      <td>8.89</td>\n",
       "      <td>10.22</td>\n",
       "      <td>1.00</td>\n",
       "      <td>&lt;NA&gt;</td>\n",
       "      <td>NaN</td>\n",
       "      <td>NaN</td>\n",
       "      <td>NaN</td>\n",
       "      <td>31.38</td>\n",
       "    </tr>\n",
       "  </tbody>\n",
       "</table>\n",
       "</div>"
      ],
      "text/plain": [
       "                       name platform  year_of_release         genre  na_sales  \\\n",
       "0                Wii Sports      Wii             2006        Sports     41.36   \n",
       "1         Super Mario Bros.      NES             1985      Platform     29.08   \n",
       "2            Mario Kart Wii      Wii             2008        Racing     15.68   \n",
       "3         Wii Sports Resort      Wii             2009        Sports     15.61   \n",
       "4  Pokemon Red/Pokemon Blue       GB             1996  Role-Playing     11.27   \n",
       "\n",
       "   eu_sales  jp_sales  other_sales  critic_score  user_score rating  \\\n",
       "0     28.96      3.77         8.45            76         8.0      E   \n",
       "1      3.58      6.81         0.77          <NA>         NaN    NaN   \n",
       "2     12.76      3.79         3.29            82         8.3      E   \n",
       "3     10.93      3.28         2.95            80         8.0      E   \n",
       "4      8.89     10.22         1.00          <NA>         NaN    NaN   \n",
       "\n",
       "   rating_min_age  total_sales  \n",
       "0             6.0        82.54  \n",
       "1             NaN        40.24  \n",
       "2             6.0        35.52  \n",
       "3             6.0        32.77  \n",
       "4             NaN        31.38  "
      ]
     },
     "execution_count": 40,
     "metadata": {},
     "output_type": "execute_result"
    }
   ],
   "source": [
    "df['total_sales'] = df['na_sales'] + df['eu_sales'] + df['jp_sales'] + df['other_sales']\n",
    "df.head()"
   ]
  },
  {
   "cell_type": "markdown",
   "metadata": {},
   "source": [
    "### <a id=\"step3\">Шаг 3. Исследовательский анализ данных</a>"
   ]
  },
  {
   "cell_type": "markdown",
   "metadata": {},
   "source": [
    "- Посмотрите, сколько игр выпускалось в разные годы. Важны ли данные за все периоды?\n"
   ]
  },
  {
   "cell_type": "markdown",
   "metadata": {},
   "source": [
    "Построим график, показывающий количество выпущенных игр по годам"
   ]
  },
  {
   "cell_type": "code",
   "execution_count": 41,
   "metadata": {},
   "outputs": [
    {
     "data": {
      "image/png": "[encoded data removed]",
      "text/plain": [
       "<Figure size 864x432 with 1 Axes>"
      ]
     },
     "metadata": {
      "needs_background": "light"
     },
     "output_type": "display_data"
    }
   ],
   "source": [
    "games_qty_by_year = df['year_of_release'].value_counts()\n",
    "ax = games_qty_by_year.sort_index().plot(kind ='bar',figsize = (12,6), title = 'Количество игр по годам');\n",
    "ax.set_xlabel('год');\n",
    "ax.set_ylabel('количество игр');"
   ]
  },
  {
   "cell_type": "markdown",
   "metadata": {},
   "source": [
    "По графику видно, что основное количество игр продаются те, которые были выпущены после 2001 года. Будем рассматривать только их в дальнейшем"
   ]
  },
  {
   "cell_type": "markdown",
   "metadata": {},
   "source": [
    "- Посмотрите, как менялись продажи по платформам. Выберите платформы с наибольшими суммарными продажами и постройте распределение по годам. За какой характерный срок появляются новые и исчезают старые платформы?"
   ]
  },
  {
   "cell_type": "code",
   "execution_count": 42,
   "metadata": {},
   "outputs": [
    {
     "data": {
      "image/png": "[encoded data removed]",
      "text/plain": [
       "<Figure size 864x432 with 1 Axes>"
      ]
     },
     "metadata": {
      "needs_background": "light"
     },
     "output_type": "display_data"
    }
   ],
   "source": [
    "sales_by_platform = df.pivot_table(index = 'platform', values=  'total_sales', aggfunc = 'sum')\n",
    "ax = sales_by_platform.sort_values('total_sales', ascending = False).plot(kind ='bar',figsize = (12,6), title = 'Продажи по платформам');\n",
    "ax.set_xlabel('платформа');\n",
    "ax.set_ylabel('продажи (млн долларов)');"
   ]
  },
  {
   "cell_type": "markdown",
   "metadata": {},
   "source": [
    "По графику выше видно, что после платформы PS идет спад в продажах. Будем считать платформами с максимальными продажами: все до PS на графике, можем задать условие - общие продажи до 400 млн долларов. Сформируем датасет max_sales_platforms с платформами, которые входят в топ продаж"
   ]
  },
  {
   "cell_type": "code",
   "execution_count": 43,
   "metadata": {},
   "outputs": [
    {
     "data": {
      "text/plain": [
       "Index(['DS', 'PS', 'PS2', 'PS3', 'Wii', 'X360'], dtype='object', name='platform')"
      ]
     },
     "execution_count": 43,
     "metadata": {},
     "output_type": "execute_result"
    }
   ],
   "source": [
    "max_sales_platforms = sales_by_platform.query('total_sales > 400').index\n",
    "max_sales_platforms"
   ]
  },
  {
   "cell_type": "markdown",
   "metadata": {},
   "source": [
    "Посмотрим в каких годах выпускались игры на популярных платформах"
   ]
  },
  {
   "cell_type": "code",
   "execution_count": 44,
   "metadata": {},
   "outputs": [
    {
     "data": {
      "image/png": "[encoded data removed]",
      "text/plain": [
       "<Figure size 432x288 with 1 Axes>"
      ]
     },
     "metadata": {
      "needs_background": "light"
     },
     "output_type": "display_data"
    }
   ],
   "source": [
    "df.query('platform in @max_sales_platforms').boxplot(column = 'year_of_release');"
   ]
  },
  {
   "cell_type": "markdown",
   "metadata": {},
   "source": [
    "Посмотрим график распределения продаж на каждой из платформ по годам. 1985 год яляется явным выбросом, не будем учитывать его в анализе"
   ]
  },
  {
   "cell_type": "code",
   "execution_count": 45,
   "metadata": {},
   "outputs": [
    {
     "data": {
      "image/png": "[encoded data removed]",
      "text/plain": [
       "<Figure size 864x432 with 1 Axes>"
      ]
     },
     "metadata": {
      "needs_background": "light"
     },
     "output_type": "display_data"
    }
   ],
   "source": [
    "import matplotlib.ticker as ticker\n",
    "i = 0\n",
    "\n",
    "for platform in max_sales_platforms:\n",
    "    sales_by_platform = df.query('platform == @platform and year_of_release > 1985').pivot_table(index = 'year_of_release', values=  'total_sales', aggfunc = 'sum')\n",
    "    sales_by_platform\n",
    "    if i == 0:\n",
    "        axes = sales_by_platform.plot(kind ='line',style = 'o-', figsize = (12,6), title = 'Распределение продаж по платформам по годам');\n",
    "    else:\n",
    "        sales_by_platform.plot(kind ='line', figsize = (12,6), style = 'o-',ax = axes, grid = True);    \n",
    "    i += 1\n",
    "axes.set_xlabel('год');\n",
    "axes.set_ylabel('продажи (млн долларов)');\n",
    "axes.legend(max_sales_platforms);\n",
    "\n",
    "\n",
    "#  Устанавливаем интервал основных и\n",
    "#  вспомогательных делений:\n",
    "axes.xaxis.set_major_locator(ticker.MultipleLocator(5))\n",
    "axes.xaxis.set_minor_locator(ticker.MultipleLocator(1))\n",
    "axes.yaxis.set_major_locator(ticker.MultipleLocator(50))\n",
    "axes.yaxis.set_minor_locator(ticker.MultipleLocator(10))\n",
    "\n",
    "\n",
    "#  Добавляем линии основной сетки:\n",
    "axes.grid(which='major',\n",
    "        color = 'k')\n",
    "\n",
    "#  Включаем видимость вспомогательных делений:\n",
    "axes.minorticks_on()\n",
    "#  Теперь можем отдельно задавать внешний вид\n",
    "#  вспомогательной сетки:\n",
    "axes.grid(which='minor',\n",
    "        color = 'gray',\n",
    "        linestyle = ':')\n"
   ]
  },
  {
   "cell_type": "markdown",
   "metadata": {},
   "source": [
    "По графику можно увидеть срок смены платформы на другую платформу для каждой из платформ. Построим датафрейм, ориентируясь на график, содержащий \"время процветания\" каждой из платформ. Появлением новой платформы будем считать момент, когда ее продажи выше чем продажи предыдущей платформы. "
   ]
  },
  {
   "cell_type": "code",
   "execution_count": 46,
   "metadata": {},
   "outputs": [
    {
     "data": {
      "text/plain": [
       "5.0"
      ]
     },
     "execution_count": 46,
     "metadata": {},
     "output_type": "execute_result"
    }
   ],
   "source": [
    "paltforms_life_cycle = pd.DataFrame(columns = ['platform','years'], data = [['PS',6], ['PS2',5], ['PS3',5], ['Wii',4]])\n",
    "paltforms_life_cycle['years'].mean()"
   ]
  },
  {
   "cell_type": "markdown",
   "metadata": {},
   "source": [
    "Характерное время смены одной платформы на другую - 5 лет"
   ]
  },
  {
   "cell_type": "markdown",
   "metadata": {},
   "source": [
    "- Возьмите данные за соответствующий актуальный период. Актуальный период определите самостоятельно в результате исследования предыдущих вопросов. Основной фактор — эти данные помогут построить прогноз на 2017 год."
   ]
  },
  {
   "cell_type": "markdown",
   "metadata": {},
   "source": [
    "На прошлых шагах мы выяснили, что самые продаваемые игры с годом выпуска больше 2001 и среднее время смены одной платформы на другую 5 лет. Из этого можно сделать вывод, что нам достаточно взять данные для анализа -5 лет, т.е. с 2011 года"
   ]
  },
  {
   "cell_type": "code",
   "execution_count": 47,
   "metadata": {},
   "outputs": [],
   "source": [
    "df_actual = df.query('year_of_release >= 2011')\n"
   ]
  },
  {
   "cell_type": "markdown",
   "metadata": {},
   "source": [
    "- Какие платформы лидируют по продажам, растут или падают? Выберите несколько потенциально прибыльных платформ.\n"
   ]
  },
  {
   "cell_type": "markdown",
   "metadata": {},
   "source": [
    "Сгруппируем наши актуальные данные по платформам и годам. Посчитаем суммарные продажи. Поставим в соотвествие каждой платформе и году - ранг насколько игры были продаваемы. Получим турнирную таблицу популярности игр по годам"
   ]
  },
  {
   "cell_type": "code",
   "execution_count": 48,
   "metadata": {},
   "outputs": [
    {
     "data": {
      "text/html": [
       "<div>\n",
       "<style scoped>\n",
       "    .dataframe tbody tr th:only-of-type {\n",
       "        vertical-align: middle;\n",
       "    }\n",
       "\n",
       "    .dataframe tbody tr th {\n",
       "        vertical-align: top;\n",
       "    }\n",
       "\n",
       "    .dataframe thead th {\n",
       "        text-align: right;\n",
       "    }\n",
       "</style>\n",
       "<table border=\"1\" class=\"dataframe\">\n",
       "  <thead>\n",
       "    <tr style=\"text-align: right;\">\n",
       "      <th>year_of_release</th>\n",
       "      <th>2011</th>\n",
       "      <th>2012</th>\n",
       "      <th>2013</th>\n",
       "      <th>2014</th>\n",
       "      <th>2015</th>\n",
       "      <th>2016</th>\n",
       "    </tr>\n",
       "    <tr>\n",
       "      <th>platform</th>\n",
       "      <th></th>\n",
       "      <th></th>\n",
       "      <th></th>\n",
       "      <th></th>\n",
       "      <th></th>\n",
       "      <th></th>\n",
       "    </tr>\n",
       "  </thead>\n",
       "  <tbody>\n",
       "    <tr>\n",
       "      <th>3DS</th>\n",
       "      <td>3.0</td>\n",
       "      <td>3.0</td>\n",
       "      <td>3.0</td>\n",
       "      <td>4.0</td>\n",
       "      <td>3.0</td>\n",
       "      <td>3.0</td>\n",
       "    </tr>\n",
       "    <tr>\n",
       "      <th>DS</th>\n",
       "      <td>6.0</td>\n",
       "      <td>8.0</td>\n",
       "      <td>11.0</td>\n",
       "      <td>NaN</td>\n",
       "      <td>NaN</td>\n",
       "      <td>NaN</td>\n",
       "    </tr>\n",
       "    <tr>\n",
       "      <th>PC</th>\n",
       "      <td>5.0</td>\n",
       "      <td>4.0</td>\n",
       "      <td>7.0</td>\n",
       "      <td>7.0</td>\n",
       "      <td>7.0</td>\n",
       "      <td>4.0</td>\n",
       "    </tr>\n",
       "    <tr>\n",
       "      <th>PS2</th>\n",
       "      <td>9.0</td>\n",
       "      <td>NaN</td>\n",
       "      <td>NaN</td>\n",
       "      <td>NaN</td>\n",
       "      <td>NaN</td>\n",
       "      <td>NaN</td>\n",
       "    </tr>\n",
       "    <tr>\n",
       "      <th>PS3</th>\n",
       "      <td>1.0</td>\n",
       "      <td>1.0</td>\n",
       "      <td>1.0</td>\n",
       "      <td>3.0</td>\n",
       "      <td>4.0</td>\n",
       "      <td>7.0</td>\n",
       "    </tr>\n",
       "    <tr>\n",
       "      <th>PS4</th>\n",
       "      <td>NaN</td>\n",
       "      <td>NaN</td>\n",
       "      <td>4.0</td>\n",
       "      <td>1.0</td>\n",
       "      <td>1.0</td>\n",
       "      <td>1.0</td>\n",
       "    </tr>\n",
       "    <tr>\n",
       "      <th>PSP</th>\n",
       "      <td>7.0</td>\n",
       "      <td>9.0</td>\n",
       "      <td>10.0</td>\n",
       "      <td>10.0</td>\n",
       "      <td>10.0</td>\n",
       "      <td>NaN</td>\n",
       "    </tr>\n",
       "    <tr>\n",
       "      <th>PSV</th>\n",
       "      <td>8.0</td>\n",
       "      <td>7.0</td>\n",
       "      <td>8.0</td>\n",
       "      <td>8.0</td>\n",
       "      <td>8.0</td>\n",
       "      <td>6.0</td>\n",
       "    </tr>\n",
       "    <tr>\n",
       "      <th>Wii</th>\n",
       "      <td>4.0</td>\n",
       "      <td>5.0</td>\n",
       "      <td>9.0</td>\n",
       "      <td>9.0</td>\n",
       "      <td>9.0</td>\n",
       "      <td>9.0</td>\n",
       "    </tr>\n",
       "    <tr>\n",
       "      <th>WiiU</th>\n",
       "      <td>NaN</td>\n",
       "      <td>6.0</td>\n",
       "      <td>5.0</td>\n",
       "      <td>6.0</td>\n",
       "      <td>5.0</td>\n",
       "      <td>5.0</td>\n",
       "    </tr>\n",
       "    <tr>\n",
       "      <th>X360</th>\n",
       "      <td>2.0</td>\n",
       "      <td>2.0</td>\n",
       "      <td>2.0</td>\n",
       "      <td>5.0</td>\n",
       "      <td>6.0</td>\n",
       "      <td>8.0</td>\n",
       "    </tr>\n",
       "    <tr>\n",
       "      <th>XOne</th>\n",
       "      <td>NaN</td>\n",
       "      <td>NaN</td>\n",
       "      <td>6.0</td>\n",
       "      <td>2.0</td>\n",
       "      <td>2.0</td>\n",
       "      <td>2.0</td>\n",
       "    </tr>\n",
       "  </tbody>\n",
       "</table>\n",
       "</div>"
      ],
      "text/plain": [
       "year_of_release  2011  2012  2013  2014  2015  2016\n",
       "platform                                           \n",
       "3DS               3.0   3.0   3.0   4.0   3.0   3.0\n",
       "DS                6.0   8.0  11.0   NaN   NaN   NaN\n",
       "PC                5.0   4.0   7.0   7.0   7.0   4.0\n",
       "PS2               9.0   NaN   NaN   NaN   NaN   NaN\n",
       "PS3               1.0   1.0   1.0   3.0   4.0   7.0\n",
       "PS4               NaN   NaN   4.0   1.0   1.0   1.0\n",
       "PSP               7.0   9.0  10.0  10.0  10.0   NaN\n",
       "PSV               8.0   7.0   8.0   8.0   8.0   6.0\n",
       "Wii               4.0   5.0   9.0   9.0   9.0   9.0\n",
       "WiiU              NaN   6.0   5.0   6.0   5.0   5.0\n",
       "X360              2.0   2.0   2.0   5.0   6.0   8.0\n",
       "XOne              NaN   NaN   6.0   2.0   2.0   2.0"
      ]
     },
     "execution_count": 48,
     "metadata": {},
     "output_type": "execute_result"
    }
   ],
   "source": [
    "actual_sales_by_platform = df_actual.pivot_table(index = 'year_of_release', columns = 'platform',values=  'total_sales', aggfunc = 'sum').T\n",
    "ranks = actual_sales_by_platform.rank(ascending=False)\n",
    "\n",
    "ranks"
   ]
  },
  {
   "cell_type": "markdown",
   "metadata": {},
   "source": [
    "Посмотрим топ-3 платформ по продажам за эти годы"
   ]
  },
  {
   "cell_type": "code",
   "execution_count": 49,
   "metadata": {},
   "outputs": [
    {
     "data": {
      "text/html": [
       "<div>\n",
       "<style scoped>\n",
       "    .dataframe tbody tr th:only-of-type {\n",
       "        vertical-align: middle;\n",
       "    }\n",
       "\n",
       "    .dataframe tbody tr th {\n",
       "        vertical-align: top;\n",
       "    }\n",
       "\n",
       "    .dataframe thead th {\n",
       "        text-align: right;\n",
       "    }\n",
       "</style>\n",
       "<table border=\"1\" class=\"dataframe\">\n",
       "  <thead>\n",
       "    <tr style=\"text-align: right;\">\n",
       "      <th>year_of_release</th>\n",
       "      <th>2011</th>\n",
       "      <th>2012</th>\n",
       "      <th>2013</th>\n",
       "      <th>2014</th>\n",
       "      <th>2015</th>\n",
       "      <th>2016</th>\n",
       "    </tr>\n",
       "    <tr>\n",
       "      <th>platform</th>\n",
       "      <th></th>\n",
       "      <th></th>\n",
       "      <th></th>\n",
       "      <th></th>\n",
       "      <th></th>\n",
       "      <th></th>\n",
       "    </tr>\n",
       "  </thead>\n",
       "  <tbody>\n",
       "    <tr>\n",
       "      <th>3DS</th>\n",
       "      <td>1.0</td>\n",
       "      <td>1.0</td>\n",
       "      <td>1.0</td>\n",
       "      <td>NaN</td>\n",
       "      <td>1.0</td>\n",
       "      <td>1.0</td>\n",
       "    </tr>\n",
       "    <tr>\n",
       "      <th>PS3</th>\n",
       "      <td>1.0</td>\n",
       "      <td>1.0</td>\n",
       "      <td>1.0</td>\n",
       "      <td>1.0</td>\n",
       "      <td>NaN</td>\n",
       "      <td>NaN</td>\n",
       "    </tr>\n",
       "    <tr>\n",
       "      <th>PS4</th>\n",
       "      <td>NaN</td>\n",
       "      <td>NaN</td>\n",
       "      <td>NaN</td>\n",
       "      <td>1.0</td>\n",
       "      <td>1.0</td>\n",
       "      <td>1.0</td>\n",
       "    </tr>\n",
       "    <tr>\n",
       "      <th>X360</th>\n",
       "      <td>1.0</td>\n",
       "      <td>1.0</td>\n",
       "      <td>1.0</td>\n",
       "      <td>NaN</td>\n",
       "      <td>NaN</td>\n",
       "      <td>NaN</td>\n",
       "    </tr>\n",
       "    <tr>\n",
       "      <th>XOne</th>\n",
       "      <td>NaN</td>\n",
       "      <td>NaN</td>\n",
       "      <td>NaN</td>\n",
       "      <td>1.0</td>\n",
       "      <td>1.0</td>\n",
       "      <td>1.0</td>\n",
       "    </tr>\n",
       "  </tbody>\n",
       "</table>\n",
       "</div>"
      ],
      "text/plain": [
       "year_of_release  2011  2012  2013  2014  2015  2016\n",
       "platform                                           \n",
       "3DS               1.0   1.0   1.0   NaN   1.0   1.0\n",
       "PS3               1.0   1.0   1.0   1.0   NaN   NaN\n",
       "PS4               NaN   NaN   NaN   1.0   1.0   1.0\n",
       "X360              1.0   1.0   1.0   NaN   NaN   NaN\n",
       "XOne              NaN   NaN   NaN   1.0   1.0   1.0"
      ]
     },
     "execution_count": 49,
     "metadata": {},
     "output_type": "execute_result"
    }
   ],
   "source": [
    "top_3 = ranks <= 3\n",
    "top_3 = top_3.reset_index()\n",
    "top_3.replace(False,np.nan,inplace = True)\n",
    "top_3 = top_3.set_index('platform')\n",
    "top_3.dropna(inplace = True, how = 'all')\n",
    "top_3"
   ]
  },
  {
   "cell_type": "markdown",
   "metadata": {},
   "source": [
    "По продажам в последние годы лидируют платформы 3DS, PS4, XOne"
   ]
  },
  {
   "cell_type": "markdown",
   "metadata": {},
   "source": [
    "Добавим в эту таблицу поле is_growing True/False/None в зависимости от того растут продажи или нет"
   ]
  },
  {
   "cell_type": "code",
   "execution_count": 50,
   "metadata": {},
   "outputs": [],
   "source": [
    "def is_growing(row):\n",
    "    row = row.sort_index(ascending = False)\n",
    "    last_value = row.iloc[0]\n",
    "    res = True\n",
    "    if last_value != last_value: #если данные за 2016г null вернем null\n",
    "        return last_value\n",
    "    eq_val = 0\n",
    "    for i in range(1,len(row) - 1): #идем последовательно от 2015 до 2011г\n",
    "        if row.iloc[i] > last_value: #нашли значение больше значения за 2016г\n",
    "            return False\n",
    "        elif row.iloc[i] == last_value: #значения совпадают\n",
    "            if eq_val == 1:\n",
    "                return np.nan\n",
    "            res = False\n",
    "            eq_val = 1\n",
    "        else:\n",
    "            res = True\n",
    "    return res   \n",
    "\n",
    "ranks['is_growing'] = ranks.apply(is_growing, axis = 1)"
   ]
  },
  {
   "cell_type": "markdown",
   "metadata": {},
   "source": [
    "Посмотрим продажи по каким платформам растут, а по каким - падают"
   ]
  },
  {
   "cell_type": "code",
   "execution_count": 51,
   "metadata": {},
   "outputs": [
    {
     "data": {
      "text/html": [
       "<div>\n",
       "<style scoped>\n",
       "    .dataframe tbody tr th:only-of-type {\n",
       "        vertical-align: middle;\n",
       "    }\n",
       "\n",
       "    .dataframe tbody tr th {\n",
       "        vertical-align: top;\n",
       "    }\n",
       "\n",
       "    .dataframe thead th {\n",
       "        text-align: right;\n",
       "    }\n",
       "</style>\n",
       "<table border=\"1\" class=\"dataframe\">\n",
       "  <thead>\n",
       "    <tr style=\"text-align: right;\">\n",
       "      <th>year_of_release</th>\n",
       "      <th>2011</th>\n",
       "      <th>2012</th>\n",
       "      <th>2013</th>\n",
       "      <th>2014</th>\n",
       "      <th>2015</th>\n",
       "      <th>2016</th>\n",
       "      <th>is_growing</th>\n",
       "    </tr>\n",
       "    <tr>\n",
       "      <th>platform</th>\n",
       "      <th></th>\n",
       "      <th></th>\n",
       "      <th></th>\n",
       "      <th></th>\n",
       "      <th></th>\n",
       "      <th></th>\n",
       "      <th></th>\n",
       "    </tr>\n",
       "  </thead>\n",
       "  <tbody>\n",
       "    <tr>\n",
       "      <th>PS3</th>\n",
       "      <td>1.0</td>\n",
       "      <td>1.0</td>\n",
       "      <td>1.0</td>\n",
       "      <td>3.0</td>\n",
       "      <td>4.0</td>\n",
       "      <td>7.0</td>\n",
       "      <td>True</td>\n",
       "    </tr>\n",
       "    <tr>\n",
       "      <th>X360</th>\n",
       "      <td>2.0</td>\n",
       "      <td>2.0</td>\n",
       "      <td>2.0</td>\n",
       "      <td>5.0</td>\n",
       "      <td>6.0</td>\n",
       "      <td>8.0</td>\n",
       "      <td>True</td>\n",
       "    </tr>\n",
       "  </tbody>\n",
       "</table>\n",
       "</div>"
      ],
      "text/plain": [
       "year_of_release  2011  2012  2013  2014  2015  2016 is_growing\n",
       "platform                                                      \n",
       "PS3               1.0   1.0   1.0   3.0   4.0   7.0       True\n",
       "X360              2.0   2.0   2.0   5.0   6.0   8.0       True"
      ]
     },
     "metadata": {},
     "output_type": "display_data"
    },
    {
     "data": {
      "text/html": [
       "<div>\n",
       "<style scoped>\n",
       "    .dataframe tbody tr th:only-of-type {\n",
       "        vertical-align: middle;\n",
       "    }\n",
       "\n",
       "    .dataframe tbody tr th {\n",
       "        vertical-align: top;\n",
       "    }\n",
       "\n",
       "    .dataframe thead th {\n",
       "        text-align: right;\n",
       "    }\n",
       "</style>\n",
       "<table border=\"1\" class=\"dataframe\">\n",
       "  <thead>\n",
       "    <tr style=\"text-align: right;\">\n",
       "      <th>year_of_release</th>\n",
       "      <th>2011</th>\n",
       "      <th>2012</th>\n",
       "      <th>2013</th>\n",
       "      <th>2014</th>\n",
       "      <th>2015</th>\n",
       "      <th>2016</th>\n",
       "      <th>is_growing</th>\n",
       "    </tr>\n",
       "    <tr>\n",
       "      <th>platform</th>\n",
       "      <th></th>\n",
       "      <th></th>\n",
       "      <th></th>\n",
       "      <th></th>\n",
       "      <th></th>\n",
       "      <th></th>\n",
       "      <th></th>\n",
       "    </tr>\n",
       "  </thead>\n",
       "  <tbody>\n",
       "    <tr>\n",
       "      <th>3DS</th>\n",
       "      <td>3.0</td>\n",
       "      <td>3.0</td>\n",
       "      <td>3.0</td>\n",
       "      <td>4.0</td>\n",
       "      <td>3.0</td>\n",
       "      <td>3.0</td>\n",
       "      <td>False</td>\n",
       "    </tr>\n",
       "    <tr>\n",
       "      <th>PC</th>\n",
       "      <td>5.0</td>\n",
       "      <td>4.0</td>\n",
       "      <td>7.0</td>\n",
       "      <td>7.0</td>\n",
       "      <td>7.0</td>\n",
       "      <td>4.0</td>\n",
       "      <td>False</td>\n",
       "    </tr>\n",
       "    <tr>\n",
       "      <th>PSV</th>\n",
       "      <td>8.0</td>\n",
       "      <td>7.0</td>\n",
       "      <td>8.0</td>\n",
       "      <td>8.0</td>\n",
       "      <td>8.0</td>\n",
       "      <td>6.0</td>\n",
       "      <td>False</td>\n",
       "    </tr>\n",
       "    <tr>\n",
       "      <th>WiiU</th>\n",
       "      <td>NaN</td>\n",
       "      <td>6.0</td>\n",
       "      <td>5.0</td>\n",
       "      <td>6.0</td>\n",
       "      <td>5.0</td>\n",
       "      <td>5.0</td>\n",
       "      <td>False</td>\n",
       "    </tr>\n",
       "  </tbody>\n",
       "</table>\n",
       "</div>"
      ],
      "text/plain": [
       "year_of_release  2011  2012  2013  2014  2015  2016 is_growing\n",
       "platform                                                      \n",
       "3DS               3.0   3.0   3.0   4.0   3.0   3.0      False\n",
       "PC                5.0   4.0   7.0   7.0   7.0   4.0      False\n",
       "PSV               8.0   7.0   8.0   8.0   8.0   6.0      False\n",
       "WiiU              NaN   6.0   5.0   6.0   5.0   5.0      False"
      ]
     },
     "metadata": {},
     "output_type": "display_data"
    }
   ],
   "source": [
    "display(ranks.query('is_growing == True'))\n",
    "display(ranks.query('is_growing == False'))"
   ]
  },
  {
   "cell_type": "markdown",
   "metadata": {},
   "source": [
    "Узнали, что продажи по платформам PS3, X360 растут, а по платформам - 3DS, PC,PSV,  WiiU, - падают. При этом они падают меньше 4 лет, так что в следующим году эти платформы скорее всего будут еще актуальны"
   ]
  },
  {
   "cell_type": "markdown",
   "metadata": {},
   "source": [
    "- Постройте график «ящик с усами» по глобальным продажам игр в разбивке по платформам. Опишите результат.\n"
   ]
  },
  {
   "cell_type": "code",
   "execution_count": 52,
   "metadata": {},
   "outputs": [
    {
     "data": {
      "image/png": "[encoded data removed]",
      "text/plain": [
       "<Figure size 864x432 with 1 Axes>"
      ]
     },
     "metadata": {
      "needs_background": "light"
     },
     "output_type": "display_data"
    }
   ],
   "source": [
    "ax = actual_sales_by_platform.T.plot(kind = 'box', figsize = (12,6), grid = True, title = '«Ящики с усами» по глобальным продажам игр в разбивке по платформам');\n",
    "ax.set_ylabel('продажи (млн долларов)');\n",
    "ax.set_xlabel('платформы');"
   ]
  },
  {
   "cell_type": "markdown",
   "metadata": {},
   "source": [
    "Самые высокая медиана по продажам у платформы PS4, самая низкая - у PS2. У платформы Wii есть выброс сверху, у платфомы WiiU - выброс снизу. Выброс значит, что в какйо-то год купили игр на этой платформе нетипично больше/меньше. Самый большой разброс значений по продажам у платформы PS3, самый низкий - PS2"
   ]
  },
  {
   "cell_type": "markdown",
   "metadata": {},
   "source": [
    "- Посмотрите, как влияют на продажи внутри одной популярной платформы отзывы пользователей и критиков. Постройте диаграмму рассеяния и посчитайте корреляцию между отзывами и продажами. Сформулируйте выводы.\n"
   ]
  },
  {
   "cell_type": "markdown",
   "metadata": {},
   "source": [
    "Расммотрим вопросы выше на примере плафтормы PS4"
   ]
  },
  {
   "cell_type": "code",
   "execution_count": 53,
   "metadata": {},
   "outputs": [
    {
     "data": {
      "image/png": "[encoded data removed]",
      "text/plain": [
       "<Figure size 432x288 with 1 Axes>"
      ]
     },
     "metadata": {
      "needs_background": "light"
     },
     "output_type": "display_data"
    }
   ],
   "source": [
    "ps4 = df_actual.query('platform == \"PS4\"').copy()\n",
    "ps4.dropna(subset = ['critic_score'], inplace = True) \n",
    "ps4.plot.scatter(x = 'critic_score', y = 'total_sales');"
   ]
  },
  {
   "cell_type": "code",
   "execution_count": 54,
   "metadata": {},
   "outputs": [
    {
     "data": {
      "text/html": [
       "<div>\n",
       "<style scoped>\n",
       "    .dataframe tbody tr th:only-of-type {\n",
       "        vertical-align: middle;\n",
       "    }\n",
       "\n",
       "    .dataframe tbody tr th {\n",
       "        vertical-align: top;\n",
       "    }\n",
       "\n",
       "    .dataframe thead th {\n",
       "        text-align: right;\n",
       "    }\n",
       "</style>\n",
       "<table border=\"1\" class=\"dataframe\">\n",
       "  <thead>\n",
       "    <tr style=\"text-align: right;\">\n",
       "      <th></th>\n",
       "      <th>critic_score</th>\n",
       "      <th>total_sales</th>\n",
       "    </tr>\n",
       "  </thead>\n",
       "  <tbody>\n",
       "    <tr>\n",
       "      <th>critic_score</th>\n",
       "      <td>1.000000</td>\n",
       "      <td>0.392101</td>\n",
       "    </tr>\n",
       "    <tr>\n",
       "      <th>total_sales</th>\n",
       "      <td>0.392101</td>\n",
       "      <td>1.000000</td>\n",
       "    </tr>\n",
       "  </tbody>\n",
       "</table>\n",
       "</div>"
      ],
      "text/plain": [
       "              critic_score  total_sales\n",
       "critic_score      1.000000     0.392101\n",
       "total_sales       0.392101     1.000000"
      ]
     },
     "execution_count": 54,
     "metadata": {},
     "output_type": "execute_result"
    }
   ],
   "source": [
    "ps4[['critic_score','total_sales']].corr()"
   ]
  },
  {
   "cell_type": "code",
   "execution_count": 55,
   "metadata": {},
   "outputs": [
    {
     "data": {
      "image/png": "[encoded data removed]",
      "text/plain": [
       "<Figure size 432x288 with 1 Axes>"
      ]
     },
     "metadata": {
      "needs_background": "light"
     },
     "output_type": "display_data"
    }
   ],
   "source": [
    "ps4 = df_actual.query('platform == \"PS4\"').copy()\n",
    "ps4.dropna(subset = ['user_score'], inplace = True) \n",
    "ps4.plot.scatter(x = 'user_score', y = 'total_sales');"
   ]
  },
  {
   "cell_type": "code",
   "execution_count": 56,
   "metadata": {},
   "outputs": [
    {
     "data": {
      "text/html": [
       "<div>\n",
       "<style scoped>\n",
       "    .dataframe tbody tr th:only-of-type {\n",
       "        vertical-align: middle;\n",
       "    }\n",
       "\n",
       "    .dataframe tbody tr th {\n",
       "        vertical-align: top;\n",
       "    }\n",
       "\n",
       "    .dataframe thead th {\n",
       "        text-align: right;\n",
       "    }\n",
       "</style>\n",
       "<table border=\"1\" class=\"dataframe\">\n",
       "  <thead>\n",
       "    <tr style=\"text-align: right;\">\n",
       "      <th></th>\n",
       "      <th>user_score</th>\n",
       "      <th>total_sales</th>\n",
       "    </tr>\n",
       "  </thead>\n",
       "  <tbody>\n",
       "    <tr>\n",
       "      <th>user_score</th>\n",
       "      <td>1.000000</td>\n",
       "      <td>-0.020383</td>\n",
       "    </tr>\n",
       "    <tr>\n",
       "      <th>total_sales</th>\n",
       "      <td>-0.020383</td>\n",
       "      <td>1.000000</td>\n",
       "    </tr>\n",
       "  </tbody>\n",
       "</table>\n",
       "</div>"
      ],
      "text/plain": [
       "             user_score  total_sales\n",
       "user_score     1.000000    -0.020383\n",
       "total_sales   -0.020383     1.000000"
      ]
     },
     "execution_count": 56,
     "metadata": {},
     "output_type": "execute_result"
    }
   ],
   "source": [
    "ps4[['user_score','total_sales']].corr()"
   ]
  },
  {
   "cell_type": "markdown",
   "metadata": {},
   "source": [
    "По графикам и матрице корреляции видно, что для платформы PS4 зависимость между продажами и отзывами критиков положительная и слабая, между продажами и отзывами пользователей - отрицательная и очень слабая"
   ]
  },
  {
   "cell_type": "markdown",
   "metadata": {},
   "source": [
    "- Соотнесите выводы с продажами игр на других платформах.\n"
   ]
  },
  {
   "cell_type": "markdown",
   "metadata": {},
   "source": [
    "Построим диаграммы рассеяния для остальных платформ между продажами и пользовательской оценкой и оценкой критиков"
   ]
  },
  {
   "cell_type": "code",
   "execution_count": 57,
   "metadata": {},
   "outputs": [
    {
     "data": {
      "image/png": "[encoded data removed]",
      "text/plain": [
       "<Figure size 1440x3600 with 24 Axes>"
      ]
     },
     "metadata": {
      "needs_background": "light"
     },
     "output_type": "display_data"
    }
   ],
   "source": [
    "platforms = df_actual['platform'].unique()\n",
    "qty_platforms = len(platforms)\n",
    "fig, axes = plt.subplots(nrows=qty_platforms, ncols=2, figsize=(20,50))\n",
    "i = 0\n",
    "j = 0\n",
    "for platform in platforms:\n",
    "    platform_data_critic = df_actual.query('platform == @platform').copy()\n",
    "    platform_data_critic.dropna(subset = ['critic_score'], inplace = True) \n",
    "    platform_data_critic.plot(kind = 'scatter', x = 'critic_score',y = 'total_sales', title = platform, grid = True,  ax = axes[i,j]);\n",
    "    ax.set_xlabel('critic_score')\n",
    "    j += 1\n",
    "    platform_data_user = df_actual.query('platform == @platform').copy()\n",
    "    platform_data_user.dropna(subset = ['user_score'], inplace = True) \n",
    "    platform_data_user.plot(kind = 'scatter', x = 'user_score',y = 'total_sales', title = platform, grid = True,  ax = axes[i,j]);\n",
    "    ax.set_xlabel('user_score')\n",
    "    i += 1\n",
    "    j -= 1\n",
    "    fig.tight_layout(pad=3.0)"
   ]
  },
  {
   "cell_type": "markdown",
   "metadata": {},
   "source": [
    "Построим матрицу корреляции для остальных платформ между продажами и пользовательской оценкой "
   ]
  },
  {
   "cell_type": "code",
   "execution_count": 58,
   "metadata": {},
   "outputs": [
    {
     "name": "stderr",
     "output_type": "stream",
     "text": [
      "C:\\Users\\nikotyan\\PycharmProjects\\yandex_project_2_property\\venv\\lib\\site-packages\\ipykernel_launcher.py:3: FutureWarning: Indexing with multiple keys (implicitly converted to a tuple of keys) will be deprecated, use a list instead.\n",
      "  This is separate from the ipykernel package so we can avoid doing imports until\n"
     ]
    },
    {
     "data": {
      "text/html": [
       "<div>\n",
       "<style scoped>\n",
       "    .dataframe tbody tr th:only-of-type {\n",
       "        vertical-align: middle;\n",
       "    }\n",
       "\n",
       "    .dataframe tbody tr th {\n",
       "        vertical-align: top;\n",
       "    }\n",
       "\n",
       "    .dataframe thead th {\n",
       "        text-align: right;\n",
       "    }\n",
       "</style>\n",
       "<table border=\"1\" class=\"dataframe\">\n",
       "  <thead>\n",
       "    <tr style=\"text-align: right;\">\n",
       "      <th></th>\n",
       "      <th></th>\n",
       "      <th>user_score</th>\n",
       "      <th>total_sales</th>\n",
       "    </tr>\n",
       "    <tr>\n",
       "      <th>platform</th>\n",
       "      <th></th>\n",
       "      <th></th>\n",
       "      <th></th>\n",
       "    </tr>\n",
       "  </thead>\n",
       "  <tbody>\n",
       "    <tr>\n",
       "      <th rowspan=\"2\" valign=\"top\">3DS</th>\n",
       "      <th>user_score</th>\n",
       "      <td>1.000000</td>\n",
       "      <td>0.232028</td>\n",
       "    </tr>\n",
       "    <tr>\n",
       "      <th>total_sales</th>\n",
       "      <td>0.232028</td>\n",
       "      <td>1.000000</td>\n",
       "    </tr>\n",
       "    <tr>\n",
       "      <th rowspan=\"2\" valign=\"top\">DS</th>\n",
       "      <th>user_score</th>\n",
       "      <td>1.000000</td>\n",
       "      <td>0.404446</td>\n",
       "    </tr>\n",
       "    <tr>\n",
       "      <th>total_sales</th>\n",
       "      <td>0.404446</td>\n",
       "      <td>1.000000</td>\n",
       "    </tr>\n",
       "    <tr>\n",
       "      <th rowspan=\"2\" valign=\"top\">PC</th>\n",
       "      <th>user_score</th>\n",
       "      <td>1.000000</td>\n",
       "      <td>-0.047506</td>\n",
       "    </tr>\n",
       "    <tr>\n",
       "      <th>total_sales</th>\n",
       "      <td>-0.047506</td>\n",
       "      <td>1.000000</td>\n",
       "    </tr>\n",
       "    <tr>\n",
       "      <th rowspan=\"2\" valign=\"top\">PS2</th>\n",
       "      <th>user_score</th>\n",
       "      <td>1.000000</td>\n",
       "      <td>-0.373270</td>\n",
       "    </tr>\n",
       "    <tr>\n",
       "      <th>total_sales</th>\n",
       "      <td>-0.373270</td>\n",
       "      <td>1.000000</td>\n",
       "    </tr>\n",
       "    <tr>\n",
       "      <th rowspan=\"2\" valign=\"top\">PS3</th>\n",
       "      <th>user_score</th>\n",
       "      <td>1.000000</td>\n",
       "      <td>0.030837</td>\n",
       "    </tr>\n",
       "    <tr>\n",
       "      <th>total_sales</th>\n",
       "      <td>0.030837</td>\n",
       "      <td>1.000000</td>\n",
       "    </tr>\n",
       "    <tr>\n",
       "      <th rowspan=\"2\" valign=\"top\">PS4</th>\n",
       "      <th>user_score</th>\n",
       "      <td>1.000000</td>\n",
       "      <td>-0.020383</td>\n",
       "    </tr>\n",
       "    <tr>\n",
       "      <th>total_sales</th>\n",
       "      <td>-0.020383</td>\n",
       "      <td>1.000000</td>\n",
       "    </tr>\n",
       "    <tr>\n",
       "      <th rowspan=\"2\" valign=\"top\">PSP</th>\n",
       "      <th>user_score</th>\n",
       "      <td>1.000000</td>\n",
       "      <td>-0.063369</td>\n",
       "    </tr>\n",
       "    <tr>\n",
       "      <th>total_sales</th>\n",
       "      <td>-0.063369</td>\n",
       "      <td>1.000000</td>\n",
       "    </tr>\n",
       "    <tr>\n",
       "      <th rowspan=\"2\" valign=\"top\">PSV</th>\n",
       "      <th>user_score</th>\n",
       "      <td>1.000000</td>\n",
       "      <td>0.059335</td>\n",
       "    </tr>\n",
       "    <tr>\n",
       "      <th>total_sales</th>\n",
       "      <td>0.059335</td>\n",
       "      <td>1.000000</td>\n",
       "    </tr>\n",
       "    <tr>\n",
       "      <th rowspan=\"2\" valign=\"top\">Wii</th>\n",
       "      <th>user_score</th>\n",
       "      <td>1.000000</td>\n",
       "      <td>0.220720</td>\n",
       "    </tr>\n",
       "    <tr>\n",
       "      <th>total_sales</th>\n",
       "      <td>0.220720</td>\n",
       "      <td>1.000000</td>\n",
       "    </tr>\n",
       "    <tr>\n",
       "      <th rowspan=\"2\" valign=\"top\">WiiU</th>\n",
       "      <th>user_score</th>\n",
       "      <td>1.000000</td>\n",
       "      <td>0.369594</td>\n",
       "    </tr>\n",
       "    <tr>\n",
       "      <th>total_sales</th>\n",
       "      <td>0.369594</td>\n",
       "      <td>1.000000</td>\n",
       "    </tr>\n",
       "    <tr>\n",
       "      <th rowspan=\"2\" valign=\"top\">X360</th>\n",
       "      <th>user_score</th>\n",
       "      <td>1.000000</td>\n",
       "      <td>0.048344</td>\n",
       "    </tr>\n",
       "    <tr>\n",
       "      <th>total_sales</th>\n",
       "      <td>0.048344</td>\n",
       "      <td>1.000000</td>\n",
       "    </tr>\n",
       "    <tr>\n",
       "      <th rowspan=\"2\" valign=\"top\">XOne</th>\n",
       "      <th>user_score</th>\n",
       "      <td>1.000000</td>\n",
       "      <td>-0.079942</td>\n",
       "    </tr>\n",
       "    <tr>\n",
       "      <th>total_sales</th>\n",
       "      <td>-0.079942</td>\n",
       "      <td>1.000000</td>\n",
       "    </tr>\n",
       "  </tbody>\n",
       "</table>\n",
       "</div>"
      ],
      "text/plain": [
       "                      user_score  total_sales\n",
       "platform                                     \n",
       "3DS      user_score     1.000000     0.232028\n",
       "         total_sales    0.232028     1.000000\n",
       "DS       user_score     1.000000     0.404446\n",
       "         total_sales    0.404446     1.000000\n",
       "PC       user_score     1.000000    -0.047506\n",
       "         total_sales   -0.047506     1.000000\n",
       "PS2      user_score     1.000000    -0.373270\n",
       "         total_sales   -0.373270     1.000000\n",
       "PS3      user_score     1.000000     0.030837\n",
       "         total_sales    0.030837     1.000000\n",
       "PS4      user_score     1.000000    -0.020383\n",
       "         total_sales   -0.020383     1.000000\n",
       "PSP      user_score     1.000000    -0.063369\n",
       "         total_sales   -0.063369     1.000000\n",
       "PSV      user_score     1.000000     0.059335\n",
       "         total_sales    0.059335     1.000000\n",
       "Wii      user_score     1.000000     0.220720\n",
       "         total_sales    0.220720     1.000000\n",
       "WiiU     user_score     1.000000     0.369594\n",
       "         total_sales    0.369594     1.000000\n",
       "X360     user_score     1.000000     0.048344\n",
       "         total_sales    0.048344     1.000000\n",
       "XOne     user_score     1.000000    -0.079942\n",
       "         total_sales   -0.079942     1.000000"
      ]
     },
     "execution_count": 58,
     "metadata": {},
     "output_type": "execute_result"
    }
   ],
   "source": [
    "platform_data_user = df_actual.copy()\n",
    "platform_data_user.dropna(subset = ['user_score'], inplace = True) \n",
    "platform_data_user.groupby('platform')['user_score','total_sales'].corr()"
   ]
  },
  {
   "cell_type": "markdown",
   "metadata": {},
   "source": [
    "Построим матрицу корреляции для остальных платформ между продажами и оценкой критиков"
   ]
  },
  {
   "cell_type": "code",
   "execution_count": 59,
   "metadata": {},
   "outputs": [
    {
     "name": "stderr",
     "output_type": "stream",
     "text": [
      "C:\\Users\\nikotyan\\PycharmProjects\\yandex_project_2_property\\venv\\lib\\site-packages\\ipykernel_launcher.py:3: FutureWarning: Indexing with multiple keys (implicitly converted to a tuple of keys) will be deprecated, use a list instead.\n",
      "  This is separate from the ipykernel package so we can avoid doing imports until\n"
     ]
    },
    {
     "data": {
      "text/html": [
       "<div>\n",
       "<style scoped>\n",
       "    .dataframe tbody tr th:only-of-type {\n",
       "        vertical-align: middle;\n",
       "    }\n",
       "\n",
       "    .dataframe tbody tr th {\n",
       "        vertical-align: top;\n",
       "    }\n",
       "\n",
       "    .dataframe thead th {\n",
       "        text-align: right;\n",
       "    }\n",
       "</style>\n",
       "<table border=\"1\" class=\"dataframe\">\n",
       "  <thead>\n",
       "    <tr style=\"text-align: right;\">\n",
       "      <th></th>\n",
       "      <th></th>\n",
       "      <th>critic_score</th>\n",
       "      <th>total_sales</th>\n",
       "    </tr>\n",
       "    <tr>\n",
       "      <th>platform</th>\n",
       "      <th></th>\n",
       "      <th></th>\n",
       "      <th></th>\n",
       "    </tr>\n",
       "  </thead>\n",
       "  <tbody>\n",
       "    <tr>\n",
       "      <th rowspan=\"2\" valign=\"top\">3DS</th>\n",
       "      <th>critic_score</th>\n",
       "      <td>1.000000</td>\n",
       "      <td>0.325074</td>\n",
       "    </tr>\n",
       "    <tr>\n",
       "      <th>total_sales</th>\n",
       "      <td>0.325074</td>\n",
       "      <td>1.000000</td>\n",
       "    </tr>\n",
       "    <tr>\n",
       "      <th rowspan=\"2\" valign=\"top\">DS</th>\n",
       "      <th>critic_score</th>\n",
       "      <td>1.000000</td>\n",
       "      <td>0.258084</td>\n",
       "    </tr>\n",
       "    <tr>\n",
       "      <th>total_sales</th>\n",
       "      <td>0.258084</td>\n",
       "      <td>1.000000</td>\n",
       "    </tr>\n",
       "    <tr>\n",
       "      <th rowspan=\"2\" valign=\"top\">PC</th>\n",
       "      <th>critic_score</th>\n",
       "      <td>1.000000</td>\n",
       "      <td>0.309252</td>\n",
       "    </tr>\n",
       "    <tr>\n",
       "      <th>total_sales</th>\n",
       "      <td>0.309252</td>\n",
       "      <td>1.000000</td>\n",
       "    </tr>\n",
       "    <tr>\n",
       "      <th rowspan=\"2\" valign=\"top\">PS2</th>\n",
       "      <th>critic_score</th>\n",
       "      <td>1.000000</td>\n",
       "      <td>0.861022</td>\n",
       "    </tr>\n",
       "    <tr>\n",
       "      <th>total_sales</th>\n",
       "      <td>0.861022</td>\n",
       "      <td>1.000000</td>\n",
       "    </tr>\n",
       "    <tr>\n",
       "      <th rowspan=\"2\" valign=\"top\">PS3</th>\n",
       "      <th>critic_score</th>\n",
       "      <td>1.000000</td>\n",
       "      <td>0.353166</td>\n",
       "    </tr>\n",
       "    <tr>\n",
       "      <th>total_sales</th>\n",
       "      <td>0.353166</td>\n",
       "      <td>1.000000</td>\n",
       "    </tr>\n",
       "    <tr>\n",
       "      <th rowspan=\"2\" valign=\"top\">PS4</th>\n",
       "      <th>critic_score</th>\n",
       "      <td>1.000000</td>\n",
       "      <td>0.392101</td>\n",
       "    </tr>\n",
       "    <tr>\n",
       "      <th>total_sales</th>\n",
       "      <td>0.392101</td>\n",
       "      <td>1.000000</td>\n",
       "    </tr>\n",
       "    <tr>\n",
       "      <th rowspan=\"2\" valign=\"top\">PSP</th>\n",
       "      <th>critic_score</th>\n",
       "      <td>1.000000</td>\n",
       "      <td>0.030184</td>\n",
       "    </tr>\n",
       "    <tr>\n",
       "      <th>total_sales</th>\n",
       "      <td>0.030184</td>\n",
       "      <td>1.000000</td>\n",
       "    </tr>\n",
       "    <tr>\n",
       "      <th rowspan=\"2\" valign=\"top\">PSV</th>\n",
       "      <th>critic_score</th>\n",
       "      <td>1.000000</td>\n",
       "      <td>0.175562</td>\n",
       "    </tr>\n",
       "    <tr>\n",
       "      <th>total_sales</th>\n",
       "      <td>0.175562</td>\n",
       "      <td>1.000000</td>\n",
       "    </tr>\n",
       "    <tr>\n",
       "      <th rowspan=\"2\" valign=\"top\">Wii</th>\n",
       "      <th>critic_score</th>\n",
       "      <td>1.000000</td>\n",
       "      <td>0.280507</td>\n",
       "    </tr>\n",
       "    <tr>\n",
       "      <th>total_sales</th>\n",
       "      <td>0.280507</td>\n",
       "      <td>1.000000</td>\n",
       "    </tr>\n",
       "    <tr>\n",
       "      <th rowspan=\"2\" valign=\"top\">WiiU</th>\n",
       "      <th>critic_score</th>\n",
       "      <td>1.000000</td>\n",
       "      <td>0.327594</td>\n",
       "    </tr>\n",
       "    <tr>\n",
       "      <th>total_sales</th>\n",
       "      <td>0.327594</td>\n",
       "      <td>1.000000</td>\n",
       "    </tr>\n",
       "    <tr>\n",
       "      <th rowspan=\"2\" valign=\"top\">X360</th>\n",
       "      <th>critic_score</th>\n",
       "      <td>1.000000</td>\n",
       "      <td>0.367364</td>\n",
       "    </tr>\n",
       "    <tr>\n",
       "      <th>total_sales</th>\n",
       "      <td>0.367364</td>\n",
       "      <td>1.000000</td>\n",
       "    </tr>\n",
       "    <tr>\n",
       "      <th rowspan=\"2\" valign=\"top\">XOne</th>\n",
       "      <th>critic_score</th>\n",
       "      <td>1.000000</td>\n",
       "      <td>0.381923</td>\n",
       "    </tr>\n",
       "    <tr>\n",
       "      <th>total_sales</th>\n",
       "      <td>0.381923</td>\n",
       "      <td>1.000000</td>\n",
       "    </tr>\n",
       "  </tbody>\n",
       "</table>\n",
       "</div>"
      ],
      "text/plain": [
       "                       critic_score  total_sales\n",
       "platform                                        \n",
       "3DS      critic_score      1.000000     0.325074\n",
       "         total_sales       0.325074     1.000000\n",
       "DS       critic_score      1.000000     0.258084\n",
       "         total_sales       0.258084     1.000000\n",
       "PC       critic_score      1.000000     0.309252\n",
       "         total_sales       0.309252     1.000000\n",
       "PS2      critic_score      1.000000     0.861022\n",
       "         total_sales       0.861022     1.000000\n",
       "PS3      critic_score      1.000000     0.353166\n",
       "         total_sales       0.353166     1.000000\n",
       "PS4      critic_score      1.000000     0.392101\n",
       "         total_sales       0.392101     1.000000\n",
       "PSP      critic_score      1.000000     0.030184\n",
       "         total_sales       0.030184     1.000000\n",
       "PSV      critic_score      1.000000     0.175562\n",
       "         total_sales       0.175562     1.000000\n",
       "Wii      critic_score      1.000000     0.280507\n",
       "         total_sales       0.280507     1.000000\n",
       "WiiU     critic_score      1.000000     0.327594\n",
       "         total_sales       0.327594     1.000000\n",
       "X360     critic_score      1.000000     0.367364\n",
       "         total_sales       0.367364     1.000000\n",
       "XOne     critic_score      1.000000     0.381923\n",
       "         total_sales       0.381923     1.000000"
      ]
     },
     "execution_count": 59,
     "metadata": {},
     "output_type": "execute_result"
    }
   ],
   "source": [
    "platform_data_critic = df_actual.copy()\n",
    "platform_data_critic.dropna(subset = ['critic_score'], inplace = True) \n",
    "platform_data_critic.groupby('platform')['critic_score','total_sales'].corr()"
   ]
  },
  {
   "cell_type": "markdown",
   "metadata": {},
   "source": [
    "В среднем для всех платформ корреляция между продажами и оценкой критиков слабая. Только для одной платформы PS2 - она очень высокая, это связано с тем, что у нас очень мало игр на ней.  Корреляция между продажами и оценкой пользователей тоже слабая и она меньше чем между оценкйо критиков и продажами. При этом по графикам видно, что крреляция между маленькими продажами и низкими оценками есть, а между высокими оценками и продажами - нет"
   ]
  },
  {
   "cell_type": "markdown",
   "metadata": {},
   "source": [
    "- Посмотрите на общее распределение игр по жанрам. Что можно сказать о самых прибыльных жанрах? Выделяются ли жанры с высокими и низкими продажами?"
   ]
  },
  {
   "cell_type": "markdown",
   "metadata": {},
   "source": [
    "Посмотрим в каких жанрах игр больше всего, в каких - меньше"
   ]
  },
  {
   "cell_type": "code",
   "execution_count": 60,
   "metadata": {},
   "outputs": [
    {
     "data": {
      "image/png": "[encoded data removed]",
      "text/plain": [
       "<Figure size 864x432 with 1 Axes>"
      ]
     },
     "metadata": {
      "needs_background": "light"
     },
     "output_type": "display_data"
    }
   ],
   "source": [
    "games_qty_by_genres = df_actual['genre'].value_counts()\n",
    "ax = games_qty_by_genres.plot(kind ='bar',figsize = (12,6), title = 'Распределение игр по жанрам');\n",
    "ax.set_xlabel('жанр');\n",
    "ax.set_ylabel('количество игр');"
   ]
  },
  {
   "cell_type": "markdown",
   "metadata": {},
   "source": [
    "Больше всего игр в жанре action. Вторе и третье место по количеству игр занимают жанры role-playing. adventure sports. Меньше всего игр в жанрах - platform, strategy, puzzle"
   ]
  },
  {
   "cell_type": "markdown",
   "metadata": {},
   "source": [
    "Создадим сводную таблицу по жанрам и продажам. Посмотрим продажи по жанрам"
   ]
  },
  {
   "cell_type": "code",
   "execution_count": 61,
   "metadata": {},
   "outputs": [
    {
     "data": {
      "image/png": "[encoded data removed]",
      "text/plain": [
       "<Figure size 864x432 with 1 Axes>"
      ]
     },
     "metadata": {
      "needs_background": "light"
     },
     "output_type": "display_data"
    }
   ],
   "source": [
    "df_by_genre_sales = df.pivot_table(index = 'genre', values = 'total_sales', aggfunc = 'sum')\n",
    "ax = df_by_genre_sales.sort_values(by = 'total_sales',ascending = False).plot(kind ='bar',figsize = (12,6), title = 'Распределение продаж по жанрам');\n",
    "ax.set_xlabel('жанр');\n",
    "ax.set_ylabel('доход (млн долларов)');"
   ]
  },
  {
   "cell_type": "markdown",
   "metadata": {},
   "source": [
    "Посмотрим описательные статистики по продажам"
   ]
  },
  {
   "cell_type": "code",
   "execution_count": 62,
   "metadata": {},
   "outputs": [
    {
     "data": {
      "text/html": [
       "<div>\n",
       "<style scoped>\n",
       "    .dataframe tbody tr th:only-of-type {\n",
       "        vertical-align: middle;\n",
       "    }\n",
       "\n",
       "    .dataframe tbody tr th {\n",
       "        vertical-align: top;\n",
       "    }\n",
       "\n",
       "    .dataframe thead th {\n",
       "        text-align: right;\n",
       "    }\n",
       "</style>\n",
       "<table border=\"1\" class=\"dataframe\">\n",
       "  <thead>\n",
       "    <tr style=\"text-align: right;\">\n",
       "      <th></th>\n",
       "      <th>total_sales</th>\n",
       "    </tr>\n",
       "  </thead>\n",
       "  <tbody>\n",
       "    <tr>\n",
       "      <th>count</th>\n",
       "      <td>12.000000</td>\n",
       "    </tr>\n",
       "    <tr>\n",
       "      <th>mean</th>\n",
       "      <td>742.774167</td>\n",
       "    </tr>\n",
       "    <tr>\n",
       "      <th>std</th>\n",
       "      <td>479.876035</td>\n",
       "    </tr>\n",
       "    <tr>\n",
       "      <th>min</th>\n",
       "      <td>174.230000</td>\n",
       "    </tr>\n",
       "    <tr>\n",
       "      <th>25%</th>\n",
       "      <td>353.120000</td>\n",
       "    </tr>\n",
       "    <tr>\n",
       "      <th>50%</th>\n",
       "      <td>765.590000</td>\n",
       "    </tr>\n",
       "    <tr>\n",
       "      <th>75%</th>\n",
       "      <td>964.032500</td>\n",
       "    </tr>\n",
       "    <tr>\n",
       "      <th>max</th>\n",
       "      <td>1744.170000</td>\n",
       "    </tr>\n",
       "  </tbody>\n",
       "</table>\n",
       "</div>"
      ],
      "text/plain": [
       "       total_sales\n",
       "count    12.000000\n",
       "mean    742.774167\n",
       "std     479.876035\n",
       "min     174.230000\n",
       "25%     353.120000\n",
       "50%     765.590000\n",
       "75%     964.032500\n",
       "max    1744.170000"
      ]
     },
     "execution_count": 62,
     "metadata": {},
     "output_type": "execute_result"
    }
   ],
   "source": [
    "df_by_genre_sales.describe()"
   ]
  },
  {
   "cell_type": "markdown",
   "metadata": {},
   "source": [
    "Больше всего прибыли принесли игры в жанрах action, sports, shooter. Меньше всего - puzzle, adventure, strategy. Скорее всего это связано с тем, что приключения, стратегии и паззлы - нединамичные устаревшие жанры, в которых медленно развиваются события. Людям интереснее играть в игры \"более динамичных\" жанров . Можем сказать, что жанры с продажами менее 350 млн долларов - жанры, которые плохо продаются и свыше 964 - те, что пользуются спросом"
   ]
  },
  {
   "cell_type": "markdown",
   "metadata": {},
   "source": [
    "### Вывод"
   ]
  },
  {
   "cell_type": "markdown",
   "metadata": {},
   "source": [
    "- Выяснили, что самые продаваемые игры с годом выпуска больше 2001 и среднее время смены одной платформы на другую 5 лет. Сделали вывод, что для дальнейшего анализа нам достаточно взять данные -5 лет, т.е. с 2011 года\n",
    "- Узнали, что продажи по платформам PS3, X360 растут, а по платформам - 3DS, PC,PSV,  WiiU, - падают. При этом они падают меньше 4 лет, так что в следующим году эти платформы скорее всего будут еще актуальны\n",
    "- Самые высоие медиана по продажам у плаформы PS4, самая низкая - у PS2. У платформы Wii есть выброс сверху, у платфомы WiiU - выброс снизу. Самы большой разброс значений у платформы PS3, самый низкий - PS2\n",
    "- В среднем для всех платформ корреляция между продажами и оценкой критиков слабая. Только для одной платформы PS2 - она очень высокая, это связано с тем, что у нас очень мало игр на ней.  Корреляция между продажами и оценкой пользователей тоже слабая и она меньше чем между оценкйо критиков и продажами. При этом корреляция между маленькими продажами и низкими оценками есть, а между высокими оценками и продажами - нет\n",
    "- Больше всего прибыли принесли игры в жанрах action, sports, shooter. Меньше всего - puzzle, adventure, strategy. Скорее всего это связано с тем, что приключения, стратегии и паззлы - нединамичные устаревшие жанры, в которых медленно развиваются события. Людям интереснее играть в игры \"более динамичных\" жанров ."
   ]
  },
  {
   "cell_type": "markdown",
   "metadata": {},
   "source": [
    "### <a id=\"step4\">Шаг 4. Составьте портрет пользователя каждого региона</a>"
   ]
  },
  {
   "cell_type": "markdown",
   "metadata": {},
   "source": [
    "- Определите для пользователя каждого региона (NA, EU, JP):\n",
    "Самые популярные платформы (топ-5). Опишите различия в долях продаж.\n",
    "Самые популярные жанры (топ-5). Поясните разницу."
   ]
  },
  {
   "cell_type": "markdown",
   "metadata": {},
   "source": [
    "Найти топ-5 платформ и топ-5 жанров в каждом регионе - схожие задачи. Напишем общую функцию для их решения.\n",
    "Напишем функцию, которая для каждого региона:\n",
    "- выбирает верхний квантиль по продажам\n",
    "- в выбранных данных находит топ-5 по признаку, который мы передадим как аргумент\n",
    "- строит график зависимости продаж от параметра для топ-5"
   ]
  },
  {
   "cell_type": "code",
   "execution_count": 63,
   "metadata": {},
   "outputs": [],
   "source": [
    "def show_plots_top_param_by_region(data, param):\n",
    "    regions = ['na_sales', 'eu_sales', 'jp_sales']\n",
    "    dict = ({'na_sales':'Северная Америка', 'eu_sales':'Европа', 'jp_sales':'Япония'})\n",
    "    fig, axes = plt.subplots(nrows=1, ncols=3, figsize=(15, 5))\n",
    "    if param == 'platform':\n",
    "        title = 'платформам'\n",
    "        xlab = 'платформы'\n",
    "    else:\n",
    "        title = 'жанрам'\n",
    "        xlab = 'жанры'        \n",
    "    fig.suptitle('Количество продаж по '+title+' в разных регионах', fontsize=16)\n",
    "    i = 0\n",
    "    for region in regions:\n",
    "        quantile_75 = data[region].quantile(0.75)\n",
    "        top_sales = data.loc[df[region] >= quantile_75]\n",
    "        top_group_by_param = top_sales.groupby(param)[region].sum().sort_values(ascending = False).head()\n",
    "        region_title = dict.get(region)\n",
    "        top_group_by_param.plot(kind = 'bar', ax = axes[i], title = region_title);\n",
    "        axes[i].set_xlabel(xlab)\n",
    "        axes[i].set_ylabel('продажи')\n",
    "        i += 1"
   ]
  },
  {
   "cell_type": "markdown",
   "metadata": {},
   "source": [
    "Построим графики для платформ\n"
   ]
  },
  {
   "cell_type": "code",
   "execution_count": 64,
   "metadata": {},
   "outputs": [
    {
     "data": {
      "image/png": "[encoded data removed]",
      "text/plain": [
       "<Figure size 1080x360 with 3 Axes>"
      ]
     },
     "metadata": {
      "needs_background": "light"
     },
     "output_type": "display_data"
    }
   ],
   "source": [
    "show_plots_top_param_by_region(df_actual, 'platform')"
   ]
  },
  {
   "cell_type": "markdown",
   "metadata": {},
   "source": [
    "У нас получился следующий топ - платформ:\n",
    "- Америка: X360, PS3, PS4, XOne, 3DS\n",
    "- Европа: PS3, PS4, X360, 3DS, PC\n",
    "- Япония: 3DS, PS3, PSP, PSV, PS4 \n",
    "\n",
    "При этом есть особенные именно для этого региона платформы:  \n",
    "- В Америке в топ входит платформа XOne, которая не входит в топ для других регионов. \n",
    "- В Европе в топ входит платформа PC, которая не входит в топ для других регионоа\n",
    "- В Японии в топ вхоят платформы PSP, PSV, которые не входят в топ для других регионов"
   ]
  },
  {
   "cell_type": "markdown",
   "metadata": {},
   "source": [
    "Посмотрим доли продаж по разным регионам для разных платформ"
   ]
  },
  {
   "cell_type": "code",
   "execution_count": 65,
   "metadata": {},
   "outputs": [
    {
     "data": {
      "image/png": "[encoded data removed]",
      "text/plain": [
       "<Figure size 1440x720 with 8 Axes>"
      ]
     },
     "metadata": {},
     "output_type": "display_data"
    }
   ],
   "source": [
    "platforms = ['X360','PSP','PS3','PSV','3DS','PS4','XOne','PC','PSP']\n",
    "pivot_table_patform = df_actual.query('platform in @platforms').pivot_table(index = 'platform', values = ['na_sales', 'eu_sales', 'jp_sales','other_sales'], aggfunc = 'sum').T\n",
    "ax = pivot_table_patform.plot(kind = 'pie',subplots=True, figsize=(20, 10),autopct='%1.0f%%', layout = (2,4));\n",
    "\n"
   ]
  },
  {
   "cell_type": "markdown",
   "metadata": {},
   "source": [
    "Япония занимает лидирующую долю в продажах игр на платформах -  PSP, 3DS, PSV. Можно сделать вывод, что в Японии популярны платформы фирм Sony, Nintendo. И это не удивительно, т.к. Nintendo, Sony - японскии компании, \n",
    "Европа занимает лидирующую долю в продажах игр на платформах -  PC, PS4. \n",
    "Северная Америка занимает лидирующую долю в продажах игр на платформах - PS3, X360, XOne. Можно сделать вывод, что в Америке популярны игры компаний Microsoft и Sony"
   ]
  },
  {
   "cell_type": "markdown",
   "metadata": {},
   "source": [
    "- Самые популярные жанры (топ-5). Поясните разницу.\n"
   ]
  },
  {
   "cell_type": "code",
   "execution_count": 66,
   "metadata": {},
   "outputs": [
    {
     "data": {
      "image/png": "[encoded data removed]",
      "text/plain": [
       "<Figure size 1080x360 with 3 Axes>"
      ]
     },
     "metadata": {
      "needs_background": "light"
     },
     "output_type": "display_data"
    }
   ],
   "source": [
    "show_plots_top_param_by_region(df_actual, 'genre')"
   ]
  },
  {
   "cell_type": "markdown",
   "metadata": {},
   "source": [
    "Получился следующий топ жанров:  \n",
    "- Америка: action, shooter, sports, role-playing, misc  \n",
    "- Европа: action, shooter, sports, role-playing, racing\n",
    "- Япония: role-playing, action, misc, platform, sumilation.  \n",
    "\n",
    "В Японии популярны портативные приставки, где в основном игры платоформеры и симуляторы, поэтому они вошли в топ. В остальом топ не сильно отличается дл яразных регионов"
   ]
  },
  {
   "cell_type": "markdown",
   "metadata": {},
   "source": [
    "- Влияет ли рейтинг ESRB на продажи в отдельном регионе?"
   ]
  },
  {
   "cell_type": "markdown",
   "metadata": {},
   "source": [
    "Посотроим матрицу корелляции"
   ]
  },
  {
   "cell_type": "markdown",
   "metadata": {},
   "source": [
    "Построим марицу рассеяния"
   ]
  },
  {
   "cell_type": "code",
   "execution_count": 67,
   "metadata": {},
   "outputs": [
    {
     "data": {
      "image/png": "[encoded data removed]",
      "text/plain": [
       "<Figure size 648x648 with 16 Axes>"
      ]
     },
     "metadata": {
      "needs_background": "light"
     },
     "output_type": "display_data"
    }
   ],
   "source": [
    "df_rating_sales = df_actual[['eu_sales','na_sales','jp_sales','rating_min_age']]\n",
    "pd.plotting.scatter_matrix(df_rating_sales, figsize = (9,9));"
   ]
  },
  {
   "cell_type": "code",
   "execution_count": 68,
   "metadata": {},
   "outputs": [
    {
     "name": "stdout",
     "output_type": "stream",
     "text": [
      "                eu_sales  na_sales  jp_sales  rating_min_age\n",
      "eu_sales        1.000000  0.779753  0.278448        0.093877\n",
      "na_sales        0.779753  1.000000  0.273692        0.093267\n",
      "jp_sales        0.278448  0.273692  1.000000       -0.020596\n",
      "rating_min_age  0.093877  0.093267 -0.020596        1.000000\n"
     ]
    }
   ],
   "source": [
    "print(df_rating_sales.corr());"
   ]
  },
  {
   "cell_type": "markdown",
   "metadata": {},
   "source": [
    "Зависимость между рейтингом и продажами слабая. Видно. что я Японии есть популярность игр для младшего возраста, в Америке же - для взрослых"
   ]
  },
  {
   "cell_type": "markdown",
   "metadata": {},
   "source": [
    "### Вывод"
   ]
  },
  {
   "cell_type": "markdown",
   "metadata": {},
   "source": [
    "У нас получился следующие портреты пользователей:\n",
    "- Америка. Популярные платформы: X360, PS3, PS4, XOne, 3DS. В топ входит платформа XOne, которая не входит в топ для других регионов. Это платформа фирмы Mirosoft, американской компании, поэтому может быть она так популярна на родине. Топ жанров: action, shooter, sports, role-playing, misc. Популярны игры с рейтингом ESRB 18+\n",
    "- Европа: Популярные платформы: PS3, PS4, X360, 3DS, PC. Европа занимает лидирующую долю в продажах игр на платформах -  PC, PS4. Топ жанров: action, shooter, sports, role-playing, racing\n",
    "- Япония: Популярные платформы: 3DS, PS3, PSP, PSV, PS4. В Японии в топ вхоят платформы PSP, PSV, которые не входят в топ для других регионов. Япония занимает лидирующую долю в продажах игр на платформах -  PSP, 3DS, PSV. Можно сделать вывод, что в Японии популярны платформы фирм Sony, Nintendo. И это не удивительно, т.к. Nintendo, Sony - японскии компании. Топ жанров: role-playing, action, misc, platform, sumilation. В Японии популярны портативные приставки, где в основном игры платоформеры и симуляторы, поэтому они вошли в топ. В остальом топ не сильно отличается для разных регионов. В Японии популярны игры для младшего возраста\n",
    "\n",
    "Зависимость между рейтингом ESRB и продажами слабая"
   ]
  },
  {
   "cell_type": "markdown",
   "metadata": {},
   "source": [
    "### <a id=\"step5\">Шаг 5. Проверка гипотез</a>"
   ]
  },
  {
   "cell_type": "markdown",
   "metadata": {},
   "source": [
    "- Средние пользовательские рейтинги платформ Xbox One и PC одинаковые;\n"
   ]
  },
  {
   "cell_type": "markdown",
   "metadata": {},
   "source": [
    "Выдвинем следующие гипотезы:\n",
    "- Нулевая гипотеза: средние пользовательские рейтинги платформ Xbox One и PC одинаковые\n",
    "- Альтернативная гипотеза: Средние пользовательские рейтинги платформ Xbox One и PC не равны"
   ]
  },
  {
   "cell_type": "markdown",
   "metadata": {},
   "source": [
    "Создадим выборки для платформ Xbox One и PC"
   ]
  },
  {
   "cell_type": "code",
   "execution_count": 69,
   "metadata": {},
   "outputs": [],
   "source": [
    "xbox_one_df = df_actual.query('platform == \"XOne\"')['user_score']\n",
    "pc_df = df_actual.query('platform == \"PC\"')['user_score']"
   ]
  },
  {
   "cell_type": "markdown",
   "metadata": {},
   "source": [
    "Для того, чтобы понять какой тест можем использовать, нам нужно проверить наши распределения на нормальность. Воспользуемся критерием Шапиро"
   ]
  },
  {
   "cell_type": "code",
   "execution_count": 70,
   "metadata": {},
   "outputs": [
    {
     "name": "stdout",
     "output_type": "stream",
     "text": [
      "(0.9408451914787292, 5.261505120479626e-10)\n",
      "(0.9504857063293457, 1.5265110278050997e-06)\n"
     ]
    }
   ],
   "source": [
    "from scipy.stats import shapiro\n",
    "print(shapiro(pc_df.dropna()))\n",
    "print(shapiro(xbox_one_df.dropna()))"
   ]
  },
  {
   "cell_type": "markdown",
   "metadata": {},
   "source": [
    "Мы получили слишком малое p-value < 0.05 не можем использовать t-test"
   ]
  },
  {
   "cell_type": "markdown",
   "metadata": {},
   "source": [
    "Зададим критический уровень значимости равный 0.05. При проверки будем использовать критерий Манна Уитни для сравнения средних двух генеральных совокупностей. "
   ]
  },
  {
   "cell_type": "code",
   "execution_count": 71,
   "metadata": {},
   "outputs": [
    {
     "name": "stdout",
     "output_type": "stream",
     "text": [
      "p-значение: 0.4283856304517803\n",
      "Не получилось отвергнуть нулевую гипотезу\n"
     ]
    }
   ],
   "source": [
    "alpha = .05\n",
    "\n",
    "results = st.mannwhitneyu(\n",
    "    xbox_one_df.dropna(), \n",
    "    pc_df.dropna())\n",
    "\n",
    "print('p-значение:', results.pvalue)\n",
    "\n",
    "if (results.pvalue < alpha):\n",
    "    print(\"Отвергаем нулевую гипотезу\")\n",
    "else:\n",
    "    print(\"Не получилось отвергнуть нулевую гипотезу\")"
   ]
  },
  {
   "cell_type": "markdown",
   "metadata": {},
   "source": [
    "В результате проверки получилось, что p-value больше чем критический уровень значимости. Отсюда следует, что при выбранном уровне значимости в 0.05 мы не можем отвергнуть нулевую гипотезу, что средние пользовательские рейтинги платформ Xbox One и PC одинаковые"
   ]
  },
  {
   "cell_type": "markdown",
   "metadata": {},
   "source": [
    "- Средние пользовательские рейтинги жанров Action (англ. «действие», экшен-игры) и Sports (англ. «спортивные соревнования») разные."
   ]
  },
  {
   "cell_type": "markdown",
   "metadata": {},
   "source": [
    "Выдвинем следующие гипотезы:\n",
    "- Нулевая гипотеза: средние пользовательские рейтинги жанров Action (англ. «действие», экшен-игры) и Sports (англ. «спортивные соревнования») одинаковые.\n",
    "- Альтернативная гипотеза: средние пользовательские рейтинги жанров Action (англ. «действие», экшен-игры) и Sports (англ. «спортивные соревнования») разные."
   ]
  },
  {
   "cell_type": "markdown",
   "metadata": {},
   "source": [
    "Создадим выборки для жанров action, sports"
   ]
  },
  {
   "cell_type": "code",
   "execution_count": 72,
   "metadata": {},
   "outputs": [],
   "source": [
    "action_df = df_actual.query('genre == \"Action\"')['user_score']\n",
    "sports_df = df_actual.query('genre == \"Sports\"')['user_score']"
   ]
  },
  {
   "cell_type": "markdown",
   "metadata": {},
   "source": [
    "Для того, чтобы понять какой тест можем использовать, нам нужно проверить наши распределения на нормальность. Воспользуемся критерием Шапиро"
   ]
  },
  {
   "cell_type": "code",
   "execution_count": 73,
   "metadata": {},
   "outputs": [
    {
     "name": "stdout",
     "output_type": "stream",
     "text": [
      "(0.9322226643562317, 2.4995092345395005e-18)\n",
      "(0.9581581354141235, 2.322995555914531e-07)\n"
     ]
    }
   ],
   "source": [
    "from scipy.stats import shapiro\n",
    "print(shapiro(action_df.dropna()))\n",
    "print(shapiro(sports_df.dropna()))"
   ]
  },
  {
   "cell_type": "markdown",
   "metadata": {},
   "source": [
    "Мы получили слишком малое p-value < 0.05 не можем использовать t-test"
   ]
  },
  {
   "cell_type": "markdown",
   "metadata": {},
   "source": [
    "Зададим критический уровень значимости равный 0.05. При проверки будем использовать критерий Манна Уитни для сравнения средних двух генеральных совокупностей. "
   ]
  },
  {
   "cell_type": "code",
   "execution_count": 74,
   "metadata": {},
   "outputs": [
    {
     "name": "stdout",
     "output_type": "stream",
     "text": [
      "p-значение: 2.926793604198302e-25\n",
      "Отвергаем нулевую гипотезу\n"
     ]
    }
   ],
   "source": [
    "alpha = .05\n",
    "\n",
    "results = st.mannwhitneyu(\n",
    "    action_df.dropna(), \n",
    "    sports_df.dropna())\n",
    "\n",
    "print('p-значение:', results.pvalue)\n",
    "\n",
    "if (results.pvalue < alpha):\n",
    "    print(\"Отвергаем нулевую гипотезу\")\n",
    "else:\n",
    "    print(\"Не получилось отвергнуть нулевую гипотезу\")"
   ]
  },
  {
   "cell_type": "markdown",
   "metadata": {},
   "source": [
    "В результате проверки получилось, что p-value меньше чем критический уровеь значимости. Отсюда следует, что мы отвергаем нулевую гипотезу.Средние пользовательские рейтинги жанров Action (англ. «действие», экшен-игры) и Sports (англ. «спортивные соревнования») разные."
   ]
  },
  {
   "cell_type": "markdown",
   "metadata": {},
   "source": [
    "### Вывод"
   ]
  },
  {
   "cell_type": "markdown",
   "metadata": {},
   "source": [
    "Проверили гипотезы. Можем следлать следующие выводы:\n",
    "- Средние пользовательские рейтинги жанров Action (англ. «действие», экшен-игры) и Sports (англ. «спортивные соревнования») разные.\n",
    "- При выбранном уровне значимости в 0.05 мы не можем отвергнуть гипотезу, что средние пользовательские рейтинги платформ Xbox One и PC одинаковые"
   ]
  },
  {
   "cell_type": "markdown",
   "metadata": {},
   "source": [
    "### <a id=\"step6\">Шаг 6. Общий вывод</a>"
   ]
  },
  {
   "cell_type": "markdown",
   "metadata": {},
   "source": [
    "В проекте проанализировали данные о продажах игр, оценке пользователей и экспертов, жанрах и платформах с с целью выявить закономерности, определяющие успешность игры, чтобы спланировать продажи на 2017 год и понять каков принцип работы с данными для планирования продаж в следующих годов.\n",
    "Обработали пропуски и удалили дубликаты, чтобы получить более информатичные данные. \n",
    "\n",
    "При планировании продаж на 2017 год нам стоит обратить внимание на следующие моменты:\n",
    "- Обратить внимание на игры на платформы PS3, X360. Продажи по ним растут и еще не прошло 5 лет с их появления, так что в дальнейшем скорее всего они будут популярны\n",
    "- Не брать в продажу игры с низкой оценкой пользователей и критиков, по ним будут низкие продажи\n",
    "- При сегментировании рекламы стоит обратить внимание на следующие моменты:\n",
    "    - Северная Америка. Популярные платформы: X360, PS3, PS4, XOne, 3DS. Топ жанров: action, shooter, sports. Популярны игры с рейтингом ESRB 18+\n",
    "    - Европа: Популярные платформы: PS3, PS4, X360, 3DS, PC. Европа занимает лидирующую долю в продажах игр на платформах -  PC, PS4. Топ жанров: action, shooter, sports\n",
    "    - Япония: Популярные платформы: 3DS, PS3, PSP, PSV, PS4. Топ жанров: role-playing, action, misc, platform, sumilation. В Японии популярны игры для младшего возраста\n",
    "\n",
    "\n",
    "При планировании продаж в следущих годах нам стоит выявить следующие вещи:\n",
    "- Взять данные за последние 10 лет. \n",
    "- Посмотреть какое время смены одной платформы на другую. В зависимости от этого времени отсечь ненужные данные.\n",
    "- Выявить самые популярные платформы и те, по которым идет рост/спад в продажах и посмотреть сколько лет уже живет плафторма. В зависимости от этого можно сделать вывод стоит вкладывать в закупку игр на той или иной платформе. \n",
    "- Посмотреть какие жанры приносят больше всего прибыли, какие - меньше всего\n",
    "- Просегментировать игры по регионам, составить топ-5 платформ, жанров по регионам. Посмотреть игр для какого возраста покупают больше втом или ином регионе. Просегментировать рекламу в зависимости от результата"
   ]
  }
 ],
 "metadata": {
  "kernelspec": {
   "display_name": "Python 3",
   "language": "python",
   "name": "python3"
  },
  "language_info": {
   "codemirror_mode": {
    "name": "ipython",
    "version": 3
   },
   "file_extension": ".py",
   "mimetype": "text/x-python",
   "name": "python",
   "nbconvert_exporter": "python",
   "pygments_lexer": "ipython3",
   "version": "3.6.4"
  }
 },
 "nbformat": 4,
 "nbformat_minor": 1
}
